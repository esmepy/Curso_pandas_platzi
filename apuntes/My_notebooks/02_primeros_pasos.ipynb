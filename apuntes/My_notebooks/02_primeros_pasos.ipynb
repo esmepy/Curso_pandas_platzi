{
  "nbformat": 4,
  "nbformat_minor": 2,
  "metadata": {
    "colab": {
      "name": "1 primeros pasos.ipynb",
      "provenance": [],
      "collapsed_sections": [],
      "include_colab_link": true
    },
    "kernelspec": {
      "name": "python3",
      "display_name": "Python 3"
    }
  },
  "cells": [
    {
      "cell_type": "markdown",
      "source": [
        "# Primeros pasos"
      ],
      "metadata": {
        "id": "view-in-github",
        "colab_type": "text"
      }
    },
    {
      "cell_type": "code",
      "execution_count": null,
      "source": [
        "2*3"
      ],
      "outputs": [
        {
          "output_type": "execute_result",
          "data": {
            "text/plain": [
              "6"
            ]
          },
          "metadata": {
            "tags": []
          },
          "execution_count": 4
        }
      ],
      "metadata": {
        "id": "T0V5kWtc-isy",
        "colab": {
          "base_uri": "https://localhost:8080/",
          "height": 34
        },
        "outputId": "4c8c97c1-95a8-4b03-e1a5-e47d7abf75dd"
      }
    },
    {
      "cell_type": "code",
      "execution_count": null,
      "source": [
        "2**3"
      ],
      "outputs": [
        {
          "output_type": "execute_result",
          "data": {
            "text/plain": [
              "8"
            ]
          },
          "metadata": {
            "tags": []
          },
          "execution_count": 5
        }
      ],
      "metadata": {
        "id": "90ZLdcWA-rZp",
        "colab": {
          "base_uri": "https://localhost:8080/",
          "height": 34
        },
        "outputId": "62defa5b-8aa0-4b49-e114-925c6f52153c"
      }
    },
    {
      "cell_type": "code",
      "execution_count": null,
      "source": [
        "x = 12\r\n",
        "x"
      ],
      "outputs": [
        {
          "output_type": "execute_result",
          "data": {
            "text/plain": [
              "12"
            ]
          },
          "metadata": {
            "tags": []
          },
          "execution_count": 6
        }
      ],
      "metadata": {
        "id": "Yv2kU9P8-sfu",
        "colab": {
          "base_uri": "https://localhost:8080/",
          "height": 34
        },
        "outputId": "68094ff0-6bee-4075-aa88-94d4fb961971"
      }
    },
    {
      "cell_type": "code",
      "execution_count": null,
      "source": [
        "y = 15"
      ],
      "outputs": [],
      "metadata": {
        "id": "tsQACOey-vYb"
      }
    },
    {
      "cell_type": "code",
      "execution_count": null,
      "source": [
        "x + y"
      ],
      "outputs": [
        {
          "output_type": "execute_result",
          "data": {
            "text/plain": [
              "27"
            ]
          },
          "metadata": {
            "tags": []
          },
          "execution_count": 8
        }
      ],
      "metadata": {
        "id": "gNJPKvu5-08i",
        "colab": {
          "base_uri": "https://localhost:8080/",
          "height": 34
        },
        "outputId": "37965288-851d-46c0-97d7-eff10021bc4d"
      }
    },
    {
      "cell_type": "code",
      "execution_count": null,
      "source": [
        "x = 'Hola'\r\n",
        "y = 'Mundo'\r\n",
        "x + y"
      ],
      "outputs": [
        {
          "output_type": "execute_result",
          "data": {
            "text/plain": [
              "'HolaMundo'"
            ]
          },
          "metadata": {
            "tags": []
          },
          "execution_count": 10
        }
      ],
      "metadata": {
        "id": "1HtMcfrc_DY0",
        "colab": {
          "base_uri": "https://localhost:8080/",
          "height": 34
        },
        "outputId": "a40d14f5-8d45-405a-d3ad-e9c427410903"
      }
    },
    {
      "cell_type": "code",
      "execution_count": null,
      "source": [
        "x +  ' ' +  y"
      ],
      "outputs": [
        {
          "output_type": "execute_result",
          "data": {
            "text/plain": [
              "'Hola Mundo'"
            ]
          },
          "metadata": {
            "tags": []
          },
          "execution_count": 11
        }
      ],
      "metadata": {
        "id": "qJGnM6eN_HUL",
        "colab": {
          "base_uri": "https://localhost:8080/",
          "height": 34
        },
        "outputId": "e086fb11-2472-4afc-9022-39c509a82b17"
      }
    },
    {
      "cell_type": "code",
      "execution_count": null,
      "source": [
        "[1,2,3,4] + [2,3,4]"
      ],
      "outputs": [
        {
          "output_type": "execute_result",
          "data": {
            "text/plain": [
              "[1, 2, 3, 4, 2, 3, 4]"
            ]
          },
          "metadata": {
            "tags": []
          },
          "execution_count": 13
        }
      ],
      "metadata": {
        "id": "8YZK59xs_Rwf",
        "colab": {
          "base_uri": "https://localhost:8080/",
          "height": 34
        },
        "outputId": "87171fe3-c60f-48c2-e9c0-71b52ace61dd"
      }
    },
    {
      "cell_type": "code",
      "execution_count": null,
      "source": [
        "lista = [1,2,3,4,5]"
      ],
      "outputs": [],
      "metadata": {
        "id": "mA_HX6ZV_Vem"
      }
    },
    {
      "cell_type": "code",
      "execution_count": null,
      "source": [
        "lista[0]"
      ],
      "outputs": [
        {
          "output_type": "execute_result",
          "data": {
            "text/plain": [
              "1"
            ]
          },
          "metadata": {
            "tags": []
          },
          "execution_count": 15
        }
      ],
      "metadata": {
        "id": "vEFbsXcG_pbd",
        "colab": {
          "base_uri": "https://localhost:8080/",
          "height": 34
        },
        "outputId": "a84d6535-f046-4a28-e945-95748968bace"
      }
    },
    {
      "cell_type": "code",
      "execution_count": null,
      "source": [
        "lista[2]"
      ],
      "outputs": [
        {
          "output_type": "execute_result",
          "data": {
            "text/plain": [
              "3"
            ]
          },
          "metadata": {
            "tags": []
          },
          "execution_count": 16
        }
      ],
      "metadata": {
        "id": "lQgoIWI4_tZV",
        "colab": {
          "base_uri": "https://localhost:8080/",
          "height": 34
        },
        "outputId": "aee3fff3-0a53-4367-d69e-414124331433"
      }
    },
    {
      "cell_type": "code",
      "execution_count": null,
      "source": [
        "lista[-1]"
      ],
      "outputs": [
        {
          "output_type": "execute_result",
          "data": {
            "text/plain": [
              "5"
            ]
          },
          "metadata": {
            "tags": []
          },
          "execution_count": 17
        }
      ],
      "metadata": {
        "id": "A-qZJ4QJ_x1x",
        "colab": {
          "base_uri": "https://localhost:8080/",
          "height": 34
        },
        "outputId": "0a518e11-c52d-4ea5-a3b0-1725fc056d0e"
      }
    },
    {
      "cell_type": "code",
      "execution_count": null,
      "source": [
        "[1,2,3,4,5] + [10]"
      ],
      "outputs": [
        {
          "output_type": "execute_result",
          "data": {
            "text/plain": [
              "[1, 2, 3, 4, 5, 10]"
            ]
          },
          "metadata": {
            "tags": []
          },
          "execution_count": 18
        }
      ],
      "metadata": {
        "id": "NaECeQUn_z82",
        "colab": {
          "base_uri": "https://localhost:8080/",
          "height": 34
        },
        "outputId": "409aec92-1c0b-42b9-dc38-ceb66d5ec295"
      }
    },
    {
      "cell_type": "markdown",
      "source": [],
      "metadata": {}
    },
    {
      "cell_type": "code",
      "execution_count": null,
      "source": [
        "import numpy as np"
      ],
      "outputs": [],
      "metadata": {
        "id": "Qx4llnnz_4mc"
      }
    },
    {
      "cell_type": "code",
      "execution_count": null,
      "source": [
        "np.array([1,2,3,4,5])"
      ],
      "outputs": [
        {
          "output_type": "execute_result",
          "data": {
            "text/plain": [
              "array([1, 2, 3, 4, 5])"
            ]
          },
          "metadata": {
            "tags": []
          },
          "execution_count": 20
        }
      ],
      "metadata": {
        "id": "pp64-zO7_99J",
        "colab": {
          "base_uri": "https://localhost:8080/",
          "height": 34
        },
        "outputId": "4665d33b-9598-4a23-e28f-7975356b1489"
      }
    },
    {
      "cell_type": "code",
      "execution_count": null,
      "source": [
        "np.array([1,2,3,4,5]) + 10"
      ],
      "outputs": [
        {
          "output_type": "execute_result",
          "data": {
            "text/plain": [
              "array([11, 12, 13, 14, 15])"
            ]
          },
          "metadata": {
            "tags": []
          },
          "execution_count": 21
        }
      ],
      "metadata": {
        "id": "dnGr9b0xACyK",
        "colab": {
          "base_uri": "https://localhost:8080/",
          "height": 34
        },
        "outputId": "39c96eef-7bb1-4664-a7fd-ca581c2a9019"
      }
    },
    {
      "cell_type": "code",
      "execution_count": null,
      "source": [
        "np.array([1,2,3,4,5]).shape"
      ],
      "outputs": [
        {
          "output_type": "execute_result",
          "data": {
            "text/plain": [
              "(5,)"
            ]
          },
          "metadata": {
            "tags": []
          },
          "execution_count": 22
        }
      ],
      "metadata": {
        "id": "UdXq5zrfAF3B",
        "colab": {
          "base_uri": "https://localhost:8080/",
          "height": 34
        },
        "outputId": "406e4c76-b9a9-44f3-da8e-3889681a0013"
      }
    },
    {
      "cell_type": "code",
      "execution_count": null,
      "source": [
        "np.array([[1,2,3,4],[6,7,8,9]])"
      ],
      "outputs": [
        {
          "output_type": "execute_result",
          "data": {
            "text/plain": [
              "array([[1, 2, 3, 4],\n",
              "       [6, 7, 8, 9]])"
            ]
          },
          "metadata": {
            "tags": []
          },
          "execution_count": 23
        }
      ],
      "metadata": {
        "id": "1qkvV7q7AJdu",
        "colab": {
          "base_uri": "https://localhost:8080/",
          "height": 51
        },
        "outputId": "5174e4d6-d222-45cd-c5c4-d957c2bf9a87"
      }
    },
    {
      "cell_type": "code",
      "execution_count": null,
      "source": [
        "np.array([[1,2,3,4],[6,7,8,9]]).shape"
      ],
      "outputs": [
        {
          "output_type": "execute_result",
          "data": {
            "text/plain": [
              "(2, 4)"
            ]
          },
          "metadata": {
            "tags": []
          },
          "execution_count": 24
        }
      ],
      "metadata": {
        "id": "iF0hM9QIAQYr",
        "colab": {
          "base_uri": "https://localhost:8080/",
          "height": 34
        },
        "outputId": "14a42196-28b2-4094-d012-0b6134bf7073"
      }
    },
    {
      "cell_type": "code",
      "execution_count": null,
      "source": [
        "np.array([[1,2,3,4],[6,7,8,9]])[0]"
      ],
      "outputs": [
        {
          "output_type": "execute_result",
          "data": {
            "text/plain": [
              "array([1, 2, 3, 4])"
            ]
          },
          "metadata": {
            "tags": []
          },
          "execution_count": 25
        }
      ],
      "metadata": {
        "id": "NKIQ2CqgASaI",
        "colab": {
          "base_uri": "https://localhost:8080/",
          "height": 34
        },
        "outputId": "7d9f51ef-c51c-479f-88c0-f64df61d80cc"
      }
    }
  ]
}