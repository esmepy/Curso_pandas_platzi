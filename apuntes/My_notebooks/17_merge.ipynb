{
  "nbformat": 4,
  "nbformat_minor": 2,
  "metadata": {
    "colab": {
      "name": "9 merge.ipynb",
      "provenance": [],
      "collapsed_sections": [],
      "include_colab_link": true
    },
    "kernelspec": {
      "name": "python3",
      "display_name": "Python 3"
    }
  },
  "cells": [
    {
      "cell_type": "code",
      "execution_count": null,
      "source": [
        "import pandas as pd"
      ],
      "outputs": [],
      "metadata": {}
    },
    {
      "cell_type": "code",
      "execution_count": null,
      "source": [
        "df_left = pd.DataFrame(\r\n",
        "                      {'X': ['x0', 'x1', 'x2', 'x3'],\r\n",
        "                        'W': ['w0', 'w1', 'w2', 'w3'], \r\n",
        "                        'Y': ['y0', 'y1', 'y2', 'y3'] },\r\n",
        "                       index=[0,1,2,3])\r\n",
        "df_left"
      ],
      "outputs": [
        {
          "output_type": "execute_result",
          "data": {
            "text/plain": [
              "    X   W   Y\n",
              "0  x0  w0  y0\n",
              "1  x1  w1  y1\n",
              "2  x2  w2  y2\n",
              "3  x3  w3  y3"
            ],
            "text/html": [
              "<div>\n",
              "<style scoped>\n",
              "    .dataframe tbody tr th:only-of-type {\n",
              "        vertical-align: middle;\n",
              "    }\n",
              "\n",
              "    .dataframe tbody tr th {\n",
              "        vertical-align: top;\n",
              "    }\n",
              "\n",
              "    .dataframe thead th {\n",
              "        text-align: right;\n",
              "    }\n",
              "</style>\n",
              "<table border=\"1\" class=\"dataframe\">\n",
              "  <thead>\n",
              "    <tr style=\"text-align: right;\">\n",
              "      <th></th>\n",
              "      <th>X</th>\n",
              "      <th>W</th>\n",
              "      <th>Y</th>\n",
              "    </tr>\n",
              "  </thead>\n",
              "  <tbody>\n",
              "    <tr>\n",
              "      <th>0</th>\n",
              "      <td>x0</td>\n",
              "      <td>w0</td>\n",
              "      <td>y0</td>\n",
              "    </tr>\n",
              "    <tr>\n",
              "      <th>1</th>\n",
              "      <td>x1</td>\n",
              "      <td>w1</td>\n",
              "      <td>y1</td>\n",
              "    </tr>\n",
              "    <tr>\n",
              "      <th>2</th>\n",
              "      <td>x2</td>\n",
              "      <td>w2</td>\n",
              "      <td>y2</td>\n",
              "    </tr>\n",
              "    <tr>\n",
              "      <th>3</th>\n",
              "      <td>x3</td>\n",
              "      <td>w3</td>\n",
              "      <td>y3</td>\n",
              "    </tr>\n",
              "  </tbody>\n",
              "</table>\n",
              "</div>"
            ]
          },
          "metadata": {
            "tags": []
          },
          "execution_count": 10
        }
      ],
      "metadata": {
        "id": "qqWFBdiooUAG",
        "colab": {
          "base_uri": "https://localhost:8080/",
          "height": 175
        },
        "outputId": "2af10093-10f7-475d-cbe6-ad1700a0d748"
      }
    },
    {
      "cell_type": "code",
      "execution_count": null,
      "source": [
        "df_right = pd.DataFrame(\r\n",
        "                       {'Z': ['z2', 'z3', 'z4', 'z5'],\r\n",
        "                         'A': ['a2', 'a3', 'a4', 'a5'], \r\n",
        "                         'Y': ['y2', 'y3', 'y4', 'y5']},\r\n",
        "                        index=[2,3,4,5])\r\n",
        "df_right"
      ],
      "outputs": [
        {
          "output_type": "execute_result",
          "data": {
            "text/plain": [
              "    Z   A   Y\n",
              "2  z2  a2  y2\n",
              "3  z3  a3  y3\n",
              "4  z4  a4  y4\n",
              "5  z5  a5  y5"
            ],
            "text/html": [
              "<div>\n",
              "<style scoped>\n",
              "    .dataframe tbody tr th:only-of-type {\n",
              "        vertical-align: middle;\n",
              "    }\n",
              "\n",
              "    .dataframe tbody tr th {\n",
              "        vertical-align: top;\n",
              "    }\n",
              "\n",
              "    .dataframe thead th {\n",
              "        text-align: right;\n",
              "    }\n",
              "</style>\n",
              "<table border=\"1\" class=\"dataframe\">\n",
              "  <thead>\n",
              "    <tr style=\"text-align: right;\">\n",
              "      <th></th>\n",
              "      <th>Z</th>\n",
              "      <th>A</th>\n",
              "      <th>Y</th>\n",
              "    </tr>\n",
              "  </thead>\n",
              "  <tbody>\n",
              "    <tr>\n",
              "      <th>2</th>\n",
              "      <td>z2</td>\n",
              "      <td>a2</td>\n",
              "      <td>y2</td>\n",
              "    </tr>\n",
              "    <tr>\n",
              "      <th>3</th>\n",
              "      <td>z3</td>\n",
              "      <td>a3</td>\n",
              "      <td>y3</td>\n",
              "    </tr>\n",
              "    <tr>\n",
              "      <th>4</th>\n",
              "      <td>z4</td>\n",
              "      <td>a4</td>\n",
              "      <td>y4</td>\n",
              "    </tr>\n",
              "    <tr>\n",
              "      <th>5</th>\n",
              "      <td>z5</td>\n",
              "      <td>a5</td>\n",
              "      <td>y5</td>\n",
              "    </tr>\n",
              "  </tbody>\n",
              "</table>\n",
              "</div>"
            ]
          },
          "metadata": {
            "tags": []
          },
          "execution_count": 11
        }
      ],
      "metadata": {
        "id": "B_JNCsHooWdZ",
        "colab": {
          "base_uri": "https://localhost:8080/",
          "height": 175
        },
        "outputId": "cfedf177-9552-4df2-a3f6-6faf22f79ad2"
      }
    },
    {
      "cell_type": "code",
      "execution_count": null,
      "source": [
        "pd.merge(df_left, df_right)"
      ],
      "outputs": [
        {
          "output_type": "execute_result",
          "data": {
            "text/plain": [
              "    X   W   Y Mix   Z   A\n",
              "0  x2  w2  y2  a2  z2  a2\n",
              "1  x3  w3  y3  a3  z3  a3"
            ],
            "text/html": [
              "<div>\n",
              "<style scoped>\n",
              "    .dataframe tbody tr th:only-of-type {\n",
              "        vertical-align: middle;\n",
              "    }\n",
              "\n",
              "    .dataframe tbody tr th {\n",
              "        vertical-align: top;\n",
              "    }\n",
              "\n",
              "    .dataframe thead th {\n",
              "        text-align: right;\n",
              "    }\n",
              "</style>\n",
              "<table border=\"1\" class=\"dataframe\">\n",
              "  <thead>\n",
              "    <tr style=\"text-align: right;\">\n",
              "      <th></th>\n",
              "      <th>X</th>\n",
              "      <th>W</th>\n",
              "      <th>Y</th>\n",
              "      <th>Mix</th>\n",
              "      <th>Z</th>\n",
              "      <th>A</th>\n",
              "    </tr>\n",
              "  </thead>\n",
              "  <tbody>\n",
              "    <tr>\n",
              "      <th>0</th>\n",
              "      <td>x2</td>\n",
              "      <td>w2</td>\n",
              "      <td>y2</td>\n",
              "      <td>a2</td>\n",
              "      <td>z2</td>\n",
              "      <td>a2</td>\n",
              "    </tr>\n",
              "    <tr>\n",
              "      <th>1</th>\n",
              "      <td>x3</td>\n",
              "      <td>w3</td>\n",
              "      <td>y3</td>\n",
              "      <td>a3</td>\n",
              "      <td>z3</td>\n",
              "      <td>a3</td>\n",
              "    </tr>\n",
              "  </tbody>\n",
              "</table>\n",
              "</div>"
            ]
          },
          "metadata": {
            "tags": []
          },
          "execution_count": 6
        }
      ],
      "metadata": {
        "id": "djfE1R5Vo_yF",
        "colab": {
          "base_uri": "https://localhost:8080/",
          "height": 112
        },
        "outputId": "bf883a6d-0dad-4418-a77d-462f02fe0a2e"
      }
    },
    {
      "cell_type": "code",
      "execution_count": null,
      "source": [
        "pd.merge(df_left, df_right, how = 'inner', on = 'Y')"
      ],
      "outputs": [
        {
          "output_type": "execute_result",
          "data": {
            "text/plain": [
              "    X   W   Y Mix   Z   A\n",
              "0  x2  w2  y2  a2  z2  a2\n",
              "1  x3  w3  y3  a3  z3  a3"
            ],
            "text/html": [
              "<div>\n",
              "<style scoped>\n",
              "    .dataframe tbody tr th:only-of-type {\n",
              "        vertical-align: middle;\n",
              "    }\n",
              "\n",
              "    .dataframe tbody tr th {\n",
              "        vertical-align: top;\n",
              "    }\n",
              "\n",
              "    .dataframe thead th {\n",
              "        text-align: right;\n",
              "    }\n",
              "</style>\n",
              "<table border=\"1\" class=\"dataframe\">\n",
              "  <thead>\n",
              "    <tr style=\"text-align: right;\">\n",
              "      <th></th>\n",
              "      <th>X</th>\n",
              "      <th>W</th>\n",
              "      <th>Y</th>\n",
              "      <th>Mix</th>\n",
              "      <th>Z</th>\n",
              "      <th>A</th>\n",
              "    </tr>\n",
              "  </thead>\n",
              "  <tbody>\n",
              "    <tr>\n",
              "      <th>0</th>\n",
              "      <td>x2</td>\n",
              "      <td>w2</td>\n",
              "      <td>y2</td>\n",
              "      <td>a2</td>\n",
              "      <td>z2</td>\n",
              "      <td>a2</td>\n",
              "    </tr>\n",
              "    <tr>\n",
              "      <th>1</th>\n",
              "      <td>x3</td>\n",
              "      <td>w3</td>\n",
              "      <td>y3</td>\n",
              "      <td>a3</td>\n",
              "      <td>z3</td>\n",
              "      <td>a3</td>\n",
              "    </tr>\n",
              "  </tbody>\n",
              "</table>\n",
              "</div>"
            ]
          },
          "metadata": {
            "tags": []
          },
          "execution_count": 7
        }
      ],
      "metadata": {
        "id": "_3z7s5aTpMAz",
        "colab": {
          "base_uri": "https://localhost:8080/",
          "height": 112
        },
        "outputId": "84b7afa3-a3c5-4f8d-886e-30ae13ef0a39"
      }
    },
    {
      "cell_type": "code",
      "execution_count": null,
      "source": [
        "pd.merge(df_left, df_right, how = 'inner', left_on = 'Mix', right_on = 'Y')"
      ],
      "outputs": [
        {
          "output_type": "execute_result",
          "data": {
            "text/plain": [
              "    X   W Y_x Mix   Z   A Y_y\n",
              "0  x0  w0  y0  y2  z2  a2  y2\n",
              "1  x1  w1  y1  y3  z3  a3  y3"
            ],
            "text/html": [
              "<div>\n",
              "<style scoped>\n",
              "    .dataframe tbody tr th:only-of-type {\n",
              "        vertical-align: middle;\n",
              "    }\n",
              "\n",
              "    .dataframe tbody tr th {\n",
              "        vertical-align: top;\n",
              "    }\n",
              "\n",
              "    .dataframe thead th {\n",
              "        text-align: right;\n",
              "    }\n",
              "</style>\n",
              "<table border=\"1\" class=\"dataframe\">\n",
              "  <thead>\n",
              "    <tr style=\"text-align: right;\">\n",
              "      <th></th>\n",
              "      <th>X</th>\n",
              "      <th>W</th>\n",
              "      <th>Y_x</th>\n",
              "      <th>Mix</th>\n",
              "      <th>Z</th>\n",
              "      <th>A</th>\n",
              "      <th>Y_y</th>\n",
              "    </tr>\n",
              "  </thead>\n",
              "  <tbody>\n",
              "    <tr>\n",
              "      <th>0</th>\n",
              "      <td>x0</td>\n",
              "      <td>w0</td>\n",
              "      <td>y0</td>\n",
              "      <td>y2</td>\n",
              "      <td>z2</td>\n",
              "      <td>a2</td>\n",
              "      <td>y2</td>\n",
              "    </tr>\n",
              "    <tr>\n",
              "      <th>1</th>\n",
              "      <td>x1</td>\n",
              "      <td>w1</td>\n",
              "      <td>y1</td>\n",
              "      <td>y3</td>\n",
              "      <td>z3</td>\n",
              "      <td>a3</td>\n",
              "      <td>y3</td>\n",
              "    </tr>\n",
              "  </tbody>\n",
              "</table>\n",
              "</div>"
            ]
          },
          "metadata": {
            "tags": []
          },
          "execution_count": 8
        }
      ],
      "metadata": {
        "id": "mTeLpLNCpYCI",
        "colab": {
          "base_uri": "https://localhost:8080/",
          "height": 112
        },
        "outputId": "26eec495-c7d6-49d3-9abd-97ed6a8efbe3"
      }
    },
    {
      "cell_type": "code",
      "execution_count": null,
      "source": [
        "pd.merge(df_left, df_right, how = 'inner', left_on = 'Mix', right_on = 'A')"
      ],
      "outputs": [
        {
          "output_type": "execute_result",
          "data": {
            "text/plain": [
              "    X   W Y_x Mix   Z   A Y_y\n",
              "0  x2  w2  y2  a2  z2  a2  y2\n",
              "1  x3  w3  y3  a3  z3  a3  y3"
            ],
            "text/html": [
              "<div>\n",
              "<style scoped>\n",
              "    .dataframe tbody tr th:only-of-type {\n",
              "        vertical-align: middle;\n",
              "    }\n",
              "\n",
              "    .dataframe tbody tr th {\n",
              "        vertical-align: top;\n",
              "    }\n",
              "\n",
              "    .dataframe thead th {\n",
              "        text-align: right;\n",
              "    }\n",
              "</style>\n",
              "<table border=\"1\" class=\"dataframe\">\n",
              "  <thead>\n",
              "    <tr style=\"text-align: right;\">\n",
              "      <th></th>\n",
              "      <th>X</th>\n",
              "      <th>W</th>\n",
              "      <th>Y_x</th>\n",
              "      <th>Mix</th>\n",
              "      <th>Z</th>\n",
              "      <th>A</th>\n",
              "      <th>Y_y</th>\n",
              "    </tr>\n",
              "  </thead>\n",
              "  <tbody>\n",
              "    <tr>\n",
              "      <th>0</th>\n",
              "      <td>x2</td>\n",
              "      <td>w2</td>\n",
              "      <td>y2</td>\n",
              "      <td>a2</td>\n",
              "      <td>z2</td>\n",
              "      <td>a2</td>\n",
              "      <td>y2</td>\n",
              "    </tr>\n",
              "    <tr>\n",
              "      <th>1</th>\n",
              "      <td>x3</td>\n",
              "      <td>w3</td>\n",
              "      <td>y3</td>\n",
              "      <td>a3</td>\n",
              "      <td>z3</td>\n",
              "      <td>a3</td>\n",
              "      <td>y3</td>\n",
              "    </tr>\n",
              "  </tbody>\n",
              "</table>\n",
              "</div>"
            ]
          },
          "metadata": {
            "tags": []
          },
          "execution_count": 9
        }
      ],
      "metadata": {
        "id": "gq-gO2eBpgtG",
        "colab": {
          "base_uri": "https://localhost:8080/",
          "height": 112
        },
        "outputId": "5a559516-d738-4918-9c8f-b8d4e4b65df6"
      }
    },
    {
      "cell_type": "markdown",
      "source": [
        "![](http://www.datasciencemadesimple.com/wp-content/uploads/2017/09/join-or-merge-in-python-pandas-1.png)"
      ],
      "metadata": {
        "id": "dcb9mIWup4OR"
      }
    },
    {
      "cell_type": "code",
      "execution_count": null,
      "source": [
        "pd.merge(df_left, df_right, how = 'inner', on = 'Y')"
      ],
      "outputs": [
        {
          "output_type": "execute_result",
          "data": {
            "text/plain": [
              "    X   W   Y   Z   A\n",
              "0  x2  w2  y2  z2  a2\n",
              "1  x3  w3  y3  z3  a3"
            ],
            "text/html": [
              "<div>\n",
              "<style scoped>\n",
              "    .dataframe tbody tr th:only-of-type {\n",
              "        vertical-align: middle;\n",
              "    }\n",
              "\n",
              "    .dataframe tbody tr th {\n",
              "        vertical-align: top;\n",
              "    }\n",
              "\n",
              "    .dataframe thead th {\n",
              "        text-align: right;\n",
              "    }\n",
              "</style>\n",
              "<table border=\"1\" class=\"dataframe\">\n",
              "  <thead>\n",
              "    <tr style=\"text-align: right;\">\n",
              "      <th></th>\n",
              "      <th>X</th>\n",
              "      <th>W</th>\n",
              "      <th>Y</th>\n",
              "      <th>Z</th>\n",
              "      <th>A</th>\n",
              "    </tr>\n",
              "  </thead>\n",
              "  <tbody>\n",
              "    <tr>\n",
              "      <th>0</th>\n",
              "      <td>x2</td>\n",
              "      <td>w2</td>\n",
              "      <td>y2</td>\n",
              "      <td>z2</td>\n",
              "      <td>a2</td>\n",
              "    </tr>\n",
              "    <tr>\n",
              "      <th>1</th>\n",
              "      <td>x3</td>\n",
              "      <td>w3</td>\n",
              "      <td>y3</td>\n",
              "      <td>z3</td>\n",
              "      <td>a3</td>\n",
              "    </tr>\n",
              "  </tbody>\n",
              "</table>\n",
              "</div>"
            ]
          },
          "metadata": {
            "tags": []
          },
          "execution_count": 12
        }
      ],
      "metadata": {
        "id": "Fv5tqYcppyW7",
        "colab": {
          "base_uri": "https://localhost:8080/",
          "height": 112
        },
        "outputId": "9a00d9f9-eecd-4b78-bd01-b00587b86099"
      }
    },
    {
      "cell_type": "code",
      "execution_count": null,
      "source": [
        "pd.merge(df_left, df_right, how = 'left', on = 'Y')"
      ],
      "outputs": [
        {
          "output_type": "execute_result",
          "data": {
            "text/plain": [
              "    X   W   Y    Z    A\n",
              "0  x0  w0  y0  NaN  NaN\n",
              "1  x1  w1  y1  NaN  NaN\n",
              "2  x2  w2  y2   z2   a2\n",
              "3  x3  w3  y3   z3   a3"
            ],
            "text/html": [
              "<div>\n",
              "<style scoped>\n",
              "    .dataframe tbody tr th:only-of-type {\n",
              "        vertical-align: middle;\n",
              "    }\n",
              "\n",
              "    .dataframe tbody tr th {\n",
              "        vertical-align: top;\n",
              "    }\n",
              "\n",
              "    .dataframe thead th {\n",
              "        text-align: right;\n",
              "    }\n",
              "</style>\n",
              "<table border=\"1\" class=\"dataframe\">\n",
              "  <thead>\n",
              "    <tr style=\"text-align: right;\">\n",
              "      <th></th>\n",
              "      <th>X</th>\n",
              "      <th>W</th>\n",
              "      <th>Y</th>\n",
              "      <th>Z</th>\n",
              "      <th>A</th>\n",
              "    </tr>\n",
              "  </thead>\n",
              "  <tbody>\n",
              "    <tr>\n",
              "      <th>0</th>\n",
              "      <td>x0</td>\n",
              "      <td>w0</td>\n",
              "      <td>y0</td>\n",
              "      <td>NaN</td>\n",
              "      <td>NaN</td>\n",
              "    </tr>\n",
              "    <tr>\n",
              "      <th>1</th>\n",
              "      <td>x1</td>\n",
              "      <td>w1</td>\n",
              "      <td>y1</td>\n",
              "      <td>NaN</td>\n",
              "      <td>NaN</td>\n",
              "    </tr>\n",
              "    <tr>\n",
              "      <th>2</th>\n",
              "      <td>x2</td>\n",
              "      <td>w2</td>\n",
              "      <td>y2</td>\n",
              "      <td>z2</td>\n",
              "      <td>a2</td>\n",
              "    </tr>\n",
              "    <tr>\n",
              "      <th>3</th>\n",
              "      <td>x3</td>\n",
              "      <td>w3</td>\n",
              "      <td>y3</td>\n",
              "      <td>z3</td>\n",
              "      <td>a3</td>\n",
              "    </tr>\n",
              "  </tbody>\n",
              "</table>\n",
              "</div>"
            ]
          },
          "metadata": {
            "tags": []
          },
          "execution_count": 13
        }
      ],
      "metadata": {
        "id": "rNYnW2BfqGCG",
        "colab": {
          "base_uri": "https://localhost:8080/",
          "height": 175
        },
        "outputId": "72de82a5-b39e-4ed3-9e00-dc313c22841e"
      }
    },
    {
      "cell_type": "code",
      "execution_count": null,
      "source": [
        "pd.merge(df_left, df_right, how = 'right', on = 'Y')"
      ],
      "outputs": [
        {
          "output_type": "execute_result",
          "data": {
            "text/plain": [
              "     X    W   Y   Z   A\n",
              "0   x2   w2  y2  z2  a2\n",
              "1   x3   w3  y3  z3  a3\n",
              "2  NaN  NaN  y4  z4  a4\n",
              "3  NaN  NaN  y5  z5  a5"
            ],
            "text/html": [
              "<div>\n",
              "<style scoped>\n",
              "    .dataframe tbody tr th:only-of-type {\n",
              "        vertical-align: middle;\n",
              "    }\n",
              "\n",
              "    .dataframe tbody tr th {\n",
              "        vertical-align: top;\n",
              "    }\n",
              "\n",
              "    .dataframe thead th {\n",
              "        text-align: right;\n",
              "    }\n",
              "</style>\n",
              "<table border=\"1\" class=\"dataframe\">\n",
              "  <thead>\n",
              "    <tr style=\"text-align: right;\">\n",
              "      <th></th>\n",
              "      <th>X</th>\n",
              "      <th>W</th>\n",
              "      <th>Y</th>\n",
              "      <th>Z</th>\n",
              "      <th>A</th>\n",
              "    </tr>\n",
              "  </thead>\n",
              "  <tbody>\n",
              "    <tr>\n",
              "      <th>0</th>\n",
              "      <td>x2</td>\n",
              "      <td>w2</td>\n",
              "      <td>y2</td>\n",
              "      <td>z2</td>\n",
              "      <td>a2</td>\n",
              "    </tr>\n",
              "    <tr>\n",
              "      <th>1</th>\n",
              "      <td>x3</td>\n",
              "      <td>w3</td>\n",
              "      <td>y3</td>\n",
              "      <td>z3</td>\n",
              "      <td>a3</td>\n",
              "    </tr>\n",
              "    <tr>\n",
              "      <th>2</th>\n",
              "      <td>NaN</td>\n",
              "      <td>NaN</td>\n",
              "      <td>y4</td>\n",
              "      <td>z4</td>\n",
              "      <td>a4</td>\n",
              "    </tr>\n",
              "    <tr>\n",
              "      <th>3</th>\n",
              "      <td>NaN</td>\n",
              "      <td>NaN</td>\n",
              "      <td>y5</td>\n",
              "      <td>z5</td>\n",
              "      <td>a5</td>\n",
              "    </tr>\n",
              "  </tbody>\n",
              "</table>\n",
              "</div>"
            ]
          },
          "metadata": {
            "tags": []
          },
          "execution_count": 14
        }
      ],
      "metadata": {
        "id": "uHdQqeszqI5x",
        "colab": {
          "base_uri": "https://localhost:8080/",
          "height": 175
        },
        "outputId": "e27a28af-a0a7-42d1-e921-f2b7fd40a4c9"
      }
    },
    {
      "cell_type": "code",
      "execution_count": null,
      "source": [
        "pd.merge(df_left, df_right, how = 'outer', on = 'Y')"
      ],
      "outputs": [
        {
          "output_type": "execute_result",
          "data": {
            "text/plain": [
              "     X    W   Y    Z    A\n",
              "0   x0   w0  y0  NaN  NaN\n",
              "1   x1   w1  y1  NaN  NaN\n",
              "2   x2   w2  y2   z2   a2\n",
              "3   x3   w3  y3   z3   a3\n",
              "4  NaN  NaN  y4   z4   a4\n",
              "5  NaN  NaN  y5   z5   a5"
            ],
            "text/html": [
              "<div>\n",
              "<style scoped>\n",
              "    .dataframe tbody tr th:only-of-type {\n",
              "        vertical-align: middle;\n",
              "    }\n",
              "\n",
              "    .dataframe tbody tr th {\n",
              "        vertical-align: top;\n",
              "    }\n",
              "\n",
              "    .dataframe thead th {\n",
              "        text-align: right;\n",
              "    }\n",
              "</style>\n",
              "<table border=\"1\" class=\"dataframe\">\n",
              "  <thead>\n",
              "    <tr style=\"text-align: right;\">\n",
              "      <th></th>\n",
              "      <th>X</th>\n",
              "      <th>W</th>\n",
              "      <th>Y</th>\n",
              "      <th>Z</th>\n",
              "      <th>A</th>\n",
              "    </tr>\n",
              "  </thead>\n",
              "  <tbody>\n",
              "    <tr>\n",
              "      <th>0</th>\n",
              "      <td>x0</td>\n",
              "      <td>w0</td>\n",
              "      <td>y0</td>\n",
              "      <td>NaN</td>\n",
              "      <td>NaN</td>\n",
              "    </tr>\n",
              "    <tr>\n",
              "      <th>1</th>\n",
              "      <td>x1</td>\n",
              "      <td>w1</td>\n",
              "      <td>y1</td>\n",
              "      <td>NaN</td>\n",
              "      <td>NaN</td>\n",
              "    </tr>\n",
              "    <tr>\n",
              "      <th>2</th>\n",
              "      <td>x2</td>\n",
              "      <td>w2</td>\n",
              "      <td>y2</td>\n",
              "      <td>z2</td>\n",
              "      <td>a2</td>\n",
              "    </tr>\n",
              "    <tr>\n",
              "      <th>3</th>\n",
              "      <td>x3</td>\n",
              "      <td>w3</td>\n",
              "      <td>y3</td>\n",
              "      <td>z3</td>\n",
              "      <td>a3</td>\n",
              "    </tr>\n",
              "    <tr>\n",
              "      <th>4</th>\n",
              "      <td>NaN</td>\n",
              "      <td>NaN</td>\n",
              "      <td>y4</td>\n",
              "      <td>z4</td>\n",
              "      <td>a4</td>\n",
              "    </tr>\n",
              "    <tr>\n",
              "      <th>5</th>\n",
              "      <td>NaN</td>\n",
              "      <td>NaN</td>\n",
              "      <td>y5</td>\n",
              "      <td>z5</td>\n",
              "      <td>a5</td>\n",
              "    </tr>\n",
              "  </tbody>\n",
              "</table>\n",
              "</div>"
            ]
          },
          "metadata": {
            "tags": []
          },
          "execution_count": 15
        }
      ],
      "metadata": {
        "id": "zNssee28qMs8",
        "colab": {
          "base_uri": "https://localhost:8080/",
          "height": 238
        },
        "outputId": "767904b0-7817-4b4d-a080-33a301812903"
      }
    },
    {
      "cell_type": "code",
      "execution_count": null,
      "source": [
        "df_left = pd.DataFrame(\n",
        "                      {'X': ['x0', 'x1', 'x2', 'x3'],\n",
        "                        'W': ['w0', 'w1', 'w2', 'w3'], \n",
        "                        'Y': ['y0', 'y1', 'y2', 'y3'],\n",
        "                        'A': ['a0', 'a1', 'a2', 'a3'],})\n",
        "df_left"
      ],
      "outputs": [
        {
          "output_type": "execute_result",
          "data": {
            "text/plain": [
              "    X   W   Y   A\n",
              "0  x0  w0  y0  a0\n",
              "1  x1  w1  y1  a1\n",
              "2  x2  w2  y2  a2\n",
              "3  x3  w3  y3  a3"
            ],
            "text/html": [
              "<div>\n",
              "<style scoped>\n",
              "    .dataframe tbody tr th:only-of-type {\n",
              "        vertical-align: middle;\n",
              "    }\n",
              "\n",
              "    .dataframe tbody tr th {\n",
              "        vertical-align: top;\n",
              "    }\n",
              "\n",
              "    .dataframe thead th {\n",
              "        text-align: right;\n",
              "    }\n",
              "</style>\n",
              "<table border=\"1\" class=\"dataframe\">\n",
              "  <thead>\n",
              "    <tr style=\"text-align: right;\">\n",
              "      <th></th>\n",
              "      <th>X</th>\n",
              "      <th>W</th>\n",
              "      <th>Y</th>\n",
              "      <th>A</th>\n",
              "    </tr>\n",
              "  </thead>\n",
              "  <tbody>\n",
              "    <tr>\n",
              "      <th>0</th>\n",
              "      <td>x0</td>\n",
              "      <td>w0</td>\n",
              "      <td>y0</td>\n",
              "      <td>a0</td>\n",
              "    </tr>\n",
              "    <tr>\n",
              "      <th>1</th>\n",
              "      <td>x1</td>\n",
              "      <td>w1</td>\n",
              "      <td>y1</td>\n",
              "      <td>a1</td>\n",
              "    </tr>\n",
              "    <tr>\n",
              "      <th>2</th>\n",
              "      <td>x2</td>\n",
              "      <td>w2</td>\n",
              "      <td>y2</td>\n",
              "      <td>a2</td>\n",
              "    </tr>\n",
              "    <tr>\n",
              "      <th>3</th>\n",
              "      <td>x3</td>\n",
              "      <td>w3</td>\n",
              "      <td>y3</td>\n",
              "      <td>a3</td>\n",
              "    </tr>\n",
              "  </tbody>\n",
              "</table>\n",
              "</div>"
            ]
          },
          "metadata": {
            "tags": []
          },
          "execution_count": 18
        }
      ],
      "metadata": {
        "id": "jFY47nqSqdqg",
        "colab": {
          "base_uri": "https://localhost:8080/",
          "height": 175
        },
        "outputId": "b0ddd869-603e-414b-be3a-d38f5f74cfff"
      }
    },
    {
      "cell_type": "code",
      "execution_count": null,
      "source": [
        "df_right"
      ],
      "outputs": [
        {
          "output_type": "execute_result",
          "data": {
            "text/plain": [
              "    Z   A   Y\n",
              "2  z2  a2  y2\n",
              "3  z3  a3  y3\n",
              "4  z4  a4  y4\n",
              "5  z5  a5  y5"
            ],
            "text/html": [
              "<div>\n",
              "<style scoped>\n",
              "    .dataframe tbody tr th:only-of-type {\n",
              "        vertical-align: middle;\n",
              "    }\n",
              "\n",
              "    .dataframe tbody tr th {\n",
              "        vertical-align: top;\n",
              "    }\n",
              "\n",
              "    .dataframe thead th {\n",
              "        text-align: right;\n",
              "    }\n",
              "</style>\n",
              "<table border=\"1\" class=\"dataframe\">\n",
              "  <thead>\n",
              "    <tr style=\"text-align: right;\">\n",
              "      <th></th>\n",
              "      <th>Z</th>\n",
              "      <th>A</th>\n",
              "      <th>Y</th>\n",
              "    </tr>\n",
              "  </thead>\n",
              "  <tbody>\n",
              "    <tr>\n",
              "      <th>2</th>\n",
              "      <td>z2</td>\n",
              "      <td>a2</td>\n",
              "      <td>y2</td>\n",
              "    </tr>\n",
              "    <tr>\n",
              "      <th>3</th>\n",
              "      <td>z3</td>\n",
              "      <td>a3</td>\n",
              "      <td>y3</td>\n",
              "    </tr>\n",
              "    <tr>\n",
              "      <th>4</th>\n",
              "      <td>z4</td>\n",
              "      <td>a4</td>\n",
              "      <td>y4</td>\n",
              "    </tr>\n",
              "    <tr>\n",
              "      <th>5</th>\n",
              "      <td>z5</td>\n",
              "      <td>a5</td>\n",
              "      <td>y5</td>\n",
              "    </tr>\n",
              "  </tbody>\n",
              "</table>\n",
              "</div>"
            ]
          },
          "metadata": {
            "tags": []
          },
          "execution_count": 19
        }
      ],
      "metadata": {
        "id": "KukbBxGIrlLv",
        "colab": {
          "base_uri": "https://localhost:8080/",
          "height": 175
        },
        "outputId": "fc5b0b1f-a015-4f64-ff15-c28ef90aeef4"
      }
    },
    {
      "cell_type": "code",
      "execution_count": null,
      "source": [
        "pd.merge(df_left, df_right, how ='outer', on = 'A', suffixes=['_left','_right']) "
      ],
      "outputs": [
        {
          "output_type": "execute_result",
          "data": {
            "text/plain": [
              "     X    W Y_left   A    Z Y_right\n",
              "0   x0   w0     y0  a0  NaN     NaN\n",
              "1   x1   w1     y1  a1  NaN     NaN\n",
              "2   x2   w2     y2  a2   z2      y2\n",
              "3   x3   w3     y3  a3   z3      y3\n",
              "4  NaN  NaN    NaN  a4   z4      y4\n",
              "5  NaN  NaN    NaN  a5   z5      y5"
            ],
            "text/html": [
              "<div>\n",
              "<style scoped>\n",
              "    .dataframe tbody tr th:only-of-type {\n",
              "        vertical-align: middle;\n",
              "    }\n",
              "\n",
              "    .dataframe tbody tr th {\n",
              "        vertical-align: top;\n",
              "    }\n",
              "\n",
              "    .dataframe thead th {\n",
              "        text-align: right;\n",
              "    }\n",
              "</style>\n",
              "<table border=\"1\" class=\"dataframe\">\n",
              "  <thead>\n",
              "    <tr style=\"text-align: right;\">\n",
              "      <th></th>\n",
              "      <th>X</th>\n",
              "      <th>W</th>\n",
              "      <th>Y_left</th>\n",
              "      <th>A</th>\n",
              "      <th>Z</th>\n",
              "      <th>Y_right</th>\n",
              "    </tr>\n",
              "  </thead>\n",
              "  <tbody>\n",
              "    <tr>\n",
              "      <th>0</th>\n",
              "      <td>x0</td>\n",
              "      <td>w0</td>\n",
              "      <td>y0</td>\n",
              "      <td>a0</td>\n",
              "      <td>NaN</td>\n",
              "      <td>NaN</td>\n",
              "    </tr>\n",
              "    <tr>\n",
              "      <th>1</th>\n",
              "      <td>x1</td>\n",
              "      <td>w1</td>\n",
              "      <td>y1</td>\n",
              "      <td>a1</td>\n",
              "      <td>NaN</td>\n",
              "      <td>NaN</td>\n",
              "    </tr>\n",
              "    <tr>\n",
              "      <th>2</th>\n",
              "      <td>x2</td>\n",
              "      <td>w2</td>\n",
              "      <td>y2</td>\n",
              "      <td>a2</td>\n",
              "      <td>z2</td>\n",
              "      <td>y2</td>\n",
              "    </tr>\n",
              "    <tr>\n",
              "      <th>3</th>\n",
              "      <td>x3</td>\n",
              "      <td>w3</td>\n",
              "      <td>y3</td>\n",
              "      <td>a3</td>\n",
              "      <td>z3</td>\n",
              "      <td>y3</td>\n",
              "    </tr>\n",
              "    <tr>\n",
              "      <th>4</th>\n",
              "      <td>NaN</td>\n",
              "      <td>NaN</td>\n",
              "      <td>NaN</td>\n",
              "      <td>a4</td>\n",
              "      <td>z4</td>\n",
              "      <td>y4</td>\n",
              "    </tr>\n",
              "    <tr>\n",
              "      <th>5</th>\n",
              "      <td>NaN</td>\n",
              "      <td>NaN</td>\n",
              "      <td>NaN</td>\n",
              "      <td>a5</td>\n",
              "      <td>z5</td>\n",
              "      <td>y5</td>\n",
              "    </tr>\n",
              "  </tbody>\n",
              "</table>\n",
              "</div>"
            ]
          },
          "metadata": {
            "tags": []
          },
          "execution_count": 23
        }
      ],
      "metadata": {
        "id": "uZRrJibkrmUc",
        "colab": {
          "base_uri": "https://localhost:8080/",
          "height": 238
        },
        "outputId": "ec070423-e602-43fd-ac27-b2cd8a4e002d"
      }
    },
    {
      "cell_type": "code",
      "execution_count": null,
      "source": [],
      "outputs": [],
      "metadata": {
        "id": "8onIhd1irqtM"
      }
    }
  ]
}