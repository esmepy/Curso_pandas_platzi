{
  "nbformat": 4,
  "nbformat_minor": 2,
  "metadata": {
    "colab": {
      "name": "11 datetime.ipynb",
      "provenance": [],
      "include_colab_link": true
    },
    "kernelspec": {
      "name": "python3",
      "display_name": "Python 3"
    }
  },
  "cells": [
    {
      "cell_type": "code",
      "execution_count": null,
      "source": [
        "se 25"
      ],
      "outputs": [],
      "metadata": {}
    },
    {
      "cell_type": "markdown",
      "source": [],
      "metadata": {
        "id": "view-in-github",
        "colab_type": "text"
      }
    },
    {
      "cell_type": "code",
      "execution_count": null,
      "source": [
        "import pandas as pd\r\n",
        "pd.__version__"
      ],
      "outputs": [
        {
          "output_type": "execute_result",
          "data": {
            "text/plain": [
              "'1.0.1'"
            ]
          },
          "metadata": {
            "tags": []
          },
          "execution_count": 4
        }
      ],
      "metadata": {
        "id": "El4Kv86KxU_K",
        "colab": {
          "base_uri": "https://localhost:8080/",
          "height": 35
        },
        "outputId": "df1ea1e2-d89f-46d5-d3b0-5d4cfd2064d9"
      }
    },
    {
      "cell_type": "code",
      "execution_count": null,
      "source": [
        "df = pd.read_csv('covid_19_data.csv')\r\n",
        "df.sample(10)\r\n",
        "df['ObservationDate'] = pd.to_datetime(df['ObservationDate'])"
      ],
      "outputs": [],
      "metadata": {
        "id": "yqL9alcFzsk4"
      }
    },
    {
      "cell_type": "code",
      "execution_count": null,
      "source": [
        "list(df)"
      ],
      "outputs": [
        {
          "output_type": "execute_result",
          "data": {
            "text/plain": [
              "['SNo',\n",
              " 'ObservationDate',\n",
              " 'Province/State',\n",
              " 'Country/Region',\n",
              " 'Last Update',\n",
              " 'Confirmed',\n",
              " 'Deaths',\n",
              " 'Recovered']"
            ]
          },
          "metadata": {
            "tags": []
          },
          "execution_count": 29
        }
      ],
      "metadata": {
        "id": "okNEHaKF0Wfm",
        "colab": {
          "base_uri": "https://localhost:8080/",
          "height": 163
        },
        "outputId": "67f95501-0056-4c4a-f31a-87b6abca0cf7"
      }
    },
    {
      "cell_type": "code",
      "execution_count": null,
      "source": [
        "df = df[['ObservationDate',\r\n",
        " 'Country/Region',\r\n",
        " 'Confirmed',\r\n",
        " 'Deaths',\r\n",
        " 'Recovered']]\r\n",
        "df"
      ],
      "outputs": [
        {
          "output_type": "execute_result",
          "data": {
            "text/plain": [
              "     ObservationDate  Country/Region  Confirmed  Deaths  Recovered\n",
              "0         2020-01-22  Mainland China        1.0     0.0        0.0\n",
              "1         2020-01-22  Mainland China       14.0     0.0        0.0\n",
              "2         2020-01-22  Mainland China        6.0     0.0        0.0\n",
              "3         2020-01-22  Mainland China        1.0     0.0        0.0\n",
              "4         2020-01-22  Mainland China        0.0     0.0        0.0\n",
              "...              ...             ...        ...     ...        ...\n",
              "3390      2020-03-04         Ukraine        1.0     0.0        0.0\n",
              "3391      2020-03-04       Australia        0.0     0.0        0.0\n",
              "3392      2020-03-04              US        0.0     0.0        0.0\n",
              "3393      2020-03-04              US        0.0     0.0        0.0\n",
              "3394      2020-03-04              US        0.0     0.0        0.0\n",
              "\n",
              "[3395 rows x 5 columns]"
            ],
            "text/html": [
              "<div>\n",
              "<style scoped>\n",
              "    .dataframe tbody tr th:only-of-type {\n",
              "        vertical-align: middle;\n",
              "    }\n",
              "\n",
              "    .dataframe tbody tr th {\n",
              "        vertical-align: top;\n",
              "    }\n",
              "\n",
              "    .dataframe thead th {\n",
              "        text-align: right;\n",
              "    }\n",
              "</style>\n",
              "<table border=\"1\" class=\"dataframe\">\n",
              "  <thead>\n",
              "    <tr style=\"text-align: right;\">\n",
              "      <th></th>\n",
              "      <th>ObservationDate</th>\n",
              "      <th>Country/Region</th>\n",
              "      <th>Confirmed</th>\n",
              "      <th>Deaths</th>\n",
              "      <th>Recovered</th>\n",
              "    </tr>\n",
              "  </thead>\n",
              "  <tbody>\n",
              "    <tr>\n",
              "      <th>0</th>\n",
              "      <td>2020-01-22</td>\n",
              "      <td>Mainland China</td>\n",
              "      <td>1.0</td>\n",
              "      <td>0.0</td>\n",
              "      <td>0.0</td>\n",
              "    </tr>\n",
              "    <tr>\n",
              "      <th>1</th>\n",
              "      <td>2020-01-22</td>\n",
              "      <td>Mainland China</td>\n",
              "      <td>14.0</td>\n",
              "      <td>0.0</td>\n",
              "      <td>0.0</td>\n",
              "    </tr>\n",
              "    <tr>\n",
              "      <th>2</th>\n",
              "      <td>2020-01-22</td>\n",
              "      <td>Mainland China</td>\n",
              "      <td>6.0</td>\n",
              "      <td>0.0</td>\n",
              "      <td>0.0</td>\n",
              "    </tr>\n",
              "    <tr>\n",
              "      <th>3</th>\n",
              "      <td>2020-01-22</td>\n",
              "      <td>Mainland China</td>\n",
              "      <td>1.0</td>\n",
              "      <td>0.0</td>\n",
              "      <td>0.0</td>\n",
              "    </tr>\n",
              "    <tr>\n",
              "      <th>4</th>\n",
              "      <td>2020-01-22</td>\n",
              "      <td>Mainland China</td>\n",
              "      <td>0.0</td>\n",
              "      <td>0.0</td>\n",
              "      <td>0.0</td>\n",
              "    </tr>\n",
              "    <tr>\n",
              "      <th>...</th>\n",
              "      <td>...</td>\n",
              "      <td>...</td>\n",
              "      <td>...</td>\n",
              "      <td>...</td>\n",
              "      <td>...</td>\n",
              "    </tr>\n",
              "    <tr>\n",
              "      <th>3390</th>\n",
              "      <td>2020-03-04</td>\n",
              "      <td>Ukraine</td>\n",
              "      <td>1.0</td>\n",
              "      <td>0.0</td>\n",
              "      <td>0.0</td>\n",
              "    </tr>\n",
              "    <tr>\n",
              "      <th>3391</th>\n",
              "      <td>2020-03-04</td>\n",
              "      <td>Australia</td>\n",
              "      <td>0.0</td>\n",
              "      <td>0.0</td>\n",
              "      <td>0.0</td>\n",
              "    </tr>\n",
              "    <tr>\n",
              "      <th>3392</th>\n",
              "      <td>2020-03-04</td>\n",
              "      <td>US</td>\n",
              "      <td>0.0</td>\n",
              "      <td>0.0</td>\n",
              "      <td>0.0</td>\n",
              "    </tr>\n",
              "    <tr>\n",
              "      <th>3393</th>\n",
              "      <td>2020-03-04</td>\n",
              "      <td>US</td>\n",
              "      <td>0.0</td>\n",
              "      <td>0.0</td>\n",
              "      <td>0.0</td>\n",
              "    </tr>\n",
              "    <tr>\n",
              "      <th>3394</th>\n",
              "      <td>2020-03-04</td>\n",
              "      <td>US</td>\n",
              "      <td>0.0</td>\n",
              "      <td>0.0</td>\n",
              "      <td>0.0</td>\n",
              "    </tr>\n",
              "  </tbody>\n",
              "</table>\n",
              "<p>3395 rows × 5 columns</p>\n",
              "</div>"
            ]
          },
          "metadata": {
            "tags": []
          },
          "execution_count": 33
        }
      ],
      "metadata": {
        "id": "EtNtzEz20h1n",
        "colab": {
          "base_uri": "https://localhost:8080/",
          "height": 424
        },
        "outputId": "d8219372-00cf-4d49-b473-ce951cfd42f7"
      }
    },
    {
      "cell_type": "code",
      "execution_count": null,
      "source": [
        "df_time = df.groupby('ObservationDate').sum()\r\n",
        "df_time.head(5)"
      ],
      "outputs": [
        {
          "output_type": "execute_result",
          "data": {
            "text/plain": [
              "                 Confirmed  Deaths  Recovered\n",
              "ObservationDate                              \n",
              "2020-01-22           555.0    17.0       28.0\n",
              "2020-01-23           653.0    18.0       30.0\n",
              "2020-01-24           941.0    26.0       36.0\n",
              "2020-01-25          1438.0    42.0       39.0\n",
              "2020-01-26          2118.0    56.0       52.0"
            ],
            "text/html": [
              "<div>\n",
              "<style scoped>\n",
              "    .dataframe tbody tr th:only-of-type {\n",
              "        vertical-align: middle;\n",
              "    }\n",
              "\n",
              "    .dataframe tbody tr th {\n",
              "        vertical-align: top;\n",
              "    }\n",
              "\n",
              "    .dataframe thead th {\n",
              "        text-align: right;\n",
              "    }\n",
              "</style>\n",
              "<table border=\"1\" class=\"dataframe\">\n",
              "  <thead>\n",
              "    <tr style=\"text-align: right;\">\n",
              "      <th></th>\n",
              "      <th>Confirmed</th>\n",
              "      <th>Deaths</th>\n",
              "      <th>Recovered</th>\n",
              "    </tr>\n",
              "    <tr>\n",
              "      <th>ObservationDate</th>\n",
              "      <th></th>\n",
              "      <th></th>\n",
              "      <th></th>\n",
              "    </tr>\n",
              "  </thead>\n",
              "  <tbody>\n",
              "    <tr>\n",
              "      <th>2020-01-22</th>\n",
              "      <td>555.0</td>\n",
              "      <td>17.0</td>\n",
              "      <td>28.0</td>\n",
              "    </tr>\n",
              "    <tr>\n",
              "      <th>2020-01-23</th>\n",
              "      <td>653.0</td>\n",
              "      <td>18.0</td>\n",
              "      <td>30.0</td>\n",
              "    </tr>\n",
              "    <tr>\n",
              "      <th>2020-01-24</th>\n",
              "      <td>941.0</td>\n",
              "      <td>26.0</td>\n",
              "      <td>36.0</td>\n",
              "    </tr>\n",
              "    <tr>\n",
              "      <th>2020-01-25</th>\n",
              "      <td>1438.0</td>\n",
              "      <td>42.0</td>\n",
              "      <td>39.0</td>\n",
              "    </tr>\n",
              "    <tr>\n",
              "      <th>2020-01-26</th>\n",
              "      <td>2118.0</td>\n",
              "      <td>56.0</td>\n",
              "      <td>52.0</td>\n",
              "    </tr>\n",
              "  </tbody>\n",
              "</table>\n",
              "</div>"
            ]
          },
          "metadata": {
            "tags": []
          },
          "execution_count": 34
        }
      ],
      "metadata": {
        "id": "Z4lE-7Ij0nJj",
        "colab": {
          "base_uri": "https://localhost:8080/",
          "height": 237
        },
        "outputId": "c26df4db-09cf-48ce-d18b-1a5d76f54d31"
      }
    },
    {
      "cell_type": "code",
      "execution_count": null,
      "source": [
        "df1 = df_time['Confirmed'].iloc[10:15]\n",
        "df1"
      ],
      "outputs": [
        {
          "output_type": "execute_result",
          "data": {
            "text/plain": [
              "ObservationDate\n",
              "2020-02-01    12038.0\n",
              "2020-02-02    16787.0\n",
              "2020-02-03    19881.0\n",
              "2020-02-04    23892.0\n",
              "2020-02-05    27636.0\n",
              "Name: Confirmed, dtype: float64"
            ]
          },
          "metadata": {
            "tags": []
          },
          "execution_count": 35
        }
      ],
      "metadata": {
        "id": "K4xfhF6I00zr",
        "colab": {
          "base_uri": "https://localhost:8080/",
          "height": 144
        },
        "outputId": "961c57f5-2ec4-4e07-fbd9-69bad187b18a"
      }
    },
    {
      "cell_type": "code",
      "execution_count": null,
      "source": [
        "df2 = df_time['Deaths'].iloc[12:17]\n",
        "df2"
      ],
      "outputs": [
        {
          "output_type": "execute_result",
          "data": {
            "text/plain": [
              "ObservationDate\n",
              "2020-02-03    426.0\n",
              "2020-02-04    492.0\n",
              "2020-02-05    564.0\n",
              "2020-02-06    634.0\n",
              "2020-02-07    719.0\n",
              "Name: Deaths, dtype: float64"
            ]
          },
          "metadata": {
            "tags": []
          },
          "execution_count": 37
        }
      ],
      "metadata": {
        "id": "KMpHMqTM1DDy",
        "colab": {
          "base_uri": "https://localhost:8080/",
          "height": 144
        },
        "outputId": "cedd74be-29ae-4a41-a923-9e4a10026466"
      }
    },
    {
      "cell_type": "code",
      "execution_count": null,
      "source": [
        "df1 - df2"
      ],
      "outputs": [
        {
          "output_type": "execute_result",
          "data": {
            "text/plain": [
              "ObservationDate\n",
              "2020-02-01        NaN\n",
              "2020-02-02        NaN\n",
              "2020-02-03    19455.0\n",
              "2020-02-04    23400.0\n",
              "2020-02-05    27072.0\n",
              "2020-02-06        NaN\n",
              "2020-02-07        NaN\n",
              "dtype: float64"
            ]
          },
          "metadata": {
            "tags": []
          },
          "execution_count": 38
        }
      ],
      "metadata": {
        "id": "l3nU-XuK1EnB",
        "colab": {
          "base_uri": "https://localhost:8080/",
          "height": 181
        },
        "outputId": "26ccd4ca-5114-4bac-e15c-ddbff5d00e12"
      }
    },
    {
      "cell_type": "code",
      "execution_count": null,
      "source": [
        "df_time"
      ],
      "outputs": [
        {
          "output_type": "execute_result",
          "data": {
            "text/plain": [
              "                 Confirmed  Deaths  Recovered\n",
              "ObservationDate                              \n",
              "2020-01-22           555.0    17.0       28.0\n",
              "2020-01-23           653.0    18.0       30.0\n",
              "2020-01-24           941.0    26.0       36.0\n",
              "2020-01-25          1438.0    42.0       39.0\n",
              "2020-01-26          2118.0    56.0       52.0\n",
              "2020-01-27          2927.0    82.0       61.0\n",
              "2020-01-28          5578.0   131.0      107.0\n",
              "2020-01-29          6165.0   133.0      126.0\n",
              "2020-01-30          8235.0   171.0      143.0\n",
              "2020-01-31          9925.0   213.0      222.0\n",
              "2020-02-01         12038.0   259.0      284.0\n",
              "2020-02-02         16787.0   362.0      472.0\n",
              "2020-02-03         19881.0   426.0      623.0\n",
              "2020-02-04         23892.0   492.0      852.0\n",
              "2020-02-05         27636.0   564.0     1124.0\n",
              "2020-02-06         30818.0   634.0     1487.0\n",
              "2020-02-07         34392.0   719.0     2011.0\n",
              "2020-02-08         37121.0   806.0     2616.0\n",
              "2020-02-09         40151.0   906.0     3244.0\n",
              "2020-02-10         42763.0  1013.0     3946.0\n",
              "2020-02-11         44803.0  1113.0     4683.0\n",
              "2020-02-12         45222.0  1118.0     5150.0\n",
              "2020-02-13         60370.0  1371.0     6295.0\n",
              "2020-02-14         66887.0  1523.0     8058.0\n",
              "2020-02-15         69032.0  1666.0     9395.0\n",
              "2020-02-16         71226.0  1770.0    10865.0\n",
              "2020-02-17         73260.0  1868.0    12583.0\n",
              "2020-02-18         75138.0  2007.0    14352.0\n",
              "2020-02-19         75641.0  2122.0    16121.0\n",
              "2020-02-20         76199.0  2247.0    18177.0\n",
              "2020-02-21         76843.0  2251.0    18890.0\n",
              "2020-02-22         78599.0  2458.0    22886.0\n",
              "2020-02-23         78985.0  2469.0    23394.0\n",
              "2020-02-24         79570.0  2629.0    25227.0\n",
              "2020-02-25         80415.0  2708.0    27905.0\n",
              "2020-02-26         81397.0  2770.0    30384.0\n",
              "2020-02-27         82756.0  2814.0    33277.0\n",
              "2020-02-28         84124.0  2872.0    36711.0\n",
              "2020-02-29         86013.0  2941.0    39782.0\n",
              "2020-03-01         88371.0  2996.0    42716.0\n",
              "2020-03-02         90309.0  3085.0    45602.0\n",
              "2020-03-03         92844.0  3160.0    48229.0\n",
              "2020-03-04         95124.0  3254.0    51171.0"
            ],
            "text/html": [
              "<div>\n",
              "<style scoped>\n",
              "    .dataframe tbody tr th:only-of-type {\n",
              "        vertical-align: middle;\n",
              "    }\n",
              "\n",
              "    .dataframe tbody tr th {\n",
              "        vertical-align: top;\n",
              "    }\n",
              "\n",
              "    .dataframe thead th {\n",
              "        text-align: right;\n",
              "    }\n",
              "</style>\n",
              "<table border=\"1\" class=\"dataframe\">\n",
              "  <thead>\n",
              "    <tr style=\"text-align: right;\">\n",
              "      <th></th>\n",
              "      <th>Confirmed</th>\n",
              "      <th>Deaths</th>\n",
              "      <th>Recovered</th>\n",
              "    </tr>\n",
              "    <tr>\n",
              "      <th>ObservationDate</th>\n",
              "      <th></th>\n",
              "      <th></th>\n",
              "      <th></th>\n",
              "    </tr>\n",
              "  </thead>\n",
              "  <tbody>\n",
              "    <tr>\n",
              "      <th>2020-01-22</th>\n",
              "      <td>555.0</td>\n",
              "      <td>17.0</td>\n",
              "      <td>28.0</td>\n",
              "    </tr>\n",
              "    <tr>\n",
              "      <th>2020-01-23</th>\n",
              "      <td>653.0</td>\n",
              "      <td>18.0</td>\n",
              "      <td>30.0</td>\n",
              "    </tr>\n",
              "    <tr>\n",
              "      <th>2020-01-24</th>\n",
              "      <td>941.0</td>\n",
              "      <td>26.0</td>\n",
              "      <td>36.0</td>\n",
              "    </tr>\n",
              "    <tr>\n",
              "      <th>2020-01-25</th>\n",
              "      <td>1438.0</td>\n",
              "      <td>42.0</td>\n",
              "      <td>39.0</td>\n",
              "    </tr>\n",
              "    <tr>\n",
              "      <th>2020-01-26</th>\n",
              "      <td>2118.0</td>\n",
              "      <td>56.0</td>\n",
              "      <td>52.0</td>\n",
              "    </tr>\n",
              "    <tr>\n",
              "      <th>2020-01-27</th>\n",
              "      <td>2927.0</td>\n",
              "      <td>82.0</td>\n",
              "      <td>61.0</td>\n",
              "    </tr>\n",
              "    <tr>\n",
              "      <th>2020-01-28</th>\n",
              "      <td>5578.0</td>\n",
              "      <td>131.0</td>\n",
              "      <td>107.0</td>\n",
              "    </tr>\n",
              "    <tr>\n",
              "      <th>2020-01-29</th>\n",
              "      <td>6165.0</td>\n",
              "      <td>133.0</td>\n",
              "      <td>126.0</td>\n",
              "    </tr>\n",
              "    <tr>\n",
              "      <th>2020-01-30</th>\n",
              "      <td>8235.0</td>\n",
              "      <td>171.0</td>\n",
              "      <td>143.0</td>\n",
              "    </tr>\n",
              "    <tr>\n",
              "      <th>2020-01-31</th>\n",
              "      <td>9925.0</td>\n",
              "      <td>213.0</td>\n",
              "      <td>222.0</td>\n",
              "    </tr>\n",
              "    <tr>\n",
              "      <th>2020-02-01</th>\n",
              "      <td>12038.0</td>\n",
              "      <td>259.0</td>\n",
              "      <td>284.0</td>\n",
              "    </tr>\n",
              "    <tr>\n",
              "      <th>2020-02-02</th>\n",
              "      <td>16787.0</td>\n",
              "      <td>362.0</td>\n",
              "      <td>472.0</td>\n",
              "    </tr>\n",
              "    <tr>\n",
              "      <th>2020-02-03</th>\n",
              "      <td>19881.0</td>\n",
              "      <td>426.0</td>\n",
              "      <td>623.0</td>\n",
              "    </tr>\n",
              "    <tr>\n",
              "      <th>2020-02-04</th>\n",
              "      <td>23892.0</td>\n",
              "      <td>492.0</td>\n",
              "      <td>852.0</td>\n",
              "    </tr>\n",
              "    <tr>\n",
              "      <th>2020-02-05</th>\n",
              "      <td>27636.0</td>\n",
              "      <td>564.0</td>\n",
              "      <td>1124.0</td>\n",
              "    </tr>\n",
              "    <tr>\n",
              "      <th>2020-02-06</th>\n",
              "      <td>30818.0</td>\n",
              "      <td>634.0</td>\n",
              "      <td>1487.0</td>\n",
              "    </tr>\n",
              "    <tr>\n",
              "      <th>2020-02-07</th>\n",
              "      <td>34392.0</td>\n",
              "      <td>719.0</td>\n",
              "      <td>2011.0</td>\n",
              "    </tr>\n",
              "    <tr>\n",
              "      <th>2020-02-08</th>\n",
              "      <td>37121.0</td>\n",
              "      <td>806.0</td>\n",
              "      <td>2616.0</td>\n",
              "    </tr>\n",
              "    <tr>\n",
              "      <th>2020-02-09</th>\n",
              "      <td>40151.0</td>\n",
              "      <td>906.0</td>\n",
              "      <td>3244.0</td>\n",
              "    </tr>\n",
              "    <tr>\n",
              "      <th>2020-02-10</th>\n",
              "      <td>42763.0</td>\n",
              "      <td>1013.0</td>\n",
              "      <td>3946.0</td>\n",
              "    </tr>\n",
              "    <tr>\n",
              "      <th>2020-02-11</th>\n",
              "      <td>44803.0</td>\n",
              "      <td>1113.0</td>\n",
              "      <td>4683.0</td>\n",
              "    </tr>\n",
              "    <tr>\n",
              "      <th>2020-02-12</th>\n",
              "      <td>45222.0</td>\n",
              "      <td>1118.0</td>\n",
              "      <td>5150.0</td>\n",
              "    </tr>\n",
              "    <tr>\n",
              "      <th>2020-02-13</th>\n",
              "      <td>60370.0</td>\n",
              "      <td>1371.0</td>\n",
              "      <td>6295.0</td>\n",
              "    </tr>\n",
              "    <tr>\n",
              "      <th>2020-02-14</th>\n",
              "      <td>66887.0</td>\n",
              "      <td>1523.0</td>\n",
              "      <td>8058.0</td>\n",
              "    </tr>\n",
              "    <tr>\n",
              "      <th>2020-02-15</th>\n",
              "      <td>69032.0</td>\n",
              "      <td>1666.0</td>\n",
              "      <td>9395.0</td>\n",
              "    </tr>\n",
              "    <tr>\n",
              "      <th>2020-02-16</th>\n",
              "      <td>71226.0</td>\n",
              "      <td>1770.0</td>\n",
              "      <td>10865.0</td>\n",
              "    </tr>\n",
              "    <tr>\n",
              "      <th>2020-02-17</th>\n",
              "      <td>73260.0</td>\n",
              "      <td>1868.0</td>\n",
              "      <td>12583.0</td>\n",
              "    </tr>\n",
              "    <tr>\n",
              "      <th>2020-02-18</th>\n",
              "      <td>75138.0</td>\n",
              "      <td>2007.0</td>\n",
              "      <td>14352.0</td>\n",
              "    </tr>\n",
              "    <tr>\n",
              "      <th>2020-02-19</th>\n",
              "      <td>75641.0</td>\n",
              "      <td>2122.0</td>\n",
              "      <td>16121.0</td>\n",
              "    </tr>\n",
              "    <tr>\n",
              "      <th>2020-02-20</th>\n",
              "      <td>76199.0</td>\n",
              "      <td>2247.0</td>\n",
              "      <td>18177.0</td>\n",
              "    </tr>\n",
              "    <tr>\n",
              "      <th>2020-02-21</th>\n",
              "      <td>76843.0</td>\n",
              "      <td>2251.0</td>\n",
              "      <td>18890.0</td>\n",
              "    </tr>\n",
              "    <tr>\n",
              "      <th>2020-02-22</th>\n",
              "      <td>78599.0</td>\n",
              "      <td>2458.0</td>\n",
              "      <td>22886.0</td>\n",
              "    </tr>\n",
              "    <tr>\n",
              "      <th>2020-02-23</th>\n",
              "      <td>78985.0</td>\n",
              "      <td>2469.0</td>\n",
              "      <td>23394.0</td>\n",
              "    </tr>\n",
              "    <tr>\n",
              "      <th>2020-02-24</th>\n",
              "      <td>79570.0</td>\n",
              "      <td>2629.0</td>\n",
              "      <td>25227.0</td>\n",
              "    </tr>\n",
              "    <tr>\n",
              "      <th>2020-02-25</th>\n",
              "      <td>80415.0</td>\n",
              "      <td>2708.0</td>\n",
              "      <td>27905.0</td>\n",
              "    </tr>\n",
              "    <tr>\n",
              "      <th>2020-02-26</th>\n",
              "      <td>81397.0</td>\n",
              "      <td>2770.0</td>\n",
              "      <td>30384.0</td>\n",
              "    </tr>\n",
              "    <tr>\n",
              "      <th>2020-02-27</th>\n",
              "      <td>82756.0</td>\n",
              "      <td>2814.0</td>\n",
              "      <td>33277.0</td>\n",
              "    </tr>\n",
              "    <tr>\n",
              "      <th>2020-02-28</th>\n",
              "      <td>84124.0</td>\n",
              "      <td>2872.0</td>\n",
              "      <td>36711.0</td>\n",
              "    </tr>\n",
              "    <tr>\n",
              "      <th>2020-02-29</th>\n",
              "      <td>86013.0</td>\n",
              "      <td>2941.0</td>\n",
              "      <td>39782.0</td>\n",
              "    </tr>\n",
              "    <tr>\n",
              "      <th>2020-03-01</th>\n",
              "      <td>88371.0</td>\n",
              "      <td>2996.0</td>\n",
              "      <td>42716.0</td>\n",
              "    </tr>\n",
              "    <tr>\n",
              "      <th>2020-03-02</th>\n",
              "      <td>90309.0</td>\n",
              "      <td>3085.0</td>\n",
              "      <td>45602.0</td>\n",
              "    </tr>\n",
              "    <tr>\n",
              "      <th>2020-03-03</th>\n",
              "      <td>92844.0</td>\n",
              "      <td>3160.0</td>\n",
              "      <td>48229.0</td>\n",
              "    </tr>\n",
              "    <tr>\n",
              "      <th>2020-03-04</th>\n",
              "      <td>95124.0</td>\n",
              "      <td>3254.0</td>\n",
              "      <td>51171.0</td>\n",
              "    </tr>\n",
              "  </tbody>\n",
              "</table>\n",
              "</div>"
            ]
          },
          "metadata": {
            "tags": []
          },
          "execution_count": 40
        }
      ],
      "metadata": {
        "id": "cfUNVCad1IDj",
        "colab": {
          "base_uri": "https://localhost:8080/",
          "height": 1000
        },
        "outputId": "e7c5918e-f61c-4526-e067-389ccd052093"
      }
    },
    {
      "cell_type": "code",
      "execution_count": null,
      "source": [
        "df_time.diff().mean()"
      ],
      "outputs": [
        {
          "output_type": "execute_result",
          "data": {
            "text/plain": [
              "Confirmed    2251.642857\n",
              "Deaths         77.071429\n",
              "Recovered    1217.690476\n",
              "dtype: float64"
            ]
          },
          "metadata": {
            "tags": []
          },
          "execution_count": 42
        }
      ],
      "metadata": {
        "id": "N_k-KbMo1OMC",
        "colab": {
          "base_uri": "https://localhost:8080/",
          "height": 90
        },
        "outputId": "391895b6-c5d7-404e-c164-00855911b0ef"
      }
    },
    {
      "cell_type": "code",
      "execution_count": null,
      "source": [
        "df_diff = df_time.diff()\n",
        "df_diff"
      ],
      "outputs": [
        {
          "output_type": "execute_result",
          "data": {
            "text/plain": [
              "                 Confirmed  Deaths  Recovered\n",
              "ObservationDate                              \n",
              "2020-01-22             NaN     NaN        NaN\n",
              "2020-01-23            98.0     1.0        2.0\n",
              "2020-01-24           288.0     8.0        6.0\n",
              "2020-01-25           497.0    16.0        3.0\n",
              "2020-01-26           680.0    14.0       13.0\n",
              "2020-01-27           809.0    26.0        9.0\n",
              "2020-01-28          2651.0    49.0       46.0\n",
              "2020-01-29           587.0     2.0       19.0\n",
              "2020-01-30          2070.0    38.0       17.0\n",
              "2020-01-31          1690.0    42.0       79.0\n",
              "2020-02-01          2113.0    46.0       62.0\n",
              "2020-02-02          4749.0   103.0      188.0\n",
              "2020-02-03          3094.0    64.0      151.0\n",
              "2020-02-04          4011.0    66.0      229.0\n",
              "2020-02-05          3744.0    72.0      272.0\n",
              "2020-02-06          3182.0    70.0      363.0\n",
              "2020-02-07          3574.0    85.0      524.0\n",
              "2020-02-08          2729.0    87.0      605.0\n",
              "2020-02-09          3030.0   100.0      628.0\n",
              "2020-02-10          2612.0   107.0      702.0\n",
              "2020-02-11          2040.0   100.0      737.0\n",
              "2020-02-12           419.0     5.0      467.0\n",
              "2020-02-13         15148.0   253.0     1145.0\n",
              "2020-02-14          6517.0   152.0     1763.0\n",
              "2020-02-15          2145.0   143.0     1337.0\n",
              "2020-02-16          2194.0   104.0     1470.0\n",
              "2020-02-17          2034.0    98.0     1718.0\n",
              "2020-02-18          1878.0   139.0     1769.0\n",
              "2020-02-19           503.0   115.0     1769.0\n",
              "2020-02-20           558.0   125.0     2056.0\n",
              "2020-02-21           644.0     4.0      713.0\n",
              "2020-02-22          1756.0   207.0     3996.0\n",
              "2020-02-23           386.0    11.0      508.0\n",
              "2020-02-24           585.0   160.0     1833.0\n",
              "2020-02-25           845.0    79.0     2678.0\n",
              "2020-02-26           982.0    62.0     2479.0\n",
              "2020-02-27          1359.0    44.0     2893.0\n",
              "2020-02-28          1368.0    58.0     3434.0\n",
              "2020-02-29          1889.0    69.0     3071.0\n",
              "2020-03-01          2358.0    55.0     2934.0\n",
              "2020-03-02          1938.0    89.0     2886.0\n",
              "2020-03-03          2535.0    75.0     2627.0\n",
              "2020-03-04          2280.0    94.0     2942.0"
            ],
            "text/html": [
              "<div>\n",
              "<style scoped>\n",
              "    .dataframe tbody tr th:only-of-type {\n",
              "        vertical-align: middle;\n",
              "    }\n",
              "\n",
              "    .dataframe tbody tr th {\n",
              "        vertical-align: top;\n",
              "    }\n",
              "\n",
              "    .dataframe thead th {\n",
              "        text-align: right;\n",
              "    }\n",
              "</style>\n",
              "<table border=\"1\" class=\"dataframe\">\n",
              "  <thead>\n",
              "    <tr style=\"text-align: right;\">\n",
              "      <th></th>\n",
              "      <th>Confirmed</th>\n",
              "      <th>Deaths</th>\n",
              "      <th>Recovered</th>\n",
              "    </tr>\n",
              "    <tr>\n",
              "      <th>ObservationDate</th>\n",
              "      <th></th>\n",
              "      <th></th>\n",
              "      <th></th>\n",
              "    </tr>\n",
              "  </thead>\n",
              "  <tbody>\n",
              "    <tr>\n",
              "      <th>2020-01-22</th>\n",
              "      <td>NaN</td>\n",
              "      <td>NaN</td>\n",
              "      <td>NaN</td>\n",
              "    </tr>\n",
              "    <tr>\n",
              "      <th>2020-01-23</th>\n",
              "      <td>98.0</td>\n",
              "      <td>1.0</td>\n",
              "      <td>2.0</td>\n",
              "    </tr>\n",
              "    <tr>\n",
              "      <th>2020-01-24</th>\n",
              "      <td>288.0</td>\n",
              "      <td>8.0</td>\n",
              "      <td>6.0</td>\n",
              "    </tr>\n",
              "    <tr>\n",
              "      <th>2020-01-25</th>\n",
              "      <td>497.0</td>\n",
              "      <td>16.0</td>\n",
              "      <td>3.0</td>\n",
              "    </tr>\n",
              "    <tr>\n",
              "      <th>2020-01-26</th>\n",
              "      <td>680.0</td>\n",
              "      <td>14.0</td>\n",
              "      <td>13.0</td>\n",
              "    </tr>\n",
              "    <tr>\n",
              "      <th>2020-01-27</th>\n",
              "      <td>809.0</td>\n",
              "      <td>26.0</td>\n",
              "      <td>9.0</td>\n",
              "    </tr>\n",
              "    <tr>\n",
              "      <th>2020-01-28</th>\n",
              "      <td>2651.0</td>\n",
              "      <td>49.0</td>\n",
              "      <td>46.0</td>\n",
              "    </tr>\n",
              "    <tr>\n",
              "      <th>2020-01-29</th>\n",
              "      <td>587.0</td>\n",
              "      <td>2.0</td>\n",
              "      <td>19.0</td>\n",
              "    </tr>\n",
              "    <tr>\n",
              "      <th>2020-01-30</th>\n",
              "      <td>2070.0</td>\n",
              "      <td>38.0</td>\n",
              "      <td>17.0</td>\n",
              "    </tr>\n",
              "    <tr>\n",
              "      <th>2020-01-31</th>\n",
              "      <td>1690.0</td>\n",
              "      <td>42.0</td>\n",
              "      <td>79.0</td>\n",
              "    </tr>\n",
              "    <tr>\n",
              "      <th>2020-02-01</th>\n",
              "      <td>2113.0</td>\n",
              "      <td>46.0</td>\n",
              "      <td>62.0</td>\n",
              "    </tr>\n",
              "    <tr>\n",
              "      <th>2020-02-02</th>\n",
              "      <td>4749.0</td>\n",
              "      <td>103.0</td>\n",
              "      <td>188.0</td>\n",
              "    </tr>\n",
              "    <tr>\n",
              "      <th>2020-02-03</th>\n",
              "      <td>3094.0</td>\n",
              "      <td>64.0</td>\n",
              "      <td>151.0</td>\n",
              "    </tr>\n",
              "    <tr>\n",
              "      <th>2020-02-04</th>\n",
              "      <td>4011.0</td>\n",
              "      <td>66.0</td>\n",
              "      <td>229.0</td>\n",
              "    </tr>\n",
              "    <tr>\n",
              "      <th>2020-02-05</th>\n",
              "      <td>3744.0</td>\n",
              "      <td>72.0</td>\n",
              "      <td>272.0</td>\n",
              "    </tr>\n",
              "    <tr>\n",
              "      <th>2020-02-06</th>\n",
              "      <td>3182.0</td>\n",
              "      <td>70.0</td>\n",
              "      <td>363.0</td>\n",
              "    </tr>\n",
              "    <tr>\n",
              "      <th>2020-02-07</th>\n",
              "      <td>3574.0</td>\n",
              "      <td>85.0</td>\n",
              "      <td>524.0</td>\n",
              "    </tr>\n",
              "    <tr>\n",
              "      <th>2020-02-08</th>\n",
              "      <td>2729.0</td>\n",
              "      <td>87.0</td>\n",
              "      <td>605.0</td>\n",
              "    </tr>\n",
              "    <tr>\n",
              "      <th>2020-02-09</th>\n",
              "      <td>3030.0</td>\n",
              "      <td>100.0</td>\n",
              "      <td>628.0</td>\n",
              "    </tr>\n",
              "    <tr>\n",
              "      <th>2020-02-10</th>\n",
              "      <td>2612.0</td>\n",
              "      <td>107.0</td>\n",
              "      <td>702.0</td>\n",
              "    </tr>\n",
              "    <tr>\n",
              "      <th>2020-02-11</th>\n",
              "      <td>2040.0</td>\n",
              "      <td>100.0</td>\n",
              "      <td>737.0</td>\n",
              "    </tr>\n",
              "    <tr>\n",
              "      <th>2020-02-12</th>\n",
              "      <td>419.0</td>\n",
              "      <td>5.0</td>\n",
              "      <td>467.0</td>\n",
              "    </tr>\n",
              "    <tr>\n",
              "      <th>2020-02-13</th>\n",
              "      <td>15148.0</td>\n",
              "      <td>253.0</td>\n",
              "      <td>1145.0</td>\n",
              "    </tr>\n",
              "    <tr>\n",
              "      <th>2020-02-14</th>\n",
              "      <td>6517.0</td>\n",
              "      <td>152.0</td>\n",
              "      <td>1763.0</td>\n",
              "    </tr>\n",
              "    <tr>\n",
              "      <th>2020-02-15</th>\n",
              "      <td>2145.0</td>\n",
              "      <td>143.0</td>\n",
              "      <td>1337.0</td>\n",
              "    </tr>\n",
              "    <tr>\n",
              "      <th>2020-02-16</th>\n",
              "      <td>2194.0</td>\n",
              "      <td>104.0</td>\n",
              "      <td>1470.0</td>\n",
              "    </tr>\n",
              "    <tr>\n",
              "      <th>2020-02-17</th>\n",
              "      <td>2034.0</td>\n",
              "      <td>98.0</td>\n",
              "      <td>1718.0</td>\n",
              "    </tr>\n",
              "    <tr>\n",
              "      <th>2020-02-18</th>\n",
              "      <td>1878.0</td>\n",
              "      <td>139.0</td>\n",
              "      <td>1769.0</td>\n",
              "    </tr>\n",
              "    <tr>\n",
              "      <th>2020-02-19</th>\n",
              "      <td>503.0</td>\n",
              "      <td>115.0</td>\n",
              "      <td>1769.0</td>\n",
              "    </tr>\n",
              "    <tr>\n",
              "      <th>2020-02-20</th>\n",
              "      <td>558.0</td>\n",
              "      <td>125.0</td>\n",
              "      <td>2056.0</td>\n",
              "    </tr>\n",
              "    <tr>\n",
              "      <th>2020-02-21</th>\n",
              "      <td>644.0</td>\n",
              "      <td>4.0</td>\n",
              "      <td>713.0</td>\n",
              "    </tr>\n",
              "    <tr>\n",
              "      <th>2020-02-22</th>\n",
              "      <td>1756.0</td>\n",
              "      <td>207.0</td>\n",
              "      <td>3996.0</td>\n",
              "    </tr>\n",
              "    <tr>\n",
              "      <th>2020-02-23</th>\n",
              "      <td>386.0</td>\n",
              "      <td>11.0</td>\n",
              "      <td>508.0</td>\n",
              "    </tr>\n",
              "    <tr>\n",
              "      <th>2020-02-24</th>\n",
              "      <td>585.0</td>\n",
              "      <td>160.0</td>\n",
              "      <td>1833.0</td>\n",
              "    </tr>\n",
              "    <tr>\n",
              "      <th>2020-02-25</th>\n",
              "      <td>845.0</td>\n",
              "      <td>79.0</td>\n",
              "      <td>2678.0</td>\n",
              "    </tr>\n",
              "    <tr>\n",
              "      <th>2020-02-26</th>\n",
              "      <td>982.0</td>\n",
              "      <td>62.0</td>\n",
              "      <td>2479.0</td>\n",
              "    </tr>\n",
              "    <tr>\n",
              "      <th>2020-02-27</th>\n",
              "      <td>1359.0</td>\n",
              "      <td>44.0</td>\n",
              "      <td>2893.0</td>\n",
              "    </tr>\n",
              "    <tr>\n",
              "      <th>2020-02-28</th>\n",
              "      <td>1368.0</td>\n",
              "      <td>58.0</td>\n",
              "      <td>3434.0</td>\n",
              "    </tr>\n",
              "    <tr>\n",
              "      <th>2020-02-29</th>\n",
              "      <td>1889.0</td>\n",
              "      <td>69.0</td>\n",
              "      <td>3071.0</td>\n",
              "    </tr>\n",
              "    <tr>\n",
              "      <th>2020-03-01</th>\n",
              "      <td>2358.0</td>\n",
              "      <td>55.0</td>\n",
              "      <td>2934.0</td>\n",
              "    </tr>\n",
              "    <tr>\n",
              "      <th>2020-03-02</th>\n",
              "      <td>1938.0</td>\n",
              "      <td>89.0</td>\n",
              "      <td>2886.0</td>\n",
              "    </tr>\n",
              "    <tr>\n",
              "      <th>2020-03-03</th>\n",
              "      <td>2535.0</td>\n",
              "      <td>75.0</td>\n",
              "      <td>2627.0</td>\n",
              "    </tr>\n",
              "    <tr>\n",
              "      <th>2020-03-04</th>\n",
              "      <td>2280.0</td>\n",
              "      <td>94.0</td>\n",
              "      <td>2942.0</td>\n",
              "    </tr>\n",
              "  </tbody>\n",
              "</table>\n",
              "</div>"
            ]
          },
          "metadata": {
            "tags": []
          },
          "execution_count": 44
        }
      ],
      "metadata": {
        "id": "NOwe8Okq1VyY",
        "colab": {
          "base_uri": "https://localhost:8080/",
          "height": 1000
        },
        "outputId": "653b3609-bd12-48dd-ec58-6b8b1e198070"
      }
    },
    {
      "cell_type": "code",
      "execution_count": null,
      "source": [
        "df_time.head(1).to_dict()"
      ],
      "outputs": [
        {
          "output_type": "execute_result",
          "data": {
            "text/plain": [
              "{'Confirmed': {Timestamp('2020-01-22 00:00:00'): 555.0},\n",
              " 'Deaths': {Timestamp('2020-01-22 00:00:00'): 17.0},\n",
              " 'Recovered': {Timestamp('2020-01-22 00:00:00'): 28.0}}"
            ]
          },
          "metadata": {
            "tags": []
          },
          "execution_count": 46
        }
      ],
      "metadata": {
        "id": "iS4znkZ41l25",
        "colab": {
          "base_uri": "https://localhost:8080/",
          "height": 72
        },
        "outputId": "0d060156-0003-4445-aa75-c6e0dfbf1f7a"
      }
    },
    {
      "cell_type": "code",
      "execution_count": null,
      "source": [
        "df_diff = df_diff.fillna({'Confirmed': 555.0,\n",
        " 'Deaths': 17.0,\n",
        " 'Recovered': 28.0})"
      ],
      "outputs": [],
      "metadata": {
        "id": "FBXVgusl1dwJ"
      }
    },
    {
      "cell_type": "code",
      "execution_count": null,
      "source": [
        "df_diff.cumsum()"
      ],
      "outputs": [
        {
          "output_type": "execute_result",
          "data": {
            "text/plain": [
              "                 Confirmed  Deaths  Recovered\n",
              "ObservationDate                              \n",
              "2020-01-22           555.0    17.0       28.0\n",
              "2020-01-23           653.0    18.0       30.0\n",
              "2020-01-24           941.0    26.0       36.0\n",
              "2020-01-25          1438.0    42.0       39.0\n",
              "2020-01-26          2118.0    56.0       52.0\n",
              "2020-01-27          2927.0    82.0       61.0\n",
              "2020-01-28          5578.0   131.0      107.0\n",
              "2020-01-29          6165.0   133.0      126.0\n",
              "2020-01-30          8235.0   171.0      143.0\n",
              "2020-01-31          9925.0   213.0      222.0\n",
              "2020-02-01         12038.0   259.0      284.0\n",
              "2020-02-02         16787.0   362.0      472.0\n",
              "2020-02-03         19881.0   426.0      623.0\n",
              "2020-02-04         23892.0   492.0      852.0\n",
              "2020-02-05         27636.0   564.0     1124.0\n",
              "2020-02-06         30818.0   634.0     1487.0\n",
              "2020-02-07         34392.0   719.0     2011.0\n",
              "2020-02-08         37121.0   806.0     2616.0\n",
              "2020-02-09         40151.0   906.0     3244.0\n",
              "2020-02-10         42763.0  1013.0     3946.0\n",
              "2020-02-11         44803.0  1113.0     4683.0\n",
              "2020-02-12         45222.0  1118.0     5150.0\n",
              "2020-02-13         60370.0  1371.0     6295.0\n",
              "2020-02-14         66887.0  1523.0     8058.0\n",
              "2020-02-15         69032.0  1666.0     9395.0\n",
              "2020-02-16         71226.0  1770.0    10865.0\n",
              "2020-02-17         73260.0  1868.0    12583.0\n",
              "2020-02-18         75138.0  2007.0    14352.0\n",
              "2020-02-19         75641.0  2122.0    16121.0\n",
              "2020-02-20         76199.0  2247.0    18177.0\n",
              "2020-02-21         76843.0  2251.0    18890.0\n",
              "2020-02-22         78599.0  2458.0    22886.0\n",
              "2020-02-23         78985.0  2469.0    23394.0\n",
              "2020-02-24         79570.0  2629.0    25227.0\n",
              "2020-02-25         80415.0  2708.0    27905.0\n",
              "2020-02-26         81397.0  2770.0    30384.0\n",
              "2020-02-27         82756.0  2814.0    33277.0\n",
              "2020-02-28         84124.0  2872.0    36711.0\n",
              "2020-02-29         86013.0  2941.0    39782.0\n",
              "2020-03-01         88371.0  2996.0    42716.0\n",
              "2020-03-02         90309.0  3085.0    45602.0\n",
              "2020-03-03         92844.0  3160.0    48229.0\n",
              "2020-03-04         95124.0  3254.0    51171.0"
            ],
            "text/html": [
              "<div>\n",
              "<style scoped>\n",
              "    .dataframe tbody tr th:only-of-type {\n",
              "        vertical-align: middle;\n",
              "    }\n",
              "\n",
              "    .dataframe tbody tr th {\n",
              "        vertical-align: top;\n",
              "    }\n",
              "\n",
              "    .dataframe thead th {\n",
              "        text-align: right;\n",
              "    }\n",
              "</style>\n",
              "<table border=\"1\" class=\"dataframe\">\n",
              "  <thead>\n",
              "    <tr style=\"text-align: right;\">\n",
              "      <th></th>\n",
              "      <th>Confirmed</th>\n",
              "      <th>Deaths</th>\n",
              "      <th>Recovered</th>\n",
              "    </tr>\n",
              "    <tr>\n",
              "      <th>ObservationDate</th>\n",
              "      <th></th>\n",
              "      <th></th>\n",
              "      <th></th>\n",
              "    </tr>\n",
              "  </thead>\n",
              "  <tbody>\n",
              "    <tr>\n",
              "      <th>2020-01-22</th>\n",
              "      <td>555.0</td>\n",
              "      <td>17.0</td>\n",
              "      <td>28.0</td>\n",
              "    </tr>\n",
              "    <tr>\n",
              "      <th>2020-01-23</th>\n",
              "      <td>653.0</td>\n",
              "      <td>18.0</td>\n",
              "      <td>30.0</td>\n",
              "    </tr>\n",
              "    <tr>\n",
              "      <th>2020-01-24</th>\n",
              "      <td>941.0</td>\n",
              "      <td>26.0</td>\n",
              "      <td>36.0</td>\n",
              "    </tr>\n",
              "    <tr>\n",
              "      <th>2020-01-25</th>\n",
              "      <td>1438.0</td>\n",
              "      <td>42.0</td>\n",
              "      <td>39.0</td>\n",
              "    </tr>\n",
              "    <tr>\n",
              "      <th>2020-01-26</th>\n",
              "      <td>2118.0</td>\n",
              "      <td>56.0</td>\n",
              "      <td>52.0</td>\n",
              "    </tr>\n",
              "    <tr>\n",
              "      <th>2020-01-27</th>\n",
              "      <td>2927.0</td>\n",
              "      <td>82.0</td>\n",
              "      <td>61.0</td>\n",
              "    </tr>\n",
              "    <tr>\n",
              "      <th>2020-01-28</th>\n",
              "      <td>5578.0</td>\n",
              "      <td>131.0</td>\n",
              "      <td>107.0</td>\n",
              "    </tr>\n",
              "    <tr>\n",
              "      <th>2020-01-29</th>\n",
              "      <td>6165.0</td>\n",
              "      <td>133.0</td>\n",
              "      <td>126.0</td>\n",
              "    </tr>\n",
              "    <tr>\n",
              "      <th>2020-01-30</th>\n",
              "      <td>8235.0</td>\n",
              "      <td>171.0</td>\n",
              "      <td>143.0</td>\n",
              "    </tr>\n",
              "    <tr>\n",
              "      <th>2020-01-31</th>\n",
              "      <td>9925.0</td>\n",
              "      <td>213.0</td>\n",
              "      <td>222.0</td>\n",
              "    </tr>\n",
              "    <tr>\n",
              "      <th>2020-02-01</th>\n",
              "      <td>12038.0</td>\n",
              "      <td>259.0</td>\n",
              "      <td>284.0</td>\n",
              "    </tr>\n",
              "    <tr>\n",
              "      <th>2020-02-02</th>\n",
              "      <td>16787.0</td>\n",
              "      <td>362.0</td>\n",
              "      <td>472.0</td>\n",
              "    </tr>\n",
              "    <tr>\n",
              "      <th>2020-02-03</th>\n",
              "      <td>19881.0</td>\n",
              "      <td>426.0</td>\n",
              "      <td>623.0</td>\n",
              "    </tr>\n",
              "    <tr>\n",
              "      <th>2020-02-04</th>\n",
              "      <td>23892.0</td>\n",
              "      <td>492.0</td>\n",
              "      <td>852.0</td>\n",
              "    </tr>\n",
              "    <tr>\n",
              "      <th>2020-02-05</th>\n",
              "      <td>27636.0</td>\n",
              "      <td>564.0</td>\n",
              "      <td>1124.0</td>\n",
              "    </tr>\n",
              "    <tr>\n",
              "      <th>2020-02-06</th>\n",
              "      <td>30818.0</td>\n",
              "      <td>634.0</td>\n",
              "      <td>1487.0</td>\n",
              "    </tr>\n",
              "    <tr>\n",
              "      <th>2020-02-07</th>\n",
              "      <td>34392.0</td>\n",
              "      <td>719.0</td>\n",
              "      <td>2011.0</td>\n",
              "    </tr>\n",
              "    <tr>\n",
              "      <th>2020-02-08</th>\n",
              "      <td>37121.0</td>\n",
              "      <td>806.0</td>\n",
              "      <td>2616.0</td>\n",
              "    </tr>\n",
              "    <tr>\n",
              "      <th>2020-02-09</th>\n",
              "      <td>40151.0</td>\n",
              "      <td>906.0</td>\n",
              "      <td>3244.0</td>\n",
              "    </tr>\n",
              "    <tr>\n",
              "      <th>2020-02-10</th>\n",
              "      <td>42763.0</td>\n",
              "      <td>1013.0</td>\n",
              "      <td>3946.0</td>\n",
              "    </tr>\n",
              "    <tr>\n",
              "      <th>2020-02-11</th>\n",
              "      <td>44803.0</td>\n",
              "      <td>1113.0</td>\n",
              "      <td>4683.0</td>\n",
              "    </tr>\n",
              "    <tr>\n",
              "      <th>2020-02-12</th>\n",
              "      <td>45222.0</td>\n",
              "      <td>1118.0</td>\n",
              "      <td>5150.0</td>\n",
              "    </tr>\n",
              "    <tr>\n",
              "      <th>2020-02-13</th>\n",
              "      <td>60370.0</td>\n",
              "      <td>1371.0</td>\n",
              "      <td>6295.0</td>\n",
              "    </tr>\n",
              "    <tr>\n",
              "      <th>2020-02-14</th>\n",
              "      <td>66887.0</td>\n",
              "      <td>1523.0</td>\n",
              "      <td>8058.0</td>\n",
              "    </tr>\n",
              "    <tr>\n",
              "      <th>2020-02-15</th>\n",
              "      <td>69032.0</td>\n",
              "      <td>1666.0</td>\n",
              "      <td>9395.0</td>\n",
              "    </tr>\n",
              "    <tr>\n",
              "      <th>2020-02-16</th>\n",
              "      <td>71226.0</td>\n",
              "      <td>1770.0</td>\n",
              "      <td>10865.0</td>\n",
              "    </tr>\n",
              "    <tr>\n",
              "      <th>2020-02-17</th>\n",
              "      <td>73260.0</td>\n",
              "      <td>1868.0</td>\n",
              "      <td>12583.0</td>\n",
              "    </tr>\n",
              "    <tr>\n",
              "      <th>2020-02-18</th>\n",
              "      <td>75138.0</td>\n",
              "      <td>2007.0</td>\n",
              "      <td>14352.0</td>\n",
              "    </tr>\n",
              "    <tr>\n",
              "      <th>2020-02-19</th>\n",
              "      <td>75641.0</td>\n",
              "      <td>2122.0</td>\n",
              "      <td>16121.0</td>\n",
              "    </tr>\n",
              "    <tr>\n",
              "      <th>2020-02-20</th>\n",
              "      <td>76199.0</td>\n",
              "      <td>2247.0</td>\n",
              "      <td>18177.0</td>\n",
              "    </tr>\n",
              "    <tr>\n",
              "      <th>2020-02-21</th>\n",
              "      <td>76843.0</td>\n",
              "      <td>2251.0</td>\n",
              "      <td>18890.0</td>\n",
              "    </tr>\n",
              "    <tr>\n",
              "      <th>2020-02-22</th>\n",
              "      <td>78599.0</td>\n",
              "      <td>2458.0</td>\n",
              "      <td>22886.0</td>\n",
              "    </tr>\n",
              "    <tr>\n",
              "      <th>2020-02-23</th>\n",
              "      <td>78985.0</td>\n",
              "      <td>2469.0</td>\n",
              "      <td>23394.0</td>\n",
              "    </tr>\n",
              "    <tr>\n",
              "      <th>2020-02-24</th>\n",
              "      <td>79570.0</td>\n",
              "      <td>2629.0</td>\n",
              "      <td>25227.0</td>\n",
              "    </tr>\n",
              "    <tr>\n",
              "      <th>2020-02-25</th>\n",
              "      <td>80415.0</td>\n",
              "      <td>2708.0</td>\n",
              "      <td>27905.0</td>\n",
              "    </tr>\n",
              "    <tr>\n",
              "      <th>2020-02-26</th>\n",
              "      <td>81397.0</td>\n",
              "      <td>2770.0</td>\n",
              "      <td>30384.0</td>\n",
              "    </tr>\n",
              "    <tr>\n",
              "      <th>2020-02-27</th>\n",
              "      <td>82756.0</td>\n",
              "      <td>2814.0</td>\n",
              "      <td>33277.0</td>\n",
              "    </tr>\n",
              "    <tr>\n",
              "      <th>2020-02-28</th>\n",
              "      <td>84124.0</td>\n",
              "      <td>2872.0</td>\n",
              "      <td>36711.0</td>\n",
              "    </tr>\n",
              "    <tr>\n",
              "      <th>2020-02-29</th>\n",
              "      <td>86013.0</td>\n",
              "      <td>2941.0</td>\n",
              "      <td>39782.0</td>\n",
              "    </tr>\n",
              "    <tr>\n",
              "      <th>2020-03-01</th>\n",
              "      <td>88371.0</td>\n",
              "      <td>2996.0</td>\n",
              "      <td>42716.0</td>\n",
              "    </tr>\n",
              "    <tr>\n",
              "      <th>2020-03-02</th>\n",
              "      <td>90309.0</td>\n",
              "      <td>3085.0</td>\n",
              "      <td>45602.0</td>\n",
              "    </tr>\n",
              "    <tr>\n",
              "      <th>2020-03-03</th>\n",
              "      <td>92844.0</td>\n",
              "      <td>3160.0</td>\n",
              "      <td>48229.0</td>\n",
              "    </tr>\n",
              "    <tr>\n",
              "      <th>2020-03-04</th>\n",
              "      <td>95124.0</td>\n",
              "      <td>3254.0</td>\n",
              "      <td>51171.0</td>\n",
              "    </tr>\n",
              "  </tbody>\n",
              "</table>\n",
              "</div>"
            ]
          },
          "metadata": {
            "tags": []
          },
          "execution_count": 82
        }
      ],
      "metadata": {
        "id": "pyfSlB6I5PIu",
        "colab": {
          "base_uri": "https://localhost:8080/",
          "height": 1000
        },
        "outputId": "2f458fba-b1f2-48b7-8455-9f606376b5e9"
      }
    },
    {
      "cell_type": "code",
      "execution_count": null,
      "source": [
        "df_diff.resample('M').sum()"
      ],
      "outputs": [
        {
          "output_type": "execute_result",
          "data": {
            "text/plain": [
              "                 Confirmed  Deaths  Recovered\n",
              "ObservationDate                              \n",
              "2020-01-31          9925.0   213.0      222.0\n",
              "2020-02-29         76088.0  2728.0    39560.0\n",
              "2020-03-31          9111.0   313.0    11389.0"
            ],
            "text/html": [
              "<div>\n",
              "<style scoped>\n",
              "    .dataframe tbody tr th:only-of-type {\n",
              "        vertical-align: middle;\n",
              "    }\n",
              "\n",
              "    .dataframe tbody tr th {\n",
              "        vertical-align: top;\n",
              "    }\n",
              "\n",
              "    .dataframe thead th {\n",
              "        text-align: right;\n",
              "    }\n",
              "</style>\n",
              "<table border=\"1\" class=\"dataframe\">\n",
              "  <thead>\n",
              "    <tr style=\"text-align: right;\">\n",
              "      <th></th>\n",
              "      <th>Confirmed</th>\n",
              "      <th>Deaths</th>\n",
              "      <th>Recovered</th>\n",
              "    </tr>\n",
              "    <tr>\n",
              "      <th>ObservationDate</th>\n",
              "      <th></th>\n",
              "      <th></th>\n",
              "      <th></th>\n",
              "    </tr>\n",
              "  </thead>\n",
              "  <tbody>\n",
              "    <tr>\n",
              "      <th>2020-01-31</th>\n",
              "      <td>9925.0</td>\n",
              "      <td>213.0</td>\n",
              "      <td>222.0</td>\n",
              "    </tr>\n",
              "    <tr>\n",
              "      <th>2020-02-29</th>\n",
              "      <td>76088.0</td>\n",
              "      <td>2728.0</td>\n",
              "      <td>39560.0</td>\n",
              "    </tr>\n",
              "    <tr>\n",
              "      <th>2020-03-31</th>\n",
              "      <td>9111.0</td>\n",
              "      <td>313.0</td>\n",
              "      <td>11389.0</td>\n",
              "    </tr>\n",
              "  </tbody>\n",
              "</table>\n",
              "</div>"
            ]
          },
          "metadata": {
            "tags": []
          },
          "execution_count": 85
        }
      ],
      "metadata": {
        "id": "2dKYASws5ZR7",
        "colab": {
          "base_uri": "https://localhost:8080/",
          "height": 175
        },
        "outputId": "55c41872-1603-42cf-8633-482e4ef91b9a"
      }
    },
    {
      "cell_type": "code",
      "execution_count": null,
      "source": [
        "df_diff.resample('M').count()"
      ],
      "outputs": [
        {
          "output_type": "execute_result",
          "data": {
            "text/plain": [
              "                 Confirmed  Deaths  Recovered\n",
              "ObservationDate                              \n",
              "2020-01-31              10      10         10\n",
              "2020-02-29              29      29         29\n",
              "2020-03-31               4       4          4"
            ],
            "text/html": [
              "<div>\n",
              "<style scoped>\n",
              "    .dataframe tbody tr th:only-of-type {\n",
              "        vertical-align: middle;\n",
              "    }\n",
              "\n",
              "    .dataframe tbody tr th {\n",
              "        vertical-align: top;\n",
              "    }\n",
              "\n",
              "    .dataframe thead th {\n",
              "        text-align: right;\n",
              "    }\n",
              "</style>\n",
              "<table border=\"1\" class=\"dataframe\">\n",
              "  <thead>\n",
              "    <tr style=\"text-align: right;\">\n",
              "      <th></th>\n",
              "      <th>Confirmed</th>\n",
              "      <th>Deaths</th>\n",
              "      <th>Recovered</th>\n",
              "    </tr>\n",
              "    <tr>\n",
              "      <th>ObservationDate</th>\n",
              "      <th></th>\n",
              "      <th></th>\n",
              "      <th></th>\n",
              "    </tr>\n",
              "  </thead>\n",
              "  <tbody>\n",
              "    <tr>\n",
              "      <th>2020-01-31</th>\n",
              "      <td>10</td>\n",
              "      <td>10</td>\n",
              "      <td>10</td>\n",
              "    </tr>\n",
              "    <tr>\n",
              "      <th>2020-02-29</th>\n",
              "      <td>29</td>\n",
              "      <td>29</td>\n",
              "      <td>29</td>\n",
              "    </tr>\n",
              "    <tr>\n",
              "      <th>2020-03-31</th>\n",
              "      <td>4</td>\n",
              "      <td>4</td>\n",
              "      <td>4</td>\n",
              "    </tr>\n",
              "  </tbody>\n",
              "</table>\n",
              "</div>"
            ]
          },
          "metadata": {
            "tags": []
          },
          "execution_count": 86
        }
      ],
      "metadata": {
        "id": "GqJdiLPi5m6r",
        "colab": {
          "base_uri": "https://localhost:8080/",
          "height": 175
        },
        "outputId": "3992edcb-4b49-4d41-b2d2-32db458f6301"
      }
    },
    {
      "cell_type": "code",
      "execution_count": null,
      "source": [
        "df_diff.resample('M').mean()"
      ],
      "outputs": [
        {
          "output_type": "execute_result",
          "data": {
            "text/plain": [
              "                   Confirmed     Deaths    Recovered\n",
              "ObservationDate                                     \n",
              "2020-01-31        992.500000  21.300000    22.200000\n",
              "2020-02-29       2623.724138  94.068966  1364.137931\n",
              "2020-03-31       2277.750000  78.250000  2847.250000"
            ],
            "text/html": [
              "<div>\n",
              "<style scoped>\n",
              "    .dataframe tbody tr th:only-of-type {\n",
              "        vertical-align: middle;\n",
              "    }\n",
              "\n",
              "    .dataframe tbody tr th {\n",
              "        vertical-align: top;\n",
              "    }\n",
              "\n",
              "    .dataframe thead th {\n",
              "        text-align: right;\n",
              "    }\n",
              "</style>\n",
              "<table border=\"1\" class=\"dataframe\">\n",
              "  <thead>\n",
              "    <tr style=\"text-align: right;\">\n",
              "      <th></th>\n",
              "      <th>Confirmed</th>\n",
              "      <th>Deaths</th>\n",
              "      <th>Recovered</th>\n",
              "    </tr>\n",
              "    <tr>\n",
              "      <th>ObservationDate</th>\n",
              "      <th></th>\n",
              "      <th></th>\n",
              "      <th></th>\n",
              "    </tr>\n",
              "  </thead>\n",
              "  <tbody>\n",
              "    <tr>\n",
              "      <th>2020-01-31</th>\n",
              "      <td>992.500000</td>\n",
              "      <td>21.300000</td>\n",
              "      <td>22.200000</td>\n",
              "    </tr>\n",
              "    <tr>\n",
              "      <th>2020-02-29</th>\n",
              "      <td>2623.724138</td>\n",
              "      <td>94.068966</td>\n",
              "      <td>1364.137931</td>\n",
              "    </tr>\n",
              "    <tr>\n",
              "      <th>2020-03-31</th>\n",
              "      <td>2277.750000</td>\n",
              "      <td>78.250000</td>\n",
              "      <td>2847.250000</td>\n",
              "    </tr>\n",
              "  </tbody>\n",
              "</table>\n",
              "</div>"
            ]
          },
          "metadata": {
            "tags": []
          },
          "execution_count": 87
        }
      ],
      "metadata": {
        "id": "yxX5evhR517c",
        "colab": {
          "base_uri": "https://localhost:8080/",
          "height": 175
        },
        "outputId": "c661de23-1893-4f7a-ee6a-ce98006b25d4"
      }
    },
    {
      "cell_type": "code",
      "execution_count": null,
      "source": [
        "df_cum = df_time.resample('12h').sum(min_count=1)\n",
        "df_cum"
      ],
      "outputs": [
        {
          "output_type": "execute_result",
          "data": {
            "text/plain": [
              "                     Confirmed  Deaths  Recovered\n",
              "ObservationDate                                  \n",
              "2020-01-22 00:00:00      555.0    17.0       28.0\n",
              "2020-01-22 12:00:00        NaN     NaN        NaN\n",
              "2020-01-23 00:00:00      653.0    18.0       30.0\n",
              "2020-01-23 12:00:00        NaN     NaN        NaN\n",
              "2020-01-24 00:00:00      941.0    26.0       36.0\n",
              "...                        ...     ...        ...\n",
              "2020-03-02 00:00:00    90309.0  3085.0    45602.0\n",
              "2020-03-02 12:00:00        NaN     NaN        NaN\n",
              "2020-03-03 00:00:00    92844.0  3160.0    48229.0\n",
              "2020-03-03 12:00:00        NaN     NaN        NaN\n",
              "2020-03-04 00:00:00    95124.0  3254.0    51171.0\n",
              "\n",
              "[85 rows x 3 columns]"
            ],
            "text/html": [
              "<div>\n",
              "<style scoped>\n",
              "    .dataframe tbody tr th:only-of-type {\n",
              "        vertical-align: middle;\n",
              "    }\n",
              "\n",
              "    .dataframe tbody tr th {\n",
              "        vertical-align: top;\n",
              "    }\n",
              "\n",
              "    .dataframe thead th {\n",
              "        text-align: right;\n",
              "    }\n",
              "</style>\n",
              "<table border=\"1\" class=\"dataframe\">\n",
              "  <thead>\n",
              "    <tr style=\"text-align: right;\">\n",
              "      <th></th>\n",
              "      <th>Confirmed</th>\n",
              "      <th>Deaths</th>\n",
              "      <th>Recovered</th>\n",
              "    </tr>\n",
              "    <tr>\n",
              "      <th>ObservationDate</th>\n",
              "      <th></th>\n",
              "      <th></th>\n",
              "      <th></th>\n",
              "    </tr>\n",
              "  </thead>\n",
              "  <tbody>\n",
              "    <tr>\n",
              "      <th>2020-01-22 00:00:00</th>\n",
              "      <td>555.0</td>\n",
              "      <td>17.0</td>\n",
              "      <td>28.0</td>\n",
              "    </tr>\n",
              "    <tr>\n",
              "      <th>2020-01-22 12:00:00</th>\n",
              "      <td>NaN</td>\n",
              "      <td>NaN</td>\n",
              "      <td>NaN</td>\n",
              "    </tr>\n",
              "    <tr>\n",
              "      <th>2020-01-23 00:00:00</th>\n",
              "      <td>653.0</td>\n",
              "      <td>18.0</td>\n",
              "      <td>30.0</td>\n",
              "    </tr>\n",
              "    <tr>\n",
              "      <th>2020-01-23 12:00:00</th>\n",
              "      <td>NaN</td>\n",
              "      <td>NaN</td>\n",
              "      <td>NaN</td>\n",
              "    </tr>\n",
              "    <tr>\n",
              "      <th>2020-01-24 00:00:00</th>\n",
              "      <td>941.0</td>\n",
              "      <td>26.0</td>\n",
              "      <td>36.0</td>\n",
              "    </tr>\n",
              "    <tr>\n",
              "      <th>...</th>\n",
              "      <td>...</td>\n",
              "      <td>...</td>\n",
              "      <td>...</td>\n",
              "    </tr>\n",
              "    <tr>\n",
              "      <th>2020-03-02 00:00:00</th>\n",
              "      <td>90309.0</td>\n",
              "      <td>3085.0</td>\n",
              "      <td>45602.0</td>\n",
              "    </tr>\n",
              "    <tr>\n",
              "      <th>2020-03-02 12:00:00</th>\n",
              "      <td>NaN</td>\n",
              "      <td>NaN</td>\n",
              "      <td>NaN</td>\n",
              "    </tr>\n",
              "    <tr>\n",
              "      <th>2020-03-03 00:00:00</th>\n",
              "      <td>92844.0</td>\n",
              "      <td>3160.0</td>\n",
              "      <td>48229.0</td>\n",
              "    </tr>\n",
              "    <tr>\n",
              "      <th>2020-03-03 12:00:00</th>\n",
              "      <td>NaN</td>\n",
              "      <td>NaN</td>\n",
              "      <td>NaN</td>\n",
              "    </tr>\n",
              "    <tr>\n",
              "      <th>2020-03-04 00:00:00</th>\n",
              "      <td>95124.0</td>\n",
              "      <td>3254.0</td>\n",
              "      <td>51171.0</td>\n",
              "    </tr>\n",
              "  </tbody>\n",
              "</table>\n",
              "<p>85 rows × 3 columns</p>\n",
              "</div>"
            ]
          },
          "metadata": {
            "tags": []
          },
          "execution_count": 100
        }
      ],
      "metadata": {
        "id": "5nTAmItL8PAm",
        "colab": {
          "base_uri": "https://localhost:8080/",
          "height": 455
        },
        "outputId": "7ed6ed2f-dd9f-4ec1-ed86-a5b8c3f9dcc7"
      }
    },
    {
      "cell_type": "code",
      "execution_count": null,
      "source": [
        "df_cum = df_cum.interpolate()\n",
        "df_cum"
      ],
      "outputs": [
        {
          "output_type": "execute_result",
          "data": {
            "text/plain": [
              "                     Confirmed  Deaths  Recovered\n",
              "ObservationDate                                  \n",
              "2020-01-22 00:00:00      555.0    17.0       28.0\n",
              "2020-01-22 12:00:00      604.0    17.5       29.0\n",
              "2020-01-23 00:00:00      653.0    18.0       30.0\n",
              "2020-01-23 12:00:00      797.0    22.0       33.0\n",
              "2020-01-24 00:00:00      941.0    26.0       36.0\n",
              "...                        ...     ...        ...\n",
              "2020-03-02 00:00:00    90309.0  3085.0    45602.0\n",
              "2020-03-02 12:00:00    91576.5  3122.5    46915.5\n",
              "2020-03-03 00:00:00    92844.0  3160.0    48229.0\n",
              "2020-03-03 12:00:00    93984.0  3207.0    49700.0\n",
              "2020-03-04 00:00:00    95124.0  3254.0    51171.0\n",
              "\n",
              "[85 rows x 3 columns]"
            ],
            "text/html": [
              "<div>\n",
              "<style scoped>\n",
              "    .dataframe tbody tr th:only-of-type {\n",
              "        vertical-align: middle;\n",
              "    }\n",
              "\n",
              "    .dataframe tbody tr th {\n",
              "        vertical-align: top;\n",
              "    }\n",
              "\n",
              "    .dataframe thead th {\n",
              "        text-align: right;\n",
              "    }\n",
              "</style>\n",
              "<table border=\"1\" class=\"dataframe\">\n",
              "  <thead>\n",
              "    <tr style=\"text-align: right;\">\n",
              "      <th></th>\n",
              "      <th>Confirmed</th>\n",
              "      <th>Deaths</th>\n",
              "      <th>Recovered</th>\n",
              "    </tr>\n",
              "    <tr>\n",
              "      <th>ObservationDate</th>\n",
              "      <th></th>\n",
              "      <th></th>\n",
              "      <th></th>\n",
              "    </tr>\n",
              "  </thead>\n",
              "  <tbody>\n",
              "    <tr>\n",
              "      <th>2020-01-22 00:00:00</th>\n",
              "      <td>555.0</td>\n",
              "      <td>17.0</td>\n",
              "      <td>28.0</td>\n",
              "    </tr>\n",
              "    <tr>\n",
              "      <th>2020-01-22 12:00:00</th>\n",
              "      <td>604.0</td>\n",
              "      <td>17.5</td>\n",
              "      <td>29.0</td>\n",
              "    </tr>\n",
              "    <tr>\n",
              "      <th>2020-01-23 00:00:00</th>\n",
              "      <td>653.0</td>\n",
              "      <td>18.0</td>\n",
              "      <td>30.0</td>\n",
              "    </tr>\n",
              "    <tr>\n",
              "      <th>2020-01-23 12:00:00</th>\n",
              "      <td>797.0</td>\n",
              "      <td>22.0</td>\n",
              "      <td>33.0</td>\n",
              "    </tr>\n",
              "    <tr>\n",
              "      <th>2020-01-24 00:00:00</th>\n",
              "      <td>941.0</td>\n",
              "      <td>26.0</td>\n",
              "      <td>36.0</td>\n",
              "    </tr>\n",
              "    <tr>\n",
              "      <th>...</th>\n",
              "      <td>...</td>\n",
              "      <td>...</td>\n",
              "      <td>...</td>\n",
              "    </tr>\n",
              "    <tr>\n",
              "      <th>2020-03-02 00:00:00</th>\n",
              "      <td>90309.0</td>\n",
              "      <td>3085.0</td>\n",
              "      <td>45602.0</td>\n",
              "    </tr>\n",
              "    <tr>\n",
              "      <th>2020-03-02 12:00:00</th>\n",
              "      <td>91576.5</td>\n",
              "      <td>3122.5</td>\n",
              "      <td>46915.5</td>\n",
              "    </tr>\n",
              "    <tr>\n",
              "      <th>2020-03-03 00:00:00</th>\n",
              "      <td>92844.0</td>\n",
              "      <td>3160.0</td>\n",
              "      <td>48229.0</td>\n",
              "    </tr>\n",
              "    <tr>\n",
              "      <th>2020-03-03 12:00:00</th>\n",
              "      <td>93984.0</td>\n",
              "      <td>3207.0</td>\n",
              "      <td>49700.0</td>\n",
              "    </tr>\n",
              "    <tr>\n",
              "      <th>2020-03-04 00:00:00</th>\n",
              "      <td>95124.0</td>\n",
              "      <td>3254.0</td>\n",
              "      <td>51171.0</td>\n",
              "    </tr>\n",
              "  </tbody>\n",
              "</table>\n",
              "<p>85 rows × 3 columns</p>\n",
              "</div>"
            ]
          },
          "metadata": {
            "tags": []
          },
          "execution_count": 104
        }
      ],
      "metadata": {
        "id": "ems3aWck-GkQ",
        "colab": {
          "base_uri": "https://localhost:8080/",
          "height": 455
        },
        "outputId": "e12899ec-8c33-4d51-ace2-8ab8c8ceed10"
      }
    },
    {
      "cell_type": "code",
      "execution_count": null,
      "source": [
        "df_cum['rate'] = 1 - df_cum['Deaths']/df_cum['Confirmed']"
      ],
      "outputs": [],
      "metadata": {
        "id": "DDOO8UdG_sLp"
      }
    },
    {
      "cell_type": "code",
      "execution_count": null,
      "source": [
        "df_cum = df_cum.reset_index()\n",
        "df_cum"
      ],
      "outputs": [
        {
          "output_type": "execute_result",
          "data": {
            "text/plain": [
              "       ObservationDate  Confirmed  Deaths  Recovered      rate\n",
              "0  2020-01-22 00:00:00      555.0    17.0       28.0  0.969369\n",
              "1  2020-01-22 12:00:00      604.0    17.5       29.0  0.971026\n",
              "2  2020-01-23 00:00:00      653.0    18.0       30.0  0.972435\n",
              "3  2020-01-23 12:00:00      797.0    22.0       33.0  0.972396\n",
              "4  2020-01-24 00:00:00      941.0    26.0       36.0  0.972370\n",
              "..                 ...        ...     ...        ...       ...\n",
              "80 2020-03-02 00:00:00    90309.0  3085.0    45602.0  0.965840\n",
              "81 2020-03-02 12:00:00    91576.5  3122.5    46915.5  0.965903\n",
              "82 2020-03-03 00:00:00    92844.0  3160.0    48229.0  0.965964\n",
              "83 2020-03-03 12:00:00    93984.0  3207.0    49700.0  0.965877\n",
              "84 2020-03-04 00:00:00    95124.0  3254.0    51171.0  0.965792\n",
              "\n",
              "[85 rows x 5 columns]"
            ],
            "text/html": [
              "<div>\n",
              "<style scoped>\n",
              "    .dataframe tbody tr th:only-of-type {\n",
              "        vertical-align: middle;\n",
              "    }\n",
              "\n",
              "    .dataframe tbody tr th {\n",
              "        vertical-align: top;\n",
              "    }\n",
              "\n",
              "    .dataframe thead th {\n",
              "        text-align: right;\n",
              "    }\n",
              "</style>\n",
              "<table border=\"1\" class=\"dataframe\">\n",
              "  <thead>\n",
              "    <tr style=\"text-align: right;\">\n",
              "      <th></th>\n",
              "      <th>ObservationDate</th>\n",
              "      <th>Confirmed</th>\n",
              "      <th>Deaths</th>\n",
              "      <th>Recovered</th>\n",
              "      <th>rate</th>\n",
              "    </tr>\n",
              "  </thead>\n",
              "  <tbody>\n",
              "    <tr>\n",
              "      <th>0</th>\n",
              "      <td>2020-01-22 00:00:00</td>\n",
              "      <td>555.0</td>\n",
              "      <td>17.0</td>\n",
              "      <td>28.0</td>\n",
              "      <td>0.969369</td>\n",
              "    </tr>\n",
              "    <tr>\n",
              "      <th>1</th>\n",
              "      <td>2020-01-22 12:00:00</td>\n",
              "      <td>604.0</td>\n",
              "      <td>17.5</td>\n",
              "      <td>29.0</td>\n",
              "      <td>0.971026</td>\n",
              "    </tr>\n",
              "    <tr>\n",
              "      <th>2</th>\n",
              "      <td>2020-01-23 00:00:00</td>\n",
              "      <td>653.0</td>\n",
              "      <td>18.0</td>\n",
              "      <td>30.0</td>\n",
              "      <td>0.972435</td>\n",
              "    </tr>\n",
              "    <tr>\n",
              "      <th>3</th>\n",
              "      <td>2020-01-23 12:00:00</td>\n",
              "      <td>797.0</td>\n",
              "      <td>22.0</td>\n",
              "      <td>33.0</td>\n",
              "      <td>0.972396</td>\n",
              "    </tr>\n",
              "    <tr>\n",
              "      <th>4</th>\n",
              "      <td>2020-01-24 00:00:00</td>\n",
              "      <td>941.0</td>\n",
              "      <td>26.0</td>\n",
              "      <td>36.0</td>\n",
              "      <td>0.972370</td>\n",
              "    </tr>\n",
              "    <tr>\n",
              "      <th>...</th>\n",
              "      <td>...</td>\n",
              "      <td>...</td>\n",
              "      <td>...</td>\n",
              "      <td>...</td>\n",
              "      <td>...</td>\n",
              "    </tr>\n",
              "    <tr>\n",
              "      <th>80</th>\n",
              "      <td>2020-03-02 00:00:00</td>\n",
              "      <td>90309.0</td>\n",
              "      <td>3085.0</td>\n",
              "      <td>45602.0</td>\n",
              "      <td>0.965840</td>\n",
              "    </tr>\n",
              "    <tr>\n",
              "      <th>81</th>\n",
              "      <td>2020-03-02 12:00:00</td>\n",
              "      <td>91576.5</td>\n",
              "      <td>3122.5</td>\n",
              "      <td>46915.5</td>\n",
              "      <td>0.965903</td>\n",
              "    </tr>\n",
              "    <tr>\n",
              "      <th>82</th>\n",
              "      <td>2020-03-03 00:00:00</td>\n",
              "      <td>92844.0</td>\n",
              "      <td>3160.0</td>\n",
              "      <td>48229.0</td>\n",
              "      <td>0.965964</td>\n",
              "    </tr>\n",
              "    <tr>\n",
              "      <th>83</th>\n",
              "      <td>2020-03-03 12:00:00</td>\n",
              "      <td>93984.0</td>\n",
              "      <td>3207.0</td>\n",
              "      <td>49700.0</td>\n",
              "      <td>0.965877</td>\n",
              "    </tr>\n",
              "    <tr>\n",
              "      <th>84</th>\n",
              "      <td>2020-03-04 00:00:00</td>\n",
              "      <td>95124.0</td>\n",
              "      <td>3254.0</td>\n",
              "      <td>51171.0</td>\n",
              "      <td>0.965792</td>\n",
              "    </tr>\n",
              "  </tbody>\n",
              "</table>\n",
              "<p>85 rows × 5 columns</p>\n",
              "</div>"
            ]
          },
          "metadata": {
            "tags": []
          },
          "execution_count": 122
        }
      ],
      "metadata": {
        "id": "zRYLnHNc_t5G",
        "colab": {
          "base_uri": "https://localhost:8080/",
          "height": 424
        },
        "outputId": "d6d750a6-a4c9-4edf-9f79-758108c9fa7a"
      }
    },
    {
      "cell_type": "code",
      "execution_count": null,
      "source": [
        "df_cum.groupby(pd.Grouper(key='ObservationDate', freq = 'M'))[['rate']].mean()"
      ],
      "outputs": [
        {
          "output_type": "execute_result",
          "data": {
            "text/plain": [
              "                     rate\n",
              "ObservationDate          \n",
              "2020-01-31       0.974594\n",
              "2020-02-29       0.973562\n",
              "2020-03-31       0.965920"
            ],
            "text/html": [
              "<div>\n",
              "<style scoped>\n",
              "    .dataframe tbody tr th:only-of-type {\n",
              "        vertical-align: middle;\n",
              "    }\n",
              "\n",
              "    .dataframe tbody tr th {\n",
              "        vertical-align: top;\n",
              "    }\n",
              "\n",
              "    .dataframe thead th {\n",
              "        text-align: right;\n",
              "    }\n",
              "</style>\n",
              "<table border=\"1\" class=\"dataframe\">\n",
              "  <thead>\n",
              "    <tr style=\"text-align: right;\">\n",
              "      <th></th>\n",
              "      <th>rate</th>\n",
              "    </tr>\n",
              "    <tr>\n",
              "      <th>ObservationDate</th>\n",
              "      <th></th>\n",
              "    </tr>\n",
              "  </thead>\n",
              "  <tbody>\n",
              "    <tr>\n",
              "      <th>2020-01-31</th>\n",
              "      <td>0.974594</td>\n",
              "    </tr>\n",
              "    <tr>\n",
              "      <th>2020-02-29</th>\n",
              "      <td>0.973562</td>\n",
              "    </tr>\n",
              "    <tr>\n",
              "      <th>2020-03-31</th>\n",
              "      <td>0.965920</td>\n",
              "    </tr>\n",
              "  </tbody>\n",
              "</table>\n",
              "</div>"
            ]
          },
          "metadata": {
            "tags": []
          },
          "execution_count": 123
        }
      ],
      "metadata": {
        "id": "cruYKtvv_4FX",
        "colab": {
          "base_uri": "https://localhost:8080/",
          "height": 175
        },
        "outputId": "1159328a-7d2a-49bd-c9e9-e53f154dd696"
      }
    },
    {
      "cell_type": "code",
      "execution_count": null,
      "source": [
        "sr = df_cum.groupby(pd.Grouper(key='ObservationDate', freq = '1D'))['rate'].mean()\n",
        "sr.plot()"
      ],
      "outputs": [
        {
          "output_type": "execute_result",
          "data": {
            "text/plain": [
              "<matplotlib.axes._subplots.AxesSubplot at 0x7efcd3fae550>"
            ]
          },
          "metadata": {
            "tags": []
          },
          "execution_count": 133
        },
        {
          "output_type": "display_data",
          "data": {
            "text/plain": [
              "<Figure size 432x288 with 1 Axes>"
            ],
            "image/png": "[encoded data removed]"
          },
          "metadata": {
            "tags": []
          }
        }
      ],
      "metadata": {
        "id": "C8tbhpheAmRm",
        "colab": {
          "base_uri": "https://localhost:8080/",
          "height": 333
        },
        "outputId": "1cf007de-fa66-4227-c08a-676c054dd826"
      }
    },
    {
      "cell_type": "code",
      "execution_count": null,
      "source": [
        "sr.plot()\n",
        "sr.rolling(window=7).mean().plot()\n",
        "sr.rolling(window=14).mean().plot()"
      ],
      "outputs": [
        {
          "output_type": "execute_result",
          "data": {
            "text/plain": [
              "<matplotlib.axes._subplots.AxesSubplot at 0x7efcd3f398d0>"
            ]
          },
          "metadata": {
            "tags": []
          },
          "execution_count": 136
        },
        {
          "output_type": "display_data",
          "data": {
            "text/plain": [
              "<Figure size 432x288 with 1 Axes>"
            ],
            "image/png": "[encoded data removed]"
          },
          "metadata": {
            "tags": []
          }
        }
      ],
      "metadata": {
        "id": "vUCwKhWkBt40",
        "colab": {
          "base_uri": "https://localhost:8080/",
          "height": 333
        },
        "outputId": "8126d6cf-c772-4e23-ab4b-f8535b97cd4f"
      }
    },
    {
      "cell_type": "code",
      "execution_count": null,
      "source": [
        "import numpy as np"
      ],
      "outputs": [],
      "metadata": {
        "id": "ee6ZmzxkCNaO"
      }
    },
    {
      "cell_type": "code",
      "execution_count": null,
      "source": [
        "sr.rolling(window=14).apply(lambda x: np.std(x)).plot()"
      ],
      "outputs": [
        {
          "output_type": "execute_result",
          "data": {
            "text/plain": [
              "<matplotlib.axes._subplots.AxesSubplot at 0x7efcd3d86c88>"
            ]
          },
          "metadata": {
            "tags": []
          },
          "execution_count": 139
        },
        {
          "output_type": "display_data",
          "data": {
            "text/plain": [
              "<Figure size 432x288 with 1 Axes>"
            ],
            "image/png": "[encoded data removed]"
          },
          "metadata": {
            "tags": []
          }
        }
      ],
      "metadata": {
        "id": "ZX-jGaMSB0SF",
        "colab": {
          "base_uri": "https://localhost:8080/",
          "height": 332
        },
        "outputId": "be61f370-d3ba-4e1a-ccab-74932d1d0bb1"
      }
    },
    {
      "cell_type": "code",
      "execution_count": null,
      "source": [
        "df.groupby('Country/Region')['Confirmed'].max().sort_values(ascending=False)"
      ],
      "outputs": [
        {
          "output_type": "execute_result",
          "data": {
            "text/plain": [
              "Country/Region\n",
              "Mainland China    67332.0\n",
              "South Korea        5621.0\n",
              "Italy              3089.0\n",
              "Iran               2922.0\n",
              "Others              706.0\n",
              "                   ...   \n",
              "Ivory Coast           1.0\n",
              "Poland                1.0\n",
              "Nigeria               1.0\n",
              "Faroe Islands         1.0\n",
              "Colombia              0.0\n",
              "Name: Confirmed, Length: 90, dtype: float64"
            ]
          },
          "metadata": {
            "tags": []
          },
          "execution_count": 143
        }
      ],
      "metadata": {
        "id": "xsUpV8B5CMun",
        "colab": {
          "base_uri": "https://localhost:8080/",
          "height": 254
        },
        "outputId": "20b5f000-3a15-4fd2-9df9-ddcd1b354f69"
      }
    },
    {
      "cell_type": "code",
      "execution_count": null,
      "source": [
        "list(df)"
      ],
      "outputs": [
        {
          "output_type": "execute_result",
          "data": {
            "text/plain": [
              "['ObservationDate', 'Country/Region', 'Confirmed', 'Deaths', 'Recovered']"
            ]
          },
          "metadata": {
            "tags": []
          },
          "execution_count": 144
        }
      ],
      "metadata": {
        "id": "bSmlZp8-Enkg",
        "colab": {
          "base_uri": "https://localhost:8080/",
          "height": 35
        },
        "outputId": "2e020e55-3fe7-42b2-f91c-6df9378e0ec2"
      }
    },
    {
      "cell_type": "code",
      "execution_count": null,
      "source": [
        "df_time = df.groupby(['Country/Region',\n",
        "            pd.Grouper(key='ObservationDate',freq='1D')]).sum()\n",
        "df_time"
      ],
      "outputs": [
        {
          "output_type": "execute_result",
          "data": {
            "text/plain": [
              "                                Confirmed  Deaths  Recovered\n",
              "Country/Region ObservationDate                              \n",
              " Azerbaijan    2020-02-28             1.0     0.0        0.0\n",
              "Afghanistan    2020-02-24             1.0     0.0        0.0\n",
              "               2020-02-25             1.0     0.0        0.0\n",
              "               2020-02-26             1.0     0.0        0.0\n",
              "               2020-02-27             1.0     0.0        0.0\n",
              "...                                   ...     ...        ...\n",
              "Vietnam        2020-02-29            16.0     0.0       16.0\n",
              "               2020-03-01            16.0     0.0       16.0\n",
              "               2020-03-02            16.0     0.0       16.0\n",
              "               2020-03-03            16.0     0.0       16.0\n",
              "               2020-03-04            16.0     0.0       16.0\n",
              "\n",
              "[1462 rows x 3 columns]"
            ],
            "text/html": [
              "<div>\n",
              "<style scoped>\n",
              "    .dataframe tbody tr th:only-of-type {\n",
              "        vertical-align: middle;\n",
              "    }\n",
              "\n",
              "    .dataframe tbody tr th {\n",
              "        vertical-align: top;\n",
              "    }\n",
              "\n",
              "    .dataframe thead th {\n",
              "        text-align: right;\n",
              "    }\n",
              "</style>\n",
              "<table border=\"1\" class=\"dataframe\">\n",
              "  <thead>\n",
              "    <tr style=\"text-align: right;\">\n",
              "      <th></th>\n",
              "      <th></th>\n",
              "      <th>Confirmed</th>\n",
              "      <th>Deaths</th>\n",
              "      <th>Recovered</th>\n",
              "    </tr>\n",
              "    <tr>\n",
              "      <th>Country/Region</th>\n",
              "      <th>ObservationDate</th>\n",
              "      <th></th>\n",
              "      <th></th>\n",
              "      <th></th>\n",
              "    </tr>\n",
              "  </thead>\n",
              "  <tbody>\n",
              "    <tr>\n",
              "      <th>Azerbaijan</th>\n",
              "      <th>2020-02-28</th>\n",
              "      <td>1.0</td>\n",
              "      <td>0.0</td>\n",
              "      <td>0.0</td>\n",
              "    </tr>\n",
              "    <tr>\n",
              "      <th rowspan=\"4\" valign=\"top\">Afghanistan</th>\n",
              "      <th>2020-02-24</th>\n",
              "      <td>1.0</td>\n",
              "      <td>0.0</td>\n",
              "      <td>0.0</td>\n",
              "    </tr>\n",
              "    <tr>\n",
              "      <th>2020-02-25</th>\n",
              "      <td>1.0</td>\n",
              "      <td>0.0</td>\n",
              "      <td>0.0</td>\n",
              "    </tr>\n",
              "    <tr>\n",
              "      <th>2020-02-26</th>\n",
              "      <td>1.0</td>\n",
              "      <td>0.0</td>\n",
              "      <td>0.0</td>\n",
              "    </tr>\n",
              "    <tr>\n",
              "      <th>2020-02-27</th>\n",
              "      <td>1.0</td>\n",
              "      <td>0.0</td>\n",
              "      <td>0.0</td>\n",
              "    </tr>\n",
              "    <tr>\n",
              "      <th>...</th>\n",
              "      <th>...</th>\n",
              "      <td>...</td>\n",
              "      <td>...</td>\n",
              "      <td>...</td>\n",
              "    </tr>\n",
              "    <tr>\n",
              "      <th rowspan=\"5\" valign=\"top\">Vietnam</th>\n",
              "      <th>2020-02-29</th>\n",
              "      <td>16.0</td>\n",
              "      <td>0.0</td>\n",
              "      <td>16.0</td>\n",
              "    </tr>\n",
              "    <tr>\n",
              "      <th>2020-03-01</th>\n",
              "      <td>16.0</td>\n",
              "      <td>0.0</td>\n",
              "      <td>16.0</td>\n",
              "    </tr>\n",
              "    <tr>\n",
              "      <th>2020-03-02</th>\n",
              "      <td>16.0</td>\n",
              "      <td>0.0</td>\n",
              "      <td>16.0</td>\n",
              "    </tr>\n",
              "    <tr>\n",
              "      <th>2020-03-03</th>\n",
              "      <td>16.0</td>\n",
              "      <td>0.0</td>\n",
              "      <td>16.0</td>\n",
              "    </tr>\n",
              "    <tr>\n",
              "      <th>2020-03-04</th>\n",
              "      <td>16.0</td>\n",
              "      <td>0.0</td>\n",
              "      <td>16.0</td>\n",
              "    </tr>\n",
              "  </tbody>\n",
              "</table>\n",
              "<p>1462 rows × 3 columns</p>\n",
              "</div>"
            ]
          },
          "metadata": {
            "tags": []
          },
          "execution_count": 146
        }
      ],
      "metadata": {
        "id": "PKj8mJWKDKYW",
        "colab": {
          "base_uri": "https://localhost:8080/",
          "height": 455
        },
        "outputId": "5280fdfb-ff20-49f4-ef2f-5647e8b3a212"
      }
    },
    {
      "cell_type": "code",
      "execution_count": null,
      "source": [
        "df_china = df_time.loc['Mainland China',:]"
      ],
      "outputs": [],
      "metadata": {
        "id": "cQoiEONNEvOl"
      }
    },
    {
      "cell_type": "code",
      "execution_count": null,
      "source": [
        "df_china"
      ],
      "outputs": [
        {
          "output_type": "execute_result",
          "data": {
            "text/plain": [
              "                 Confirmed  Deaths  Recovered\n",
              "ObservationDate                              \n",
              "2020-01-22           547.0    17.0       28.0\n",
              "2020-01-23           639.0    18.0       30.0\n",
              "2020-01-24           916.0    26.0       36.0\n",
              "2020-01-25          1399.0    42.0       39.0\n",
              "2020-01-26          2062.0    56.0       49.0\n",
              "2020-01-27          2863.0    82.0       58.0\n",
              "2020-01-28          5494.0   131.0      101.0\n",
              "2020-01-29          6070.0   133.0      120.0\n",
              "2020-01-30          8124.0   171.0      135.0\n",
              "2020-01-31          9783.0   213.0      214.0\n",
              "2020-02-01         11871.0   259.0      275.0\n",
              "2020-02-02         16607.0   361.0      463.0\n",
              "2020-02-03         19693.0   425.0      614.0\n",
              "2020-02-04         23680.0   490.0      843.0\n",
              "2020-02-05         27409.0   562.0     1115.0\n",
              "2020-02-06         30553.0   632.0     1476.0\n",
              "2020-02-07         34075.0   717.0     1998.0\n",
              "2020-02-08         36778.0   804.0     2595.0\n",
              "2020-02-09         39790.0   904.0     3218.0\n",
              "2020-02-10         42306.0  1011.0     3917.0\n",
              "2020-02-11         44327.0  1111.0     4635.0\n",
              "2020-02-12         44699.0  1116.0     5079.0\n",
              "2020-02-13         59832.0  1368.0     6213.0\n",
              "2020-02-14         66292.0  1520.0     7973.0\n",
              "2020-02-15         68347.0  1662.0     9294.0\n",
              "2020-02-16         70446.0  1765.0    10748.0\n",
              "2020-02-17         72364.0  1863.0    12455.0\n",
              "2020-02-18         74139.0  2002.0    14199.0\n",
              "2020-02-19         74546.0  2114.0    15952.0\n",
              "2020-02-20         74999.0  2236.0    18002.0\n",
              "2020-02-21         75472.0  2236.0    18693.0\n",
              "2020-02-22         76922.0  2441.0    22687.0\n",
              "2020-02-23         76938.0  2443.0    23170.0\n",
              "2020-02-24         77152.0  2593.0    24990.0\n",
              "2020-02-25         77660.0  2663.0    27650.0\n",
              "2020-02-26         78065.0  2715.0    30053.0\n",
              "2020-02-27         78498.0  2744.0    32898.0\n",
              "2020-02-28         78824.0  2788.0    36291.0\n",
              "2020-02-29         79251.0  2835.0    39279.0\n",
              "2020-03-01         79826.0  2870.0    42118.0\n",
              "2020-03-02         80026.0  2912.0    44810.0\n",
              "2020-03-03         80151.0  2945.0    47404.0\n",
              "2020-03-04         80271.0  2981.0    49955.0"
            ],
            "text/html": [
              "<div>\n",
              "<style scoped>\n",
              "    .dataframe tbody tr th:only-of-type {\n",
              "        vertical-align: middle;\n",
              "    }\n",
              "\n",
              "    .dataframe tbody tr th {\n",
              "        vertical-align: top;\n",
              "    }\n",
              "\n",
              "    .dataframe thead th {\n",
              "        text-align: right;\n",
              "    }\n",
              "</style>\n",
              "<table border=\"1\" class=\"dataframe\">\n",
              "  <thead>\n",
              "    <tr style=\"text-align: right;\">\n",
              "      <th></th>\n",
              "      <th>Confirmed</th>\n",
              "      <th>Deaths</th>\n",
              "      <th>Recovered</th>\n",
              "    </tr>\n",
              "    <tr>\n",
              "      <th>ObservationDate</th>\n",
              "      <th></th>\n",
              "      <th></th>\n",
              "      <th></th>\n",
              "    </tr>\n",
              "  </thead>\n",
              "  <tbody>\n",
              "    <tr>\n",
              "      <th>2020-01-22</th>\n",
              "      <td>547.0</td>\n",
              "      <td>17.0</td>\n",
              "      <td>28.0</td>\n",
              "    </tr>\n",
              "    <tr>\n",
              "      <th>2020-01-23</th>\n",
              "      <td>639.0</td>\n",
              "      <td>18.0</td>\n",
              "      <td>30.0</td>\n",
              "    </tr>\n",
              "    <tr>\n",
              "      <th>2020-01-24</th>\n",
              "      <td>916.0</td>\n",
              "      <td>26.0</td>\n",
              "      <td>36.0</td>\n",
              "    </tr>\n",
              "    <tr>\n",
              "      <th>2020-01-25</th>\n",
              "      <td>1399.0</td>\n",
              "      <td>42.0</td>\n",
              "      <td>39.0</td>\n",
              "    </tr>\n",
              "    <tr>\n",
              "      <th>2020-01-26</th>\n",
              "      <td>2062.0</td>\n",
              "      <td>56.0</td>\n",
              "      <td>49.0</td>\n",
              "    </tr>\n",
              "    <tr>\n",
              "      <th>2020-01-27</th>\n",
              "      <td>2863.0</td>\n",
              "      <td>82.0</td>\n",
              "      <td>58.0</td>\n",
              "    </tr>\n",
              "    <tr>\n",
              "      <th>2020-01-28</th>\n",
              "      <td>5494.0</td>\n",
              "      <td>131.0</td>\n",
              "      <td>101.0</td>\n",
              "    </tr>\n",
              "    <tr>\n",
              "      <th>2020-01-29</th>\n",
              "      <td>6070.0</td>\n",
              "      <td>133.0</td>\n",
              "      <td>120.0</td>\n",
              "    </tr>\n",
              "    <tr>\n",
              "      <th>2020-01-30</th>\n",
              "      <td>8124.0</td>\n",
              "      <td>171.0</td>\n",
              "      <td>135.0</td>\n",
              "    </tr>\n",
              "    <tr>\n",
              "      <th>2020-01-31</th>\n",
              "      <td>9783.0</td>\n",
              "      <td>213.0</td>\n",
              "      <td>214.0</td>\n",
              "    </tr>\n",
              "    <tr>\n",
              "      <th>2020-02-01</th>\n",
              "      <td>11871.0</td>\n",
              "      <td>259.0</td>\n",
              "      <td>275.0</td>\n",
              "    </tr>\n",
              "    <tr>\n",
              "      <th>2020-02-02</th>\n",
              "      <td>16607.0</td>\n",
              "      <td>361.0</td>\n",
              "      <td>463.0</td>\n",
              "    </tr>\n",
              "    <tr>\n",
              "      <th>2020-02-03</th>\n",
              "      <td>19693.0</td>\n",
              "      <td>425.0</td>\n",
              "      <td>614.0</td>\n",
              "    </tr>\n",
              "    <tr>\n",
              "      <th>2020-02-04</th>\n",
              "      <td>23680.0</td>\n",
              "      <td>490.0</td>\n",
              "      <td>843.0</td>\n",
              "    </tr>\n",
              "    <tr>\n",
              "      <th>2020-02-05</th>\n",
              "      <td>27409.0</td>\n",
              "      <td>562.0</td>\n",
              "      <td>1115.0</td>\n",
              "    </tr>\n",
              "    <tr>\n",
              "      <th>2020-02-06</th>\n",
              "      <td>30553.0</td>\n",
              "      <td>632.0</td>\n",
              "      <td>1476.0</td>\n",
              "    </tr>\n",
              "    <tr>\n",
              "      <th>2020-02-07</th>\n",
              "      <td>34075.0</td>\n",
              "      <td>717.0</td>\n",
              "      <td>1998.0</td>\n",
              "    </tr>\n",
              "    <tr>\n",
              "      <th>2020-02-08</th>\n",
              "      <td>36778.0</td>\n",
              "      <td>804.0</td>\n",
              "      <td>2595.0</td>\n",
              "    </tr>\n",
              "    <tr>\n",
              "      <th>2020-02-09</th>\n",
              "      <td>39790.0</td>\n",
              "      <td>904.0</td>\n",
              "      <td>3218.0</td>\n",
              "    </tr>\n",
              "    <tr>\n",
              "      <th>2020-02-10</th>\n",
              "      <td>42306.0</td>\n",
              "      <td>1011.0</td>\n",
              "      <td>3917.0</td>\n",
              "    </tr>\n",
              "    <tr>\n",
              "      <th>2020-02-11</th>\n",
              "      <td>44327.0</td>\n",
              "      <td>1111.0</td>\n",
              "      <td>4635.0</td>\n",
              "    </tr>\n",
              "    <tr>\n",
              "      <th>2020-02-12</th>\n",
              "      <td>44699.0</td>\n",
              "      <td>1116.0</td>\n",
              "      <td>5079.0</td>\n",
              "    </tr>\n",
              "    <tr>\n",
              "      <th>2020-02-13</th>\n",
              "      <td>59832.0</td>\n",
              "      <td>1368.0</td>\n",
              "      <td>6213.0</td>\n",
              "    </tr>\n",
              "    <tr>\n",
              "      <th>2020-02-14</th>\n",
              "      <td>66292.0</td>\n",
              "      <td>1520.0</td>\n",
              "      <td>7973.0</td>\n",
              "    </tr>\n",
              "    <tr>\n",
              "      <th>2020-02-15</th>\n",
              "      <td>68347.0</td>\n",
              "      <td>1662.0</td>\n",
              "      <td>9294.0</td>\n",
              "    </tr>\n",
              "    <tr>\n",
              "      <th>2020-02-16</th>\n",
              "      <td>70446.0</td>\n",
              "      <td>1765.0</td>\n",
              "      <td>10748.0</td>\n",
              "    </tr>\n",
              "    <tr>\n",
              "      <th>2020-02-17</th>\n",
              "      <td>72364.0</td>\n",
              "      <td>1863.0</td>\n",
              "      <td>12455.0</td>\n",
              "    </tr>\n",
              "    <tr>\n",
              "      <th>2020-02-18</th>\n",
              "      <td>74139.0</td>\n",
              "      <td>2002.0</td>\n",
              "      <td>14199.0</td>\n",
              "    </tr>\n",
              "    <tr>\n",
              "      <th>2020-02-19</th>\n",
              "      <td>74546.0</td>\n",
              "      <td>2114.0</td>\n",
              "      <td>15952.0</td>\n",
              "    </tr>\n",
              "    <tr>\n",
              "      <th>2020-02-20</th>\n",
              "      <td>74999.0</td>\n",
              "      <td>2236.0</td>\n",
              "      <td>18002.0</td>\n",
              "    </tr>\n",
              "    <tr>\n",
              "      <th>2020-02-21</th>\n",
              "      <td>75472.0</td>\n",
              "      <td>2236.0</td>\n",
              "      <td>18693.0</td>\n",
              "    </tr>\n",
              "    <tr>\n",
              "      <th>2020-02-22</th>\n",
              "      <td>76922.0</td>\n",
              "      <td>2441.0</td>\n",
              "      <td>22687.0</td>\n",
              "    </tr>\n",
              "    <tr>\n",
              "      <th>2020-02-23</th>\n",
              "      <td>76938.0</td>\n",
              "      <td>2443.0</td>\n",
              "      <td>23170.0</td>\n",
              "    </tr>\n",
              "    <tr>\n",
              "      <th>2020-02-24</th>\n",
              "      <td>77152.0</td>\n",
              "      <td>2593.0</td>\n",
              "      <td>24990.0</td>\n",
              "    </tr>\n",
              "    <tr>\n",
              "      <th>2020-02-25</th>\n",
              "      <td>77660.0</td>\n",
              "      <td>2663.0</td>\n",
              "      <td>27650.0</td>\n",
              "    </tr>\n",
              "    <tr>\n",
              "      <th>2020-02-26</th>\n",
              "      <td>78065.0</td>\n",
              "      <td>2715.0</td>\n",
              "      <td>30053.0</td>\n",
              "    </tr>\n",
              "    <tr>\n",
              "      <th>2020-02-27</th>\n",
              "      <td>78498.0</td>\n",
              "      <td>2744.0</td>\n",
              "      <td>32898.0</td>\n",
              "    </tr>\n",
              "    <tr>\n",
              "      <th>2020-02-28</th>\n",
              "      <td>78824.0</td>\n",
              "      <td>2788.0</td>\n",
              "      <td>36291.0</td>\n",
              "    </tr>\n",
              "    <tr>\n",
              "      <th>2020-02-29</th>\n",
              "      <td>79251.0</td>\n",
              "      <td>2835.0</td>\n",
              "      <td>39279.0</td>\n",
              "    </tr>\n",
              "    <tr>\n",
              "      <th>2020-03-01</th>\n",
              "      <td>79826.0</td>\n",
              "      <td>2870.0</td>\n",
              "      <td>42118.0</td>\n",
              "    </tr>\n",
              "    <tr>\n",
              "      <th>2020-03-02</th>\n",
              "      <td>80026.0</td>\n",
              "      <td>2912.0</td>\n",
              "      <td>44810.0</td>\n",
              "    </tr>\n",
              "    <tr>\n",
              "      <th>2020-03-03</th>\n",
              "      <td>80151.0</td>\n",
              "      <td>2945.0</td>\n",
              "      <td>47404.0</td>\n",
              "    </tr>\n",
              "    <tr>\n",
              "      <th>2020-03-04</th>\n",
              "      <td>80271.0</td>\n",
              "      <td>2981.0</td>\n",
              "      <td>49955.0</td>\n",
              "    </tr>\n",
              "  </tbody>\n",
              "</table>\n",
              "</div>"
            ]
          },
          "metadata": {
            "tags": []
          },
          "execution_count": 148
        }
      ],
      "metadata": {
        "id": "oR_kVaI7Fcgf",
        "colab": {
          "base_uri": "https://localhost:8080/",
          "height": 1000
        },
        "outputId": "a85c07c3-2495-4f34-f663-943c5db07de8"
      }
    },
    {
      "cell_type": "code",
      "execution_count": null,
      "source": [
        "import matplotlib.pyplot as plt"
      ],
      "outputs": [],
      "metadata": {
        "id": "2INPjh6qFo5h"
      }
    },
    {
      "cell_type": "code",
      "execution_count": null,
      "source": [
        "df_china.plot(figsize = (10,7), title = 'CODV-19')\n",
        "plt.xlabel('Date')\n",
        "plt.ylabel('People')\n",
        "plt.show()"
      ],
      "outputs": [
        {
          "output_type": "display_data",
          "data": {
            "text/plain": [
              "<Figure size 720x504 with 1 Axes>"
            ],
            "image/png": "[encoded data removed]"
          },
          "metadata": {
            "tags": []
          }
        }
      ],
      "metadata": {
        "id": "kJwg70p5FdUO",
        "colab": {
          "base_uri": "https://localhost:8080/",
          "height": 493
        },
        "outputId": "21b710ad-c32e-4529-fa55-92835dfa13f2"
      }
    },
    {
      "cell_type": "code",
      "execution_count": null,
      "source": [
        "ax = df_china.plot(figsize = (10,7), title = 'CODV-19',\n",
        "              legend = False,\n",
        "              style = ['r-','g--','b:*'])\n",
        "ax.legend(['1','dos','3'])\n",
        "plt.xlabel('Date')\n",
        "plt.ylabel('People')\n",
        "plt.show()"
      ],
      "outputs": [
        {
          "output_type": "display_data",
          "data": {
            "text/plain": [
              "<Figure size 720x504 with 1 Axes>"
            ],
            "image/png": "[encoded data removed]"
          },
          "metadata": {
            "tags": []
          }
        }
      ],
      "metadata": {
        "id": "APKkYSslFkIW",
        "colab": {
          "base_uri": "https://localhost:8080/",
          "height": 493
        },
        "outputId": "df6226f0-564d-45eb-8e68-82d9fb20180a"
      }
    },
    {
      "cell_type": "code",
      "execution_count": null,
      "source": [
        "df_monthly = df_china.resample('M').max()\n",
        "df_monthly"
      ],
      "outputs": [
        {
          "output_type": "execute_result",
          "data": {
            "text/plain": [
              "                 Confirmed  Deaths  Recovered\n",
              "ObservationDate                              \n",
              "2020-01-31          9783.0   213.0      214.0\n",
              "2020-02-29         79251.0  2835.0    39279.0\n",
              "2020-03-31         80271.0  2981.0    49955.0"
            ],
            "text/html": [
              "<div>\n",
              "<style scoped>\n",
              "    .dataframe tbody tr th:only-of-type {\n",
              "        vertical-align: middle;\n",
              "    }\n",
              "\n",
              "    .dataframe tbody tr th {\n",
              "        vertical-align: top;\n",
              "    }\n",
              "\n",
              "    .dataframe thead th {\n",
              "        text-align: right;\n",
              "    }\n",
              "</style>\n",
              "<table border=\"1\" class=\"dataframe\">\n",
              "  <thead>\n",
              "    <tr style=\"text-align: right;\">\n",
              "      <th></th>\n",
              "      <th>Confirmed</th>\n",
              "      <th>Deaths</th>\n",
              "      <th>Recovered</th>\n",
              "    </tr>\n",
              "    <tr>\n",
              "      <th>ObservationDate</th>\n",
              "      <th></th>\n",
              "      <th></th>\n",
              "      <th></th>\n",
              "    </tr>\n",
              "  </thead>\n",
              "  <tbody>\n",
              "    <tr>\n",
              "      <th>2020-01-31</th>\n",
              "      <td>9783.0</td>\n",
              "      <td>213.0</td>\n",
              "      <td>214.0</td>\n",
              "    </tr>\n",
              "    <tr>\n",
              "      <th>2020-02-29</th>\n",
              "      <td>79251.0</td>\n",
              "      <td>2835.0</td>\n",
              "      <td>39279.0</td>\n",
              "    </tr>\n",
              "    <tr>\n",
              "      <th>2020-03-31</th>\n",
              "      <td>80271.0</td>\n",
              "      <td>2981.0</td>\n",
              "      <td>49955.0</td>\n",
              "    </tr>\n",
              "  </tbody>\n",
              "</table>\n",
              "</div>"
            ]
          },
          "metadata": {
            "tags": []
          },
          "execution_count": 153
        }
      ],
      "metadata": {
        "id": "IRmBtLOnGIMs",
        "colab": {
          "base_uri": "https://localhost:8080/",
          "height": 175
        },
        "outputId": "47f01d8e-dbda-44cd-8b6b-5874c8a88f9b"
      }
    },
    {
      "cell_type": "code",
      "execution_count": null,
      "source": [
        "df_monthly.plot(figsize = (10,7), kind='bar', stacked = True)"
      ],
      "outputs": [
        {
          "output_type": "execute_result",
          "data": {
            "text/plain": [
              "<matplotlib.axes._subplots.AxesSubplot at 0x7efcd371bba8>"
            ]
          },
          "metadata": {
            "tags": []
          },
          "execution_count": 156
        },
        {
          "output_type": "display_data",
          "data": {
            "text/plain": [
              "<Figure size 720x504 with 1 Axes>"
            ],
            "image/png": "[encoded data removed]"
          },
          "metadata": {
            "tags": []
          }
        }
      ],
      "metadata": {
        "id": "o7Wz8kmyGR2j",
        "colab": {
          "base_uri": "https://localhost:8080/",
          "height": 555
        },
        "outputId": "c2329633-3f56-43cc-839c-8dd32616a454"
      }
    },
    {
      "cell_type": "code",
      "execution_count": null,
      "source": [
        "df_monthly['Traitment'] = df_monthly['Confirmed'] - df_monthly['Deaths']- df_monthly['Recovered']\n",
        "df_monthly"
      ],
      "outputs": [
        {
          "output_type": "execute_result",
          "data": {
            "text/plain": [
              "                 Confirmed  Deaths  Recovered  Traitment\n",
              "ObservationDate                                         \n",
              "2020-01-31          9783.0   213.0      214.0     9356.0\n",
              "2020-02-29         79251.0  2835.0    39279.0    37137.0\n",
              "2020-03-31         80271.0  2981.0    49955.0    27335.0"
            ],
            "text/html": [
              "<div>\n",
              "<style scoped>\n",
              "    .dataframe tbody tr th:only-of-type {\n",
              "        vertical-align: middle;\n",
              "    }\n",
              "\n",
              "    .dataframe tbody tr th {\n",
              "        vertical-align: top;\n",
              "    }\n",
              "\n",
              "    .dataframe thead th {\n",
              "        text-align: right;\n",
              "    }\n",
              "</style>\n",
              "<table border=\"1\" class=\"dataframe\">\n",
              "  <thead>\n",
              "    <tr style=\"text-align: right;\">\n",
              "      <th></th>\n",
              "      <th>Confirmed</th>\n",
              "      <th>Deaths</th>\n",
              "      <th>Recovered</th>\n",
              "      <th>Traitment</th>\n",
              "    </tr>\n",
              "    <tr>\n",
              "      <th>ObservationDate</th>\n",
              "      <th></th>\n",
              "      <th></th>\n",
              "      <th></th>\n",
              "      <th></th>\n",
              "    </tr>\n",
              "  </thead>\n",
              "  <tbody>\n",
              "    <tr>\n",
              "      <th>2020-01-31</th>\n",
              "      <td>9783.0</td>\n",
              "      <td>213.0</td>\n",
              "      <td>214.0</td>\n",
              "      <td>9356.0</td>\n",
              "    </tr>\n",
              "    <tr>\n",
              "      <th>2020-02-29</th>\n",
              "      <td>79251.0</td>\n",
              "      <td>2835.0</td>\n",
              "      <td>39279.0</td>\n",
              "      <td>37137.0</td>\n",
              "    </tr>\n",
              "    <tr>\n",
              "      <th>2020-03-31</th>\n",
              "      <td>80271.0</td>\n",
              "      <td>2981.0</td>\n",
              "      <td>49955.0</td>\n",
              "      <td>27335.0</td>\n",
              "    </tr>\n",
              "  </tbody>\n",
              "</table>\n",
              "</div>"
            ]
          },
          "metadata": {
            "tags": []
          },
          "execution_count": 158
        }
      ],
      "metadata": {
        "id": "E8I6hv8iGXeR",
        "colab": {
          "base_uri": "https://localhost:8080/",
          "height": 175
        },
        "outputId": "9ccd1ff3-c0e0-43a7-cd58-051f1351f1a9"
      }
    },
    {
      "cell_type": "code",
      "execution_count": null,
      "source": [
        "df_monthly[['Deaths', 'Recovered', 'Traitment']].T.plot(figsize = (10,7), kind = 'pie', subplots=True)"
      ],
      "outputs": [
        {
          "output_type": "execute_result",
          "data": {
            "text/plain": [
              "array([<matplotlib.axes._subplots.AxesSubplot object at 0x7efcd369d550>,\n",
              "       <matplotlib.axes._subplots.AxesSubplot object at 0x7efcd3649b70>,\n",
              "       <matplotlib.axes._subplots.AxesSubplot object at 0x7efcd367fb38>],\n",
              "      dtype=object)"
            ]
          },
          "metadata": {
            "tags": []
          },
          "execution_count": 159
        },
        {
          "output_type": "display_data",
          "data": {
            "text/plain": [
              "<Figure size 720x504 with 3 Axes>"
            ],
            "image/png": "[encoded data removed]"
          },
          "metadata": {
            "tags": []
          }
        }
      ],
      "metadata": {
        "id": "UMgKzJLDGuz5",
        "colab": {
          "base_uri": "https://localhost:8080/",
          "height": 268
        },
        "outputId": "fadbc84a-6b67-4e01-f697-643707cc1267"
      }
    },
    {
      "cell_type": "code",
      "execution_count": null,
      "source": [
        "df_china['rate'] = 1- df_china['Deaths']/df_china['Confirmed']\n",
        "df_china['rate'].hist(figsize = (10,7), bins = 10)"
      ],
      "outputs": [
        {
          "output_type": "execute_result",
          "data": {
            "text/plain": [
              "<matplotlib.axes._subplots.AxesSubplot at 0x7efcd368c3c8>"
            ]
          },
          "metadata": {
            "tags": []
          },
          "execution_count": 161
        },
        {
          "output_type": "display_data",
          "data": {
            "text/plain": [
              "<Figure size 720x504 with 1 Axes>"
            ],
            "image/png": "[encoded data removed]"
          },
          "metadata": {
            "tags": []
          }
        }
      ],
      "metadata": {
        "id": "-9SJ3ZyrG7aZ",
        "colab": {
          "base_uri": "https://localhost:8080/",
          "height": 446
        },
        "outputId": "ee26a7dd-8aee-4e79-a74a-f078d7363bf5"
      }
    },
    {
      "cell_type": "code",
      "execution_count": null,
      "source": [
        "df_china['rate'].plot(kind = 'kde', figsize = (10,7))"
      ],
      "outputs": [
        {
          "output_type": "execute_result",
          "data": {
            "text/plain": [
              "<matplotlib.axes._subplots.AxesSubplot at 0x7efcd3424080>"
            ]
          },
          "metadata": {
            "tags": []
          },
          "execution_count": 164
        },
        {
          "output_type": "display_data",
          "data": {
            "text/plain": [
              "<Figure size 720x504 with 1 Axes>"
            ],
            "image/png": "[encoded data removed]"
          },
          "metadata": {
            "tags": []
          }
        }
      ],
      "metadata": {
        "id": "_rqQysbUHHQ6",
        "colab": {
          "base_uri": "https://localhost:8080/",
          "height": 446
        },
        "outputId": "03829ff3-9f85-45fe-c88e-0188d3eb85d6"
      }
    },
    {
      "cell_type": "code",
      "execution_count": null,
      "source": [],
      "outputs": [],
      "metadata": {
        "id": "Nk8Zx_sIHagv"
      }
    }
  ]
}