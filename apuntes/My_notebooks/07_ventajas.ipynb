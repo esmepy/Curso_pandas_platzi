{
    "cells": [
        {
            "cell_type": "markdown",
            "source": [
                "# 7 Ventajas y desventajas de los formatos de importar y guardado\r\n",
                "* **csv** es muy versátil ya que tiene solo comas y saltos de línea.\r\n",
                "* **json** tiene un formato similar a los diccionarios. (JavaScript Object Notation).\r\n",
                "* **excel** te permite guardar la data en un archivo .xlsx y lo puedes trabajar directamente en excel o Google Spreadsheets.\r\n",
                "* **pickle** puedes comprimir la información y es útil cuando tienes tablas grandes.\r\n",
                "* **parquet** te permite darle un formato a la data para usarlo en ambientes de Big Data como Hadoop. \r\n",
                "\r\n",
                "[aquí](https://drive.google.com/drive/folders/13AsTOToO6kN2KDB4By57LFgFm-DTWO8i) todos los ejemplos creados\r\n",
                "\r\n",
                "*****\r\n",
                "* Puedes consultar la documentación de IO tools [aquí](https://pandas.pydata.org/pandas-docs/stable/user_guide/io.html)."
            ],
            "metadata": {
                "tags": [],
                "cell_id": "00044-cdca8290-4825-4acf-883d-6c7468a2eae7",
                "deepnote_cell_type": "markdown",
                "id": "ERbHaPWRAGTj"
            }
        },
        {
            "cell_type": "code",
            "execution_count": null,
            "source": [
                "import pandas as pd\r\n",
                "import numpy as np \r\n",
                "\r\n",
                "dir_pandas = 'datasets/{}'\r\n",
                "\r\n",
                "dict_data = {\r\n",
                "    'edad' :     [ 10, 9, 13, 14, 12, 11, 12],\r\n",
                "    'cm' : [ 115, 110, 130, 155, 125, 120, 125],\r\n",
                "    'pais' :    [ 'co', 'mx', 'co', 'mx', 'mx', 'ch', 'ch'],\r\n",
                "    'genero' :  [ 'M', 'F', 'F', 'M', 'M', 'M', 'F'],\r\n",
                "    'Q1' : [ 5, 10, 8, np.nan, 7, 8, 3],\r\n",
                "    'Q2' : [ 7, 9, 9, 8, 8, 8, 9.]\r\n",
                "}\r\n",
                "\r\n",
                "df = pd.DataFrame(dict_data)\r\n",
                "df"
            ],
            "outputs": [
                {
                    "data": {
                        "text/plain": [
                            "   edad   cm pais genero    Q1   Q2\n",
                            "0    10  115   co      M   5.0  7.0\n",
                            "1     9  110   mx      F  10.0  9.0\n",
                            "2    13  130   co      F   8.0  9.0\n",
                            "3    14  155   mx      M   NaN  8.0\n",
                            "4    12  125   mx      M   7.0  8.0\n",
                            "5    11  120   ch      M   8.0  8.0\n",
                            "6    12  125   ch      F   3.0  9.0"
                        ],
                        "text/html": [
                            "<div>\n",
                            "<style scoped>\n",
                            "    .dataframe tbody tr th:only-of-type {\n",
                            "        vertical-align: middle;\n",
                            "    }\n",
                            "\n",
                            "    .dataframe tbody tr th {\n",
                            "        vertical-align: top;\n",
                            "    }\n",
                            "\n",
                            "    .dataframe thead th {\n",
                            "        text-align: right;\n",
                            "    }\n",
                            "</style>\n",
                            "<table border=\"1\" class=\"dataframe\">\n",
                            "  <thead>\n",
                            "    <tr style=\"text-align: right;\">\n",
                            "      <th></th>\n",
                            "      <th>edad</th>\n",
                            "      <th>cm</th>\n",
                            "      <th>pais</th>\n",
                            "      <th>genero</th>\n",
                            "      <th>Q1</th>\n",
                            "      <th>Q2</th>\n",
                            "    </tr>\n",
                            "  </thead>\n",
                            "  <tbody>\n",
                            "    <tr>\n",
                            "      <th>0</th>\n",
                            "      <td>10</td>\n",
                            "      <td>115</td>\n",
                            "      <td>co</td>\n",
                            "      <td>M</td>\n",
                            "      <td>5.0</td>\n",
                            "      <td>7.0</td>\n",
                            "    </tr>\n",
                            "    <tr>\n",
                            "      <th>1</th>\n",
                            "      <td>9</td>\n",
                            "      <td>110</td>\n",
                            "      <td>mx</td>\n",
                            "      <td>F</td>\n",
                            "      <td>10.0</td>\n",
                            "      <td>9.0</td>\n",
                            "    </tr>\n",
                            "    <tr>\n",
                            "      <th>2</th>\n",
                            "      <td>13</td>\n",
                            "      <td>130</td>\n",
                            "      <td>co</td>\n",
                            "      <td>F</td>\n",
                            "      <td>8.0</td>\n",
                            "      <td>9.0</td>\n",
                            "    </tr>\n",
                            "    <tr>\n",
                            "      <th>3</th>\n",
                            "      <td>14</td>\n",
                            "      <td>155</td>\n",
                            "      <td>mx</td>\n",
                            "      <td>M</td>\n",
                            "      <td>NaN</td>\n",
                            "      <td>8.0</td>\n",
                            "    </tr>\n",
                            "    <tr>\n",
                            "      <th>4</th>\n",
                            "      <td>12</td>\n",
                            "      <td>125</td>\n",
                            "      <td>mx</td>\n",
                            "      <td>M</td>\n",
                            "      <td>7.0</td>\n",
                            "      <td>8.0</td>\n",
                            "    </tr>\n",
                            "    <tr>\n",
                            "      <th>5</th>\n",
                            "      <td>11</td>\n",
                            "      <td>120</td>\n",
                            "      <td>ch</td>\n",
                            "      <td>M</td>\n",
                            "      <td>8.0</td>\n",
                            "      <td>8.0</td>\n",
                            "    </tr>\n",
                            "    <tr>\n",
                            "      <th>6</th>\n",
                            "      <td>12</td>\n",
                            "      <td>125</td>\n",
                            "      <td>ch</td>\n",
                            "      <td>F</td>\n",
                            "      <td>3.0</td>\n",
                            "      <td>9.0</td>\n",
                            "    </tr>\n",
                            "  </tbody>\n",
                            "</table>\n",
                            "</div>"
                        ],
                        "application/vnd.deepnote.dataframe.v2+json": {
                            "row_count": 7,
                            "column_count": 6,
                            "columns": [
                                {
                                    "name": "edad",
                                    "dtype": "int64",
                                    "stats": {
                                        "unique_count": 6,
                                        "nan_count": 0,
                                        "min": "9",
                                        "max": "14",
                                        "histogram": [
                                            {
                                                "bin_start": 9,
                                                "bin_end": 9.5,
                                                "count": 1
                                            },
                                            {
                                                "bin_start": 9.5,
                                                "bin_end": 10,
                                                "count": 0
                                            },
                                            {
                                                "bin_start": 10,
                                                "bin_end": 10.5,
                                                "count": 1
                                            },
                                            {
                                                "bin_start": 10.5,
                                                "bin_end": 11,
                                                "count": 0
                                            },
                                            {
                                                "bin_start": 11,
                                                "bin_end": 11.5,
                                                "count": 1
                                            },
                                            {
                                                "bin_start": 11.5,
                                                "bin_end": 12,
                                                "count": 0
                                            },
                                            {
                                                "bin_start": 12,
                                                "bin_end": 12.5,
                                                "count": 2
                                            },
                                            {
                                                "bin_start": 12.5,
                                                "bin_end": 13,
                                                "count": 0
                                            },
                                            {
                                                "bin_start": 13,
                                                "bin_end": 13.5,
                                                "count": 1
                                            },
                                            {
                                                "bin_start": 13.5,
                                                "bin_end": 14,
                                                "count": 1
                                            }
                                        ]
                                    }
                                },
                                {
                                    "name": "cm",
                                    "dtype": "int64",
                                    "stats": {
                                        "unique_count": 6,
                                        "nan_count": 0,
                                        "min": "110",
                                        "max": "155",
                                        "histogram": [
                                            {
                                                "bin_start": 110,
                                                "bin_end": 114.5,
                                                "count": 1
                                            },
                                            {
                                                "bin_start": 114.5,
                                                "bin_end": 119,
                                                "count": 1
                                            },
                                            {
                                                "bin_start": 119,
                                                "bin_end": 123.5,
                                                "count": 1
                                            },
                                            {
                                                "bin_start": 123.5,
                                                "bin_end": 128,
                                                "count": 2
                                            },
                                            {
                                                "bin_start": 128,
                                                "bin_end": 132.5,
                                                "count": 1
                                            },
                                            {
                                                "bin_start": 132.5,
                                                "bin_end": 137,
                                                "count": 0
                                            },
                                            {
                                                "bin_start": 137,
                                                "bin_end": 141.5,
                                                "count": 0
                                            },
                                            {
                                                "bin_start": 141.5,
                                                "bin_end": 146,
                                                "count": 0
                                            },
                                            {
                                                "bin_start": 146,
                                                "bin_end": 150.5,
                                                "count": 0
                                            },
                                            {
                                                "bin_start": 150.5,
                                                "bin_end": 155,
                                                "count": 1
                                            }
                                        ]
                                    }
                                },
                                {
                                    "name": "pais",
                                    "dtype": "object",
                                    "stats": {
                                        "unique_count": 3,
                                        "nan_count": 0,
                                        "categories": [
                                            {
                                                "name": "mx",
                                                "count": 3
                                            },
                                            {
                                                "name": "co",
                                                "count": 2
                                            },
                                            {
                                                "name": "ch",
                                                "count": 2
                                            }
                                        ]
                                    }
                                },
                                {
                                    "name": "genero",
                                    "dtype": "object",
                                    "stats": {
                                        "unique_count": 2,
                                        "nan_count": 0,
                                        "categories": [
                                            {
                                                "name": "M",
                                                "count": 4
                                            },
                                            {
                                                "name": "F",
                                                "count": 3
                                            }
                                        ]
                                    }
                                },
                                {
                                    "name": "Q1",
                                    "dtype": "float64",
                                    "stats": {
                                        "unique_count": 5,
                                        "nan_count": 1,
                                        "min": "3.0",
                                        "max": "10.0",
                                        "histogram": [
                                            {
                                                "bin_start": 3,
                                                "bin_end": 3.7,
                                                "count": 1
                                            },
                                            {
                                                "bin_start": 3.7,
                                                "bin_end": 4.4,
                                                "count": 0
                                            },
                                            {
                                                "bin_start": 4.4,
                                                "bin_end": 5.1,
                                                "count": 1
                                            },
                                            {
                                                "bin_start": 5.1,
                                                "bin_end": 5.8,
                                                "count": 0
                                            },
                                            {
                                                "bin_start": 5.8,
                                                "bin_end": 6.5,
                                                "count": 0
                                            },
                                            {
                                                "bin_start": 6.5,
                                                "bin_end": 7.199999999999999,
                                                "count": 1
                                            },
                                            {
                                                "bin_start": 7.199999999999999,
                                                "bin_end": 7.8999999999999995,
                                                "count": 0
                                            },
                                            {
                                                "bin_start": 7.8999999999999995,
                                                "bin_end": 8.6,
                                                "count": 2
                                            },
                                            {
                                                "bin_start": 8.6,
                                                "bin_end": 9.3,
                                                "count": 0
                                            },
                                            {
                                                "bin_start": 9.3,
                                                "bin_end": 10,
                                                "count": 1
                                            }
                                        ]
                                    }
                                },
                                {
                                    "name": "Q2",
                                    "dtype": "float64",
                                    "stats": {
                                        "unique_count": 3,
                                        "nan_count": 0,
                                        "min": "7.0",
                                        "max": "9.0",
                                        "histogram": [
                                            {
                                                "bin_start": 7,
                                                "bin_end": 7.2,
                                                "count": 1
                                            },
                                            {
                                                "bin_start": 7.2,
                                                "bin_end": 7.4,
                                                "count": 0
                                            },
                                            {
                                                "bin_start": 7.4,
                                                "bin_end": 7.6,
                                                "count": 0
                                            },
                                            {
                                                "bin_start": 7.6,
                                                "bin_end": 7.8,
                                                "count": 0
                                            },
                                            {
                                                "bin_start": 7.8,
                                                "bin_end": 8,
                                                "count": 0
                                            },
                                            {
                                                "bin_start": 8,
                                                "bin_end": 8.2,
                                                "count": 3
                                            },
                                            {
                                                "bin_start": 8.2,
                                                "bin_end": 8.4,
                                                "count": 0
                                            },
                                            {
                                                "bin_start": 8.4,
                                                "bin_end": 8.6,
                                                "count": 0
                                            },
                                            {
                                                "bin_start": 8.6,
                                                "bin_end": 8.8,
                                                "count": 0
                                            },
                                            {
                                                "bin_start": 8.8,
                                                "bin_end": 9,
                                                "count": 3
                                            }
                                        ]
                                    }
                                },
                                {
                                    "name": "_deepnote_index_column",
                                    "dtype": "int64"
                                }
                            ],
                            "rows_top": [
                                {
                                    "edad": 10,
                                    "cm": 115,
                                    "pais": "co",
                                    "genero": "M",
                                    "Q1": 5,
                                    "Q2": 7,
                                    "_deepnote_index_column": 0
                                },
                                {
                                    "edad": 9,
                                    "cm": 110,
                                    "pais": "mx",
                                    "genero": "F",
                                    "Q1": 10,
                                    "Q2": 9,
                                    "_deepnote_index_column": 1
                                },
                                {
                                    "edad": 13,
                                    "cm": 130,
                                    "pais": "co",
                                    "genero": "F",
                                    "Q1": 8,
                                    "Q2": 9,
                                    "_deepnote_index_column": 2
                                },
                                {
                                    "edad": 14,
                                    "cm": 155,
                                    "pais": "mx",
                                    "genero": "M",
                                    "Q1": "nan",
                                    "Q2": 8,
                                    "_deepnote_index_column": 3
                                },
                                {
                                    "edad": 12,
                                    "cm": 125,
                                    "pais": "mx",
                                    "genero": "M",
                                    "Q1": 7,
                                    "Q2": 8,
                                    "_deepnote_index_column": 4
                                },
                                {
                                    "edad": 11,
                                    "cm": 120,
                                    "pais": "ch",
                                    "genero": "M",
                                    "Q1": 8,
                                    "Q2": 8,
                                    "_deepnote_index_column": 5
                                },
                                {
                                    "edad": 12,
                                    "cm": 125,
                                    "pais": "ch",
                                    "genero": "F",
                                    "Q1": 3,
                                    "Q2": 9,
                                    "_deepnote_index_column": 6
                                }
                            ],
                            "rows_bottom": null
                        }
                    },
                    "metadata": {},
                    "output_type": "display_data"
                }
            ],
            "metadata": {
                "tags": [],
                "cell_id": "00045-6274c9a3-83d4-4838-a87c-7158d9385a95",
                "deepnote_to_be_reexecuted": false,
                "source_hash": "256f1def",
                "execution_start": 1626399934341,
                "execution_millis": 54,
                "deepnote_cell_type": "code",
                "id": "80U54ffCAGTl",
                "outputId": "635cded7-3828-42a6-de9e-4eda67be1b71"
            }
        },
        {
            "cell_type": "markdown",
            "source": [
                "* Formato Excel"
            ],
            "metadata": {
                "tags": [],
                "cell_id": "00046-04d0f7d9-f5e0-46f5-bf65-d6c98026cc4a",
                "deepnote_cell_type": "markdown",
                "id": "OyHLeYdLAGTn"
            }
        },
        {
            "cell_type": "code",
            "execution_count": null,
            "source": [
                "#Creamos un archivo excel\r\n",
                "df.to_excel(dir_pandas.format('test.xlsx'), index=False, sheet_name='PrimeraHoja')\r\n",
                "\r\n",
                "pd.read_excel(dir_pandas.format('test.xlsx'))"
            ],
            "outputs": [
                {
                    "data": {
                        "text/plain": [
                            "   edad   cm pais genero    Q1  Q2\n",
                            "0    10  115   co      M   5.0   7\n",
                            "1     9  110   mx      F  10.0   9\n",
                            "2    13  130   co      F   8.0   9\n",
                            "3    14  155   mx      M   NaN   8\n",
                            "4    12  125   mx      M   7.0   8\n",
                            "5    11  120   ch      M   8.0   8\n",
                            "6    12  125   ch      F   3.0   9"
                        ],
                        "text/html": [
                            "<div>\n",
                            "<style scoped>\n",
                            "    .dataframe tbody tr th:only-of-type {\n",
                            "        vertical-align: middle;\n",
                            "    }\n",
                            "\n",
                            "    .dataframe tbody tr th {\n",
                            "        vertical-align: top;\n",
                            "    }\n",
                            "\n",
                            "    .dataframe thead th {\n",
                            "        text-align: right;\n",
                            "    }\n",
                            "</style>\n",
                            "<table border=\"1\" class=\"dataframe\">\n",
                            "  <thead>\n",
                            "    <tr style=\"text-align: right;\">\n",
                            "      <th></th>\n",
                            "      <th>edad</th>\n",
                            "      <th>cm</th>\n",
                            "      <th>pais</th>\n",
                            "      <th>genero</th>\n",
                            "      <th>Q1</th>\n",
                            "      <th>Q2</th>\n",
                            "    </tr>\n",
                            "  </thead>\n",
                            "  <tbody>\n",
                            "    <tr>\n",
                            "      <th>0</th>\n",
                            "      <td>10</td>\n",
                            "      <td>115</td>\n",
                            "      <td>co</td>\n",
                            "      <td>M</td>\n",
                            "      <td>5.0</td>\n",
                            "      <td>7</td>\n",
                            "    </tr>\n",
                            "    <tr>\n",
                            "      <th>1</th>\n",
                            "      <td>9</td>\n",
                            "      <td>110</td>\n",
                            "      <td>mx</td>\n",
                            "      <td>F</td>\n",
                            "      <td>10.0</td>\n",
                            "      <td>9</td>\n",
                            "    </tr>\n",
                            "    <tr>\n",
                            "      <th>2</th>\n",
                            "      <td>13</td>\n",
                            "      <td>130</td>\n",
                            "      <td>co</td>\n",
                            "      <td>F</td>\n",
                            "      <td>8.0</td>\n",
                            "      <td>9</td>\n",
                            "    </tr>\n",
                            "    <tr>\n",
                            "      <th>3</th>\n",
                            "      <td>14</td>\n",
                            "      <td>155</td>\n",
                            "      <td>mx</td>\n",
                            "      <td>M</td>\n",
                            "      <td>NaN</td>\n",
                            "      <td>8</td>\n",
                            "    </tr>\n",
                            "    <tr>\n",
                            "      <th>4</th>\n",
                            "      <td>12</td>\n",
                            "      <td>125</td>\n",
                            "      <td>mx</td>\n",
                            "      <td>M</td>\n",
                            "      <td>7.0</td>\n",
                            "      <td>8</td>\n",
                            "    </tr>\n",
                            "    <tr>\n",
                            "      <th>5</th>\n",
                            "      <td>11</td>\n",
                            "      <td>120</td>\n",
                            "      <td>ch</td>\n",
                            "      <td>M</td>\n",
                            "      <td>8.0</td>\n",
                            "      <td>8</td>\n",
                            "    </tr>\n",
                            "    <tr>\n",
                            "      <th>6</th>\n",
                            "      <td>12</td>\n",
                            "      <td>125</td>\n",
                            "      <td>ch</td>\n",
                            "      <td>F</td>\n",
                            "      <td>3.0</td>\n",
                            "      <td>9</td>\n",
                            "    </tr>\n",
                            "  </tbody>\n",
                            "</table>\n",
                            "</div>"
                        ],
                        "application/vnd.deepnote.dataframe.v2+json": {
                            "row_count": 7,
                            "column_count": 6,
                            "columns": [
                                {
                                    "name": "edad",
                                    "dtype": "int64",
                                    "stats": {
                                        "unique_count": 6,
                                        "nan_count": 0,
                                        "min": "9",
                                        "max": "14",
                                        "histogram": [
                                            {
                                                "bin_start": 9,
                                                "bin_end": 9.5,
                                                "count": 1
                                            },
                                            {
                                                "bin_start": 9.5,
                                                "bin_end": 10,
                                                "count": 0
                                            },
                                            {
                                                "bin_start": 10,
                                                "bin_end": 10.5,
                                                "count": 1
                                            },
                                            {
                                                "bin_start": 10.5,
                                                "bin_end": 11,
                                                "count": 0
                                            },
                                            {
                                                "bin_start": 11,
                                                "bin_end": 11.5,
                                                "count": 1
                                            },
                                            {
                                                "bin_start": 11.5,
                                                "bin_end": 12,
                                                "count": 0
                                            },
                                            {
                                                "bin_start": 12,
                                                "bin_end": 12.5,
                                                "count": 2
                                            },
                                            {
                                                "bin_start": 12.5,
                                                "bin_end": 13,
                                                "count": 0
                                            },
                                            {
                                                "bin_start": 13,
                                                "bin_end": 13.5,
                                                "count": 1
                                            },
                                            {
                                                "bin_start": 13.5,
                                                "bin_end": 14,
                                                "count": 1
                                            }
                                        ]
                                    }
                                },
                                {
                                    "name": "cm",
                                    "dtype": "int64",
                                    "stats": {
                                        "unique_count": 6,
                                        "nan_count": 0,
                                        "min": "110",
                                        "max": "155",
                                        "histogram": [
                                            {
                                                "bin_start": 110,
                                                "bin_end": 114.5,
                                                "count": 1
                                            },
                                            {
                                                "bin_start": 114.5,
                                                "bin_end": 119,
                                                "count": 1
                                            },
                                            {
                                                "bin_start": 119,
                                                "bin_end": 123.5,
                                                "count": 1
                                            },
                                            {
                                                "bin_start": 123.5,
                                                "bin_end": 128,
                                                "count": 2
                                            },
                                            {
                                                "bin_start": 128,
                                                "bin_end": 132.5,
                                                "count": 1
                                            },
                                            {
                                                "bin_start": 132.5,
                                                "bin_end": 137,
                                                "count": 0
                                            },
                                            {
                                                "bin_start": 137,
                                                "bin_end": 141.5,
                                                "count": 0
                                            },
                                            {
                                                "bin_start": 141.5,
                                                "bin_end": 146,
                                                "count": 0
                                            },
                                            {
                                                "bin_start": 146,
                                                "bin_end": 150.5,
                                                "count": 0
                                            },
                                            {
                                                "bin_start": 150.5,
                                                "bin_end": 155,
                                                "count": 1
                                            }
                                        ]
                                    }
                                },
                                {
                                    "name": "pais",
                                    "dtype": "object",
                                    "stats": {
                                        "unique_count": 3,
                                        "nan_count": 0,
                                        "categories": [
                                            {
                                                "name": "mx",
                                                "count": 3
                                            },
                                            {
                                                "name": "co",
                                                "count": 2
                                            },
                                            {
                                                "name": "ch",
                                                "count": 2
                                            }
                                        ]
                                    }
                                },
                                {
                                    "name": "genero",
                                    "dtype": "object",
                                    "stats": {
                                        "unique_count": 2,
                                        "nan_count": 0,
                                        "categories": [
                                            {
                                                "name": "M",
                                                "count": 4
                                            },
                                            {
                                                "name": "F",
                                                "count": 3
                                            }
                                        ]
                                    }
                                },
                                {
                                    "name": "Q1",
                                    "dtype": "float64",
                                    "stats": {
                                        "unique_count": 5,
                                        "nan_count": 1,
                                        "min": "3.0",
                                        "max": "10.0",
                                        "histogram": [
                                            {
                                                "bin_start": 3,
                                                "bin_end": 3.7,
                                                "count": 1
                                            },
                                            {
                                                "bin_start": 3.7,
                                                "bin_end": 4.4,
                                                "count": 0
                                            },
                                            {
                                                "bin_start": 4.4,
                                                "bin_end": 5.1,
                                                "count": 1
                                            },
                                            {
                                                "bin_start": 5.1,
                                                "bin_end": 5.8,
                                                "count": 0
                                            },
                                            {
                                                "bin_start": 5.8,
                                                "bin_end": 6.5,
                                                "count": 0
                                            },
                                            {
                                                "bin_start": 6.5,
                                                "bin_end": 7.199999999999999,
                                                "count": 1
                                            },
                                            {
                                                "bin_start": 7.199999999999999,
                                                "bin_end": 7.8999999999999995,
                                                "count": 0
                                            },
                                            {
                                                "bin_start": 7.8999999999999995,
                                                "bin_end": 8.6,
                                                "count": 2
                                            },
                                            {
                                                "bin_start": 8.6,
                                                "bin_end": 9.3,
                                                "count": 0
                                            },
                                            {
                                                "bin_start": 9.3,
                                                "bin_end": 10,
                                                "count": 1
                                            }
                                        ]
                                    }
                                },
                                {
                                    "name": "Q2",
                                    "dtype": "int64",
                                    "stats": {
                                        "unique_count": 3,
                                        "nan_count": 0,
                                        "min": "7",
                                        "max": "9",
                                        "histogram": [
                                            {
                                                "bin_start": 7,
                                                "bin_end": 7.2,
                                                "count": 1
                                            },
                                            {
                                                "bin_start": 7.2,
                                                "bin_end": 7.4,
                                                "count": 0
                                            },
                                            {
                                                "bin_start": 7.4,
                                                "bin_end": 7.6,
                                                "count": 0
                                            },
                                            {
                                                "bin_start": 7.6,
                                                "bin_end": 7.8,
                                                "count": 0
                                            },
                                            {
                                                "bin_start": 7.8,
                                                "bin_end": 8,
                                                "count": 0
                                            },
                                            {
                                                "bin_start": 8,
                                                "bin_end": 8.2,
                                                "count": 3
                                            },
                                            {
                                                "bin_start": 8.2,
                                                "bin_end": 8.4,
                                                "count": 0
                                            },
                                            {
                                                "bin_start": 8.4,
                                                "bin_end": 8.6,
                                                "count": 0
                                            },
                                            {
                                                "bin_start": 8.6,
                                                "bin_end": 8.8,
                                                "count": 0
                                            },
                                            {
                                                "bin_start": 8.8,
                                                "bin_end": 9,
                                                "count": 3
                                            }
                                        ]
                                    }
                                },
                                {
                                    "name": "_deepnote_index_column",
                                    "dtype": "int64"
                                }
                            ],
                            "rows_top": [
                                {
                                    "edad": 10,
                                    "cm": 115,
                                    "pais": "co",
                                    "genero": "M",
                                    "Q1": 5,
                                    "Q2": 7,
                                    "_deepnote_index_column": 0
                                },
                                {
                                    "edad": 9,
                                    "cm": 110,
                                    "pais": "mx",
                                    "genero": "F",
                                    "Q1": 10,
                                    "Q2": 9,
                                    "_deepnote_index_column": 1
                                },
                                {
                                    "edad": 13,
                                    "cm": 130,
                                    "pais": "co",
                                    "genero": "F",
                                    "Q1": 8,
                                    "Q2": 9,
                                    "_deepnote_index_column": 2
                                },
                                {
                                    "edad": 14,
                                    "cm": 155,
                                    "pais": "mx",
                                    "genero": "M",
                                    "Q1": "nan",
                                    "Q2": 8,
                                    "_deepnote_index_column": 3
                                },
                                {
                                    "edad": 12,
                                    "cm": 125,
                                    "pais": "mx",
                                    "genero": "M",
                                    "Q1": 7,
                                    "Q2": 8,
                                    "_deepnote_index_column": 4
                                },
                                {
                                    "edad": 11,
                                    "cm": 120,
                                    "pais": "ch",
                                    "genero": "M",
                                    "Q1": 8,
                                    "Q2": 8,
                                    "_deepnote_index_column": 5
                                },
                                {
                                    "edad": 12,
                                    "cm": 125,
                                    "pais": "ch",
                                    "genero": "F",
                                    "Q1": 3,
                                    "Q2": 9,
                                    "_deepnote_index_column": 6
                                }
                            ],
                            "rows_bottom": null
                        }
                    },
                    "metadata": {},
                    "output_type": "display_data"
                }
            ],
            "metadata": {
                "tags": [],
                "cell_id": "00047-57c805a1-b37e-4d07-934e-3bdbd7fe6091",
                "deepnote_to_be_reexecuted": false,
                "source_hash": "a2576ac8",
                "execution_start": 1626399934386,
                "execution_millis": 312,
                "deepnote_cell_type": "code",
                "id": "mELDxvciAGTn",
                "outputId": "cbf49832-8b09-4024-b24f-7c7787dd599b"
            }
        },
        {
            "cell_type": "markdown",
            "source": [
                "* Formato json"
            ],
            "metadata": {
                "tags": [],
                "cell_id": "00049-dfa0e4fe-fb4c-467c-927f-1ae8fe0c321f",
                "deepnote_cell_type": "markdown",
                "id": "cEdsK808AGTq"
            }
        },
        {
            "cell_type": "code",
            "execution_count": null,
            "source": [
                "df.to_json(dir_pandas.format('test.json'))\r\n",
                "pd.read_json(dir_pandas.format('test.json'))"
            ],
            "outputs": [
                {
                    "data": {
                        "text/plain": [
                            "   edad   cm pais genero    Q1  Q2\n",
                            "0    10  115   co      M   5.0   7\n",
                            "1     9  110   mx      F  10.0   9\n",
                            "2    13  130   co      F   8.0   9\n",
                            "3    14  155   mx      M   NaN   8\n",
                            "4    12  125   mx      M   7.0   8\n",
                            "5    11  120   ch      M   8.0   8\n",
                            "6    12  125   ch      F   3.0   9"
                        ],
                        "text/html": [
                            "<div>\n",
                            "<style scoped>\n",
                            "    .dataframe tbody tr th:only-of-type {\n",
                            "        vertical-align: middle;\n",
                            "    }\n",
                            "\n",
                            "    .dataframe tbody tr th {\n",
                            "        vertical-align: top;\n",
                            "    }\n",
                            "\n",
                            "    .dataframe thead th {\n",
                            "        text-align: right;\n",
                            "    }\n",
                            "</style>\n",
                            "<table border=\"1\" class=\"dataframe\">\n",
                            "  <thead>\n",
                            "    <tr style=\"text-align: right;\">\n",
                            "      <th></th>\n",
                            "      <th>edad</th>\n",
                            "      <th>cm</th>\n",
                            "      <th>pais</th>\n",
                            "      <th>genero</th>\n",
                            "      <th>Q1</th>\n",
                            "      <th>Q2</th>\n",
                            "    </tr>\n",
                            "  </thead>\n",
                            "  <tbody>\n",
                            "    <tr>\n",
                            "      <th>0</th>\n",
                            "      <td>10</td>\n",
                            "      <td>115</td>\n",
                            "      <td>co</td>\n",
                            "      <td>M</td>\n",
                            "      <td>5.0</td>\n",
                            "      <td>7</td>\n",
                            "    </tr>\n",
                            "    <tr>\n",
                            "      <th>1</th>\n",
                            "      <td>9</td>\n",
                            "      <td>110</td>\n",
                            "      <td>mx</td>\n",
                            "      <td>F</td>\n",
                            "      <td>10.0</td>\n",
                            "      <td>9</td>\n",
                            "    </tr>\n",
                            "    <tr>\n",
                            "      <th>2</th>\n",
                            "      <td>13</td>\n",
                            "      <td>130</td>\n",
                            "      <td>co</td>\n",
                            "      <td>F</td>\n",
                            "      <td>8.0</td>\n",
                            "      <td>9</td>\n",
                            "    </tr>\n",
                            "    <tr>\n",
                            "      <th>3</th>\n",
                            "      <td>14</td>\n",
                            "      <td>155</td>\n",
                            "      <td>mx</td>\n",
                            "      <td>M</td>\n",
                            "      <td>NaN</td>\n",
                            "      <td>8</td>\n",
                            "    </tr>\n",
                            "    <tr>\n",
                            "      <th>4</th>\n",
                            "      <td>12</td>\n",
                            "      <td>125</td>\n",
                            "      <td>mx</td>\n",
                            "      <td>M</td>\n",
                            "      <td>7.0</td>\n",
                            "      <td>8</td>\n",
                            "    </tr>\n",
                            "    <tr>\n",
                            "      <th>5</th>\n",
                            "      <td>11</td>\n",
                            "      <td>120</td>\n",
                            "      <td>ch</td>\n",
                            "      <td>M</td>\n",
                            "      <td>8.0</td>\n",
                            "      <td>8</td>\n",
                            "    </tr>\n",
                            "    <tr>\n",
                            "      <th>6</th>\n",
                            "      <td>12</td>\n",
                            "      <td>125</td>\n",
                            "      <td>ch</td>\n",
                            "      <td>F</td>\n",
                            "      <td>3.0</td>\n",
                            "      <td>9</td>\n",
                            "    </tr>\n",
                            "  </tbody>\n",
                            "</table>\n",
                            "</div>"
                        ],
                        "application/vnd.deepnote.dataframe.v2+json": {
                            "row_count": 7,
                            "column_count": 6,
                            "columns": [
                                {
                                    "name": "edad",
                                    "dtype": "int64",
                                    "stats": {
                                        "unique_count": 6,
                                        "nan_count": 0,
                                        "min": "9",
                                        "max": "14",
                                        "histogram": [
                                            {
                                                "bin_start": 9,
                                                "bin_end": 9.5,
                                                "count": 1
                                            },
                                            {
                                                "bin_start": 9.5,
                                                "bin_end": 10,
                                                "count": 0
                                            },
                                            {
                                                "bin_start": 10,
                                                "bin_end": 10.5,
                                                "count": 1
                                            },
                                            {
                                                "bin_start": 10.5,
                                                "bin_end": 11,
                                                "count": 0
                                            },
                                            {
                                                "bin_start": 11,
                                                "bin_end": 11.5,
                                                "count": 1
                                            },
                                            {
                                                "bin_start": 11.5,
                                                "bin_end": 12,
                                                "count": 0
                                            },
                                            {
                                                "bin_start": 12,
                                                "bin_end": 12.5,
                                                "count": 2
                                            },
                                            {
                                                "bin_start": 12.5,
                                                "bin_end": 13,
                                                "count": 0
                                            },
                                            {
                                                "bin_start": 13,
                                                "bin_end": 13.5,
                                                "count": 1
                                            },
                                            {
                                                "bin_start": 13.5,
                                                "bin_end": 14,
                                                "count": 1
                                            }
                                        ]
                                    }
                                },
                                {
                                    "name": "cm",
                                    "dtype": "int64",
                                    "stats": {
                                        "unique_count": 6,
                                        "nan_count": 0,
                                        "min": "110",
                                        "max": "155",
                                        "histogram": [
                                            {
                                                "bin_start": 110,
                                                "bin_end": 114.5,
                                                "count": 1
                                            },
                                            {
                                                "bin_start": 114.5,
                                                "bin_end": 119,
                                                "count": 1
                                            },
                                            {
                                                "bin_start": 119,
                                                "bin_end": 123.5,
                                                "count": 1
                                            },
                                            {
                                                "bin_start": 123.5,
                                                "bin_end": 128,
                                                "count": 2
                                            },
                                            {
                                                "bin_start": 128,
                                                "bin_end": 132.5,
                                                "count": 1
                                            },
                                            {
                                                "bin_start": 132.5,
                                                "bin_end": 137,
                                                "count": 0
                                            },
                                            {
                                                "bin_start": 137,
                                                "bin_end": 141.5,
                                                "count": 0
                                            },
                                            {
                                                "bin_start": 141.5,
                                                "bin_end": 146,
                                                "count": 0
                                            },
                                            {
                                                "bin_start": 146,
                                                "bin_end": 150.5,
                                                "count": 0
                                            },
                                            {
                                                "bin_start": 150.5,
                                                "bin_end": 155,
                                                "count": 1
                                            }
                                        ]
                                    }
                                },
                                {
                                    "name": "pais",
                                    "dtype": "object",
                                    "stats": {
                                        "unique_count": 3,
                                        "nan_count": 0,
                                        "categories": [
                                            {
                                                "name": "mx",
                                                "count": 3
                                            },
                                            {
                                                "name": "co",
                                                "count": 2
                                            },
                                            {
                                                "name": "ch",
                                                "count": 2
                                            }
                                        ]
                                    }
                                },
                                {
                                    "name": "genero",
                                    "dtype": "object",
                                    "stats": {
                                        "unique_count": 2,
                                        "nan_count": 0,
                                        "categories": [
                                            {
                                                "name": "M",
                                                "count": 4
                                            },
                                            {
                                                "name": "F",
                                                "count": 3
                                            }
                                        ]
                                    }
                                },
                                {
                                    "name": "Q1",
                                    "dtype": "float64",
                                    "stats": {
                                        "unique_count": 5,
                                        "nan_count": 1,
                                        "min": "3.0",
                                        "max": "10.0",
                                        "histogram": [
                                            {
                                                "bin_start": 3,
                                                "bin_end": 3.7,
                                                "count": 1
                                            },
                                            {
                                                "bin_start": 3.7,
                                                "bin_end": 4.4,
                                                "count": 0
                                            },
                                            {
                                                "bin_start": 4.4,
                                                "bin_end": 5.1,
                                                "count": 1
                                            },
                                            {
                                                "bin_start": 5.1,
                                                "bin_end": 5.8,
                                                "count": 0
                                            },
                                            {
                                                "bin_start": 5.8,
                                                "bin_end": 6.5,
                                                "count": 0
                                            },
                                            {
                                                "bin_start": 6.5,
                                                "bin_end": 7.199999999999999,
                                                "count": 1
                                            },
                                            {
                                                "bin_start": 7.199999999999999,
                                                "bin_end": 7.8999999999999995,
                                                "count": 0
                                            },
                                            {
                                                "bin_start": 7.8999999999999995,
                                                "bin_end": 8.6,
                                                "count": 2
                                            },
                                            {
                                                "bin_start": 8.6,
                                                "bin_end": 9.3,
                                                "count": 0
                                            },
                                            {
                                                "bin_start": 9.3,
                                                "bin_end": 10,
                                                "count": 1
                                            }
                                        ]
                                    }
                                },
                                {
                                    "name": "Q2",
                                    "dtype": "int64",
                                    "stats": {
                                        "unique_count": 3,
                                        "nan_count": 0,
                                        "min": "7",
                                        "max": "9",
                                        "histogram": [
                                            {
                                                "bin_start": 7,
                                                "bin_end": 7.2,
                                                "count": 1
                                            },
                                            {
                                                "bin_start": 7.2,
                                                "bin_end": 7.4,
                                                "count": 0
                                            },
                                            {
                                                "bin_start": 7.4,
                                                "bin_end": 7.6,
                                                "count": 0
                                            },
                                            {
                                                "bin_start": 7.6,
                                                "bin_end": 7.8,
                                                "count": 0
                                            },
                                            {
                                                "bin_start": 7.8,
                                                "bin_end": 8,
                                                "count": 0
                                            },
                                            {
                                                "bin_start": 8,
                                                "bin_end": 8.2,
                                                "count": 3
                                            },
                                            {
                                                "bin_start": 8.2,
                                                "bin_end": 8.4,
                                                "count": 0
                                            },
                                            {
                                                "bin_start": 8.4,
                                                "bin_end": 8.6,
                                                "count": 0
                                            },
                                            {
                                                "bin_start": 8.6,
                                                "bin_end": 8.8,
                                                "count": 0
                                            },
                                            {
                                                "bin_start": 8.8,
                                                "bin_end": 9,
                                                "count": 3
                                            }
                                        ]
                                    }
                                },
                                {
                                    "name": "_deepnote_index_column",
                                    "dtype": "int64"
                                }
                            ],
                            "rows_top": [
                                {
                                    "edad": 10,
                                    "cm": 115,
                                    "pais": "co",
                                    "genero": "M",
                                    "Q1": 5,
                                    "Q2": 7,
                                    "_deepnote_index_column": 0
                                },
                                {
                                    "edad": 9,
                                    "cm": 110,
                                    "pais": "mx",
                                    "genero": "F",
                                    "Q1": 10,
                                    "Q2": 9,
                                    "_deepnote_index_column": 1
                                },
                                {
                                    "edad": 13,
                                    "cm": 130,
                                    "pais": "co",
                                    "genero": "F",
                                    "Q1": 8,
                                    "Q2": 9,
                                    "_deepnote_index_column": 2
                                },
                                {
                                    "edad": 14,
                                    "cm": 155,
                                    "pais": "mx",
                                    "genero": "M",
                                    "Q1": "nan",
                                    "Q2": 8,
                                    "_deepnote_index_column": 3
                                },
                                {
                                    "edad": 12,
                                    "cm": 125,
                                    "pais": "mx",
                                    "genero": "M",
                                    "Q1": 7,
                                    "Q2": 8,
                                    "_deepnote_index_column": 4
                                },
                                {
                                    "edad": 11,
                                    "cm": 120,
                                    "pais": "ch",
                                    "genero": "M",
                                    "Q1": 8,
                                    "Q2": 8,
                                    "_deepnote_index_column": 5
                                },
                                {
                                    "edad": 12,
                                    "cm": 125,
                                    "pais": "ch",
                                    "genero": "F",
                                    "Q1": 3,
                                    "Q2": 9,
                                    "_deepnote_index_column": 6
                                }
                            ],
                            "rows_bottom": null
                        }
                    },
                    "metadata": {},
                    "output_type": "display_data"
                }
            ],
            "metadata": {
                "tags": [],
                "cell_id": "00050-a1767916-f303-436a-b5ef-30a8d3cc318f",
                "deepnote_to_be_reexecuted": false,
                "source_hash": "8a57443a",
                "execution_start": 1626399934729,
                "execution_millis": 64,
                "deepnote_cell_type": "code",
                "id": "rMbXZ1PpAGTq",
                "outputId": "228defba-9b7a-4a2f-850a-0e87b4ccdc1b"
            }
        },
        {
            "cell_type": "markdown",
            "source": [
                "* Formato parquet"
            ],
            "metadata": {
                "tags": [],
                "cell_id": "00051-2c4671c3-9469-4759-861d-2acdc413d28f",
                "deepnote_cell_type": "markdown",
                "id": "XE5-2R11AGTs"
            }
        },
        {
            "cell_type": "code",
            "execution_count": null,
            "source": [
                "df.to_parquet(dir_pandas.format('test.parquet'))\r\n",
                "pd.read_parquet(dir_pandas.format('test.parquet'))"
            ],
            "outputs": [
                {
                    "data": {
                        "text/plain": [
                            "   edad   cm pais genero    Q1   Q2\n",
                            "0    10  115   co      M   5.0  7.0\n",
                            "1     9  110   mx      F  10.0  9.0\n",
                            "2    13  130   co      F   8.0  9.0\n",
                            "3    14  155   mx      M   NaN  8.0\n",
                            "4    12  125   mx      M   7.0  8.0\n",
                            "5    11  120   ch      M   8.0  8.0\n",
                            "6    12  125   ch      F   3.0  9.0"
                        ],
                        "text/html": [
                            "<div>\n",
                            "<style scoped>\n",
                            "    .dataframe tbody tr th:only-of-type {\n",
                            "        vertical-align: middle;\n",
                            "    }\n",
                            "\n",
                            "    .dataframe tbody tr th {\n",
                            "        vertical-align: top;\n",
                            "    }\n",
                            "\n",
                            "    .dataframe thead th {\n",
                            "        text-align: right;\n",
                            "    }\n",
                            "</style>\n",
                            "<table border=\"1\" class=\"dataframe\">\n",
                            "  <thead>\n",
                            "    <tr style=\"text-align: right;\">\n",
                            "      <th></th>\n",
                            "      <th>edad</th>\n",
                            "      <th>cm</th>\n",
                            "      <th>pais</th>\n",
                            "      <th>genero</th>\n",
                            "      <th>Q1</th>\n",
                            "      <th>Q2</th>\n",
                            "    </tr>\n",
                            "  </thead>\n",
                            "  <tbody>\n",
                            "    <tr>\n",
                            "      <th>0</th>\n",
                            "      <td>10</td>\n",
                            "      <td>115</td>\n",
                            "      <td>co</td>\n",
                            "      <td>M</td>\n",
                            "      <td>5.0</td>\n",
                            "      <td>7.0</td>\n",
                            "    </tr>\n",
                            "    <tr>\n",
                            "      <th>1</th>\n",
                            "      <td>9</td>\n",
                            "      <td>110</td>\n",
                            "      <td>mx</td>\n",
                            "      <td>F</td>\n",
                            "      <td>10.0</td>\n",
                            "      <td>9.0</td>\n",
                            "    </tr>\n",
                            "    <tr>\n",
                            "      <th>2</th>\n",
                            "      <td>13</td>\n",
                            "      <td>130</td>\n",
                            "      <td>co</td>\n",
                            "      <td>F</td>\n",
                            "      <td>8.0</td>\n",
                            "      <td>9.0</td>\n",
                            "    </tr>\n",
                            "    <tr>\n",
                            "      <th>3</th>\n",
                            "      <td>14</td>\n",
                            "      <td>155</td>\n",
                            "      <td>mx</td>\n",
                            "      <td>M</td>\n",
                            "      <td>NaN</td>\n",
                            "      <td>8.0</td>\n",
                            "    </tr>\n",
                            "    <tr>\n",
                            "      <th>4</th>\n",
                            "      <td>12</td>\n",
                            "      <td>125</td>\n",
                            "      <td>mx</td>\n",
                            "      <td>M</td>\n",
                            "      <td>7.0</td>\n",
                            "      <td>8.0</td>\n",
                            "    </tr>\n",
                            "    <tr>\n",
                            "      <th>5</th>\n",
                            "      <td>11</td>\n",
                            "      <td>120</td>\n",
                            "      <td>ch</td>\n",
                            "      <td>M</td>\n",
                            "      <td>8.0</td>\n",
                            "      <td>8.0</td>\n",
                            "    </tr>\n",
                            "    <tr>\n",
                            "      <th>6</th>\n",
                            "      <td>12</td>\n",
                            "      <td>125</td>\n",
                            "      <td>ch</td>\n",
                            "      <td>F</td>\n",
                            "      <td>3.0</td>\n",
                            "      <td>9.0</td>\n",
                            "    </tr>\n",
                            "  </tbody>\n",
                            "</table>\n",
                            "</div>"
                        ],
                        "application/vnd.deepnote.dataframe.v2+json": {
                            "row_count": 7,
                            "column_count": 6,
                            "columns": [
                                {
                                    "name": "edad",
                                    "dtype": "int64",
                                    "stats": {
                                        "unique_count": 6,
                                        "nan_count": 0,
                                        "min": "9",
                                        "max": "14",
                                        "histogram": [
                                            {
                                                "bin_start": 9,
                                                "bin_end": 9.5,
                                                "count": 1
                                            },
                                            {
                                                "bin_start": 9.5,
                                                "bin_end": 10,
                                                "count": 0
                                            },
                                            {
                                                "bin_start": 10,
                                                "bin_end": 10.5,
                                                "count": 1
                                            },
                                            {
                                                "bin_start": 10.5,
                                                "bin_end": 11,
                                                "count": 0
                                            },
                                            {
                                                "bin_start": 11,
                                                "bin_end": 11.5,
                                                "count": 1
                                            },
                                            {
                                                "bin_start": 11.5,
                                                "bin_end": 12,
                                                "count": 0
                                            },
                                            {
                                                "bin_start": 12,
                                                "bin_end": 12.5,
                                                "count": 2
                                            },
                                            {
                                                "bin_start": 12.5,
                                                "bin_end": 13,
                                                "count": 0
                                            },
                                            {
                                                "bin_start": 13,
                                                "bin_end": 13.5,
                                                "count": 1
                                            },
                                            {
                                                "bin_start": 13.5,
                                                "bin_end": 14,
                                                "count": 1
                                            }
                                        ]
                                    }
                                },
                                {
                                    "name": "cm",
                                    "dtype": "int64",
                                    "stats": {
                                        "unique_count": 6,
                                        "nan_count": 0,
                                        "min": "110",
                                        "max": "155",
                                        "histogram": [
                                            {
                                                "bin_start": 110,
                                                "bin_end": 114.5,
                                                "count": 1
                                            },
                                            {
                                                "bin_start": 114.5,
                                                "bin_end": 119,
                                                "count": 1
                                            },
                                            {
                                                "bin_start": 119,
                                                "bin_end": 123.5,
                                                "count": 1
                                            },
                                            {
                                                "bin_start": 123.5,
                                                "bin_end": 128,
                                                "count": 2
                                            },
                                            {
                                                "bin_start": 128,
                                                "bin_end": 132.5,
                                                "count": 1
                                            },
                                            {
                                                "bin_start": 132.5,
                                                "bin_end": 137,
                                                "count": 0
                                            },
                                            {
                                                "bin_start": 137,
                                                "bin_end": 141.5,
                                                "count": 0
                                            },
                                            {
                                                "bin_start": 141.5,
                                                "bin_end": 146,
                                                "count": 0
                                            },
                                            {
                                                "bin_start": 146,
                                                "bin_end": 150.5,
                                                "count": 0
                                            },
                                            {
                                                "bin_start": 150.5,
                                                "bin_end": 155,
                                                "count": 1
                                            }
                                        ]
                                    }
                                },
                                {
                                    "name": "pais",
                                    "dtype": "object",
                                    "stats": {
                                        "unique_count": 3,
                                        "nan_count": 0,
                                        "categories": [
                                            {
                                                "name": "mx",
                                                "count": 3
                                            },
                                            {
                                                "name": "co",
                                                "count": 2
                                            },
                                            {
                                                "name": "ch",
                                                "count": 2
                                            }
                                        ]
                                    }
                                },
                                {
                                    "name": "genero",
                                    "dtype": "object",
                                    "stats": {
                                        "unique_count": 2,
                                        "nan_count": 0,
                                        "categories": [
                                            {
                                                "name": "M",
                                                "count": 4
                                            },
                                            {
                                                "name": "F",
                                                "count": 3
                                            }
                                        ]
                                    }
                                },
                                {
                                    "name": "Q1",
                                    "dtype": "float64",
                                    "stats": {
                                        "unique_count": 5,
                                        "nan_count": 1,
                                        "min": "3.0",
                                        "max": "10.0",
                                        "histogram": [
                                            {
                                                "bin_start": 3,
                                                "bin_end": 3.7,
                                                "count": 1
                                            },
                                            {
                                                "bin_start": 3.7,
                                                "bin_end": 4.4,
                                                "count": 0
                                            },
                                            {
                                                "bin_start": 4.4,
                                                "bin_end": 5.1,
                                                "count": 1
                                            },
                                            {
                                                "bin_start": 5.1,
                                                "bin_end": 5.8,
                                                "count": 0
                                            },
                                            {
                                                "bin_start": 5.8,
                                                "bin_end": 6.5,
                                                "count": 0
                                            },
                                            {
                                                "bin_start": 6.5,
                                                "bin_end": 7.199999999999999,
                                                "count": 1
                                            },
                                            {
                                                "bin_start": 7.199999999999999,
                                                "bin_end": 7.8999999999999995,
                                                "count": 0
                                            },
                                            {
                                                "bin_start": 7.8999999999999995,
                                                "bin_end": 8.6,
                                                "count": 2
                                            },
                                            {
                                                "bin_start": 8.6,
                                                "bin_end": 9.3,
                                                "count": 0
                                            },
                                            {
                                                "bin_start": 9.3,
                                                "bin_end": 10,
                                                "count": 1
                                            }
                                        ]
                                    }
                                },
                                {
                                    "name": "Q2",
                                    "dtype": "float64",
                                    "stats": {
                                        "unique_count": 3,
                                        "nan_count": 0,
                                        "min": "7.0",
                                        "max": "9.0",
                                        "histogram": [
                                            {
                                                "bin_start": 7,
                                                "bin_end": 7.2,
                                                "count": 1
                                            },
                                            {
                                                "bin_start": 7.2,
                                                "bin_end": 7.4,
                                                "count": 0
                                            },
                                            {
                                                "bin_start": 7.4,
                                                "bin_end": 7.6,
                                                "count": 0
                                            },
                                            {
                                                "bin_start": 7.6,
                                                "bin_end": 7.8,
                                                "count": 0
                                            },
                                            {
                                                "bin_start": 7.8,
                                                "bin_end": 8,
                                                "count": 0
                                            },
                                            {
                                                "bin_start": 8,
                                                "bin_end": 8.2,
                                                "count": 3
                                            },
                                            {
                                                "bin_start": 8.2,
                                                "bin_end": 8.4,
                                                "count": 0
                                            },
                                            {
                                                "bin_start": 8.4,
                                                "bin_end": 8.6,
                                                "count": 0
                                            },
                                            {
                                                "bin_start": 8.6,
                                                "bin_end": 8.8,
                                                "count": 0
                                            },
                                            {
                                                "bin_start": 8.8,
                                                "bin_end": 9,
                                                "count": 3
                                            }
                                        ]
                                    }
                                },
                                {
                                    "name": "_deepnote_index_column",
                                    "dtype": "int64"
                                }
                            ],
                            "rows_top": [
                                {
                                    "edad": 10,
                                    "cm": 115,
                                    "pais": "co",
                                    "genero": "M",
                                    "Q1": 5,
                                    "Q2": 7,
                                    "_deepnote_index_column": 0
                                },
                                {
                                    "edad": 9,
                                    "cm": 110,
                                    "pais": "mx",
                                    "genero": "F",
                                    "Q1": 10,
                                    "Q2": 9,
                                    "_deepnote_index_column": 1
                                },
                                {
                                    "edad": 13,
                                    "cm": 130,
                                    "pais": "co",
                                    "genero": "F",
                                    "Q1": 8,
                                    "Q2": 9,
                                    "_deepnote_index_column": 2
                                },
                                {
                                    "edad": 14,
                                    "cm": 155,
                                    "pais": "mx",
                                    "genero": "M",
                                    "Q1": "nan",
                                    "Q2": 8,
                                    "_deepnote_index_column": 3
                                },
                                {
                                    "edad": 12,
                                    "cm": 125,
                                    "pais": "mx",
                                    "genero": "M",
                                    "Q1": 7,
                                    "Q2": 8,
                                    "_deepnote_index_column": 4
                                },
                                {
                                    "edad": 11,
                                    "cm": 120,
                                    "pais": "ch",
                                    "genero": "M",
                                    "Q1": 8,
                                    "Q2": 8,
                                    "_deepnote_index_column": 5
                                },
                                {
                                    "edad": 12,
                                    "cm": 125,
                                    "pais": "ch",
                                    "genero": "F",
                                    "Q1": 3,
                                    "Q2": 9,
                                    "_deepnote_index_column": 6
                                }
                            ],
                            "rows_bottom": null
                        }
                    },
                    "metadata": {},
                    "output_type": "display_data"
                }
            ],
            "metadata": {
                "tags": [],
                "cell_id": "00052-e1507ab4-3be6-47ff-8a21-ee700e657c8c",
                "deepnote_to_be_reexecuted": false,
                "source_hash": "75dfe75f",
                "execution_start": 1626399934778,
                "execution_millis": 238,
                "deepnote_cell_type": "code",
                "id": "gvLxZ-xXAGTt",
                "outputId": "e9ddb5cf-28ee-4cf4-9409-a855417018db"
            }
        },
        {
            "cell_type": "markdown",
            "source": [
                "* Formato hdf"
            ],
            "metadata": {
                "tags": [],
                "cell_id": "00053-c7241707-086e-47a5-887e-8d9344dfec35",
                "deepnote_cell_type": "markdown",
                "id": "Q1ymRW15AGTu"
            }
        },
        {
            "cell_type": "code",
            "execution_count": null,
            "source": [
                "df.to_hdf(dir_pandas.format('test.hdf'), key='data', format='table')\r\n",
                "pd.read_hdf(dir_pandas.format('test.hdf'))"
            ],
            "outputs": [
                {
                    "data": {
                        "text/plain": [
                            "   edad   cm pais genero    Q1   Q2\n",
                            "0    10  115   co      M   5.0  7.0\n",
                            "1     9  110   mx      F  10.0  9.0\n",
                            "2    13  130   co      F   8.0  9.0\n",
                            "3    14  155   mx      M   NaN  8.0\n",
                            "4    12  125   mx      M   7.0  8.0\n",
                            "5    11  120   ch      M   8.0  8.0\n",
                            "6    12  125   ch      F   3.0  9.0"
                        ],
                        "text/html": [
                            "<div>\n",
                            "<style scoped>\n",
                            "    .dataframe tbody tr th:only-of-type {\n",
                            "        vertical-align: middle;\n",
                            "    }\n",
                            "\n",
                            "    .dataframe tbody tr th {\n",
                            "        vertical-align: top;\n",
                            "    }\n",
                            "\n",
                            "    .dataframe thead th {\n",
                            "        text-align: right;\n",
                            "    }\n",
                            "</style>\n",
                            "<table border=\"1\" class=\"dataframe\">\n",
                            "  <thead>\n",
                            "    <tr style=\"text-align: right;\">\n",
                            "      <th></th>\n",
                            "      <th>edad</th>\n",
                            "      <th>cm</th>\n",
                            "      <th>pais</th>\n",
                            "      <th>genero</th>\n",
                            "      <th>Q1</th>\n",
                            "      <th>Q2</th>\n",
                            "    </tr>\n",
                            "  </thead>\n",
                            "  <tbody>\n",
                            "    <tr>\n",
                            "      <th>0</th>\n",
                            "      <td>10</td>\n",
                            "      <td>115</td>\n",
                            "      <td>co</td>\n",
                            "      <td>M</td>\n",
                            "      <td>5.0</td>\n",
                            "      <td>7.0</td>\n",
                            "    </tr>\n",
                            "    <tr>\n",
                            "      <th>1</th>\n",
                            "      <td>9</td>\n",
                            "      <td>110</td>\n",
                            "      <td>mx</td>\n",
                            "      <td>F</td>\n",
                            "      <td>10.0</td>\n",
                            "      <td>9.0</td>\n",
                            "    </tr>\n",
                            "    <tr>\n",
                            "      <th>2</th>\n",
                            "      <td>13</td>\n",
                            "      <td>130</td>\n",
                            "      <td>co</td>\n",
                            "      <td>F</td>\n",
                            "      <td>8.0</td>\n",
                            "      <td>9.0</td>\n",
                            "    </tr>\n",
                            "    <tr>\n",
                            "      <th>3</th>\n",
                            "      <td>14</td>\n",
                            "      <td>155</td>\n",
                            "      <td>mx</td>\n",
                            "      <td>M</td>\n",
                            "      <td>NaN</td>\n",
                            "      <td>8.0</td>\n",
                            "    </tr>\n",
                            "    <tr>\n",
                            "      <th>4</th>\n",
                            "      <td>12</td>\n",
                            "      <td>125</td>\n",
                            "      <td>mx</td>\n",
                            "      <td>M</td>\n",
                            "      <td>7.0</td>\n",
                            "      <td>8.0</td>\n",
                            "    </tr>\n",
                            "    <tr>\n",
                            "      <th>5</th>\n",
                            "      <td>11</td>\n",
                            "      <td>120</td>\n",
                            "      <td>ch</td>\n",
                            "      <td>M</td>\n",
                            "      <td>8.0</td>\n",
                            "      <td>8.0</td>\n",
                            "    </tr>\n",
                            "    <tr>\n",
                            "      <th>6</th>\n",
                            "      <td>12</td>\n",
                            "      <td>125</td>\n",
                            "      <td>ch</td>\n",
                            "      <td>F</td>\n",
                            "      <td>3.0</td>\n",
                            "      <td>9.0</td>\n",
                            "    </tr>\n",
                            "  </tbody>\n",
                            "</table>\n",
                            "</div>"
                        ],
                        "application/vnd.deepnote.dataframe.v2+json": {
                            "row_count": 7,
                            "column_count": 6,
                            "columns": [
                                {
                                    "name": "edad",
                                    "dtype": "int64",
                                    "stats": {
                                        "unique_count": 6,
                                        "nan_count": 0,
                                        "min": "9",
                                        "max": "14",
                                        "histogram": [
                                            {
                                                "bin_start": 9,
                                                "bin_end": 9.5,
                                                "count": 1
                                            },
                                            {
                                                "bin_start": 9.5,
                                                "bin_end": 10,
                                                "count": 0
                                            },
                                            {
                                                "bin_start": 10,
                                                "bin_end": 10.5,
                                                "count": 1
                                            },
                                            {
                                                "bin_start": 10.5,
                                                "bin_end": 11,
                                                "count": 0
                                            },
                                            {
                                                "bin_start": 11,
                                                "bin_end": 11.5,
                                                "count": 1
                                            },
                                            {
                                                "bin_start": 11.5,
                                                "bin_end": 12,
                                                "count": 0
                                            },
                                            {
                                                "bin_start": 12,
                                                "bin_end": 12.5,
                                                "count": 2
                                            },
                                            {
                                                "bin_start": 12.5,
                                                "bin_end": 13,
                                                "count": 0
                                            },
                                            {
                                                "bin_start": 13,
                                                "bin_end": 13.5,
                                                "count": 1
                                            },
                                            {
                                                "bin_start": 13.5,
                                                "bin_end": 14,
                                                "count": 1
                                            }
                                        ]
                                    }
                                },
                                {
                                    "name": "cm",
                                    "dtype": "int64",
                                    "stats": {
                                        "unique_count": 6,
                                        "nan_count": 0,
                                        "min": "110",
                                        "max": "155",
                                        "histogram": [
                                            {
                                                "bin_start": 110,
                                                "bin_end": 114.5,
                                                "count": 1
                                            },
                                            {
                                                "bin_start": 114.5,
                                                "bin_end": 119,
                                                "count": 1
                                            },
                                            {
                                                "bin_start": 119,
                                                "bin_end": 123.5,
                                                "count": 1
                                            },
                                            {
                                                "bin_start": 123.5,
                                                "bin_end": 128,
                                                "count": 2
                                            },
                                            {
                                                "bin_start": 128,
                                                "bin_end": 132.5,
                                                "count": 1
                                            },
                                            {
                                                "bin_start": 132.5,
                                                "bin_end": 137,
                                                "count": 0
                                            },
                                            {
                                                "bin_start": 137,
                                                "bin_end": 141.5,
                                                "count": 0
                                            },
                                            {
                                                "bin_start": 141.5,
                                                "bin_end": 146,
                                                "count": 0
                                            },
                                            {
                                                "bin_start": 146,
                                                "bin_end": 150.5,
                                                "count": 0
                                            },
                                            {
                                                "bin_start": 150.5,
                                                "bin_end": 155,
                                                "count": 1
                                            }
                                        ]
                                    }
                                },
                                {
                                    "name": "pais",
                                    "dtype": "object",
                                    "stats": {
                                        "unique_count": 3,
                                        "nan_count": 0,
                                        "categories": [
                                            {
                                                "name": "mx",
                                                "count": 3
                                            },
                                            {
                                                "name": "co",
                                                "count": 2
                                            },
                                            {
                                                "name": "ch",
                                                "count": 2
                                            }
                                        ]
                                    }
                                },
                                {
                                    "name": "genero",
                                    "dtype": "object",
                                    "stats": {
                                        "unique_count": 2,
                                        "nan_count": 0,
                                        "categories": [
                                            {
                                                "name": "M",
                                                "count": 4
                                            },
                                            {
                                                "name": "F",
                                                "count": 3
                                            }
                                        ]
                                    }
                                },
                                {
                                    "name": "Q1",
                                    "dtype": "float64",
                                    "stats": {
                                        "unique_count": 5,
                                        "nan_count": 1,
                                        "min": "3.0",
                                        "max": "10.0",
                                        "histogram": [
                                            {
                                                "bin_start": 3,
                                                "bin_end": 3.7,
                                                "count": 1
                                            },
                                            {
                                                "bin_start": 3.7,
                                                "bin_end": 4.4,
                                                "count": 0
                                            },
                                            {
                                                "bin_start": 4.4,
                                                "bin_end": 5.1,
                                                "count": 1
                                            },
                                            {
                                                "bin_start": 5.1,
                                                "bin_end": 5.8,
                                                "count": 0
                                            },
                                            {
                                                "bin_start": 5.8,
                                                "bin_end": 6.5,
                                                "count": 0
                                            },
                                            {
                                                "bin_start": 6.5,
                                                "bin_end": 7.199999999999999,
                                                "count": 1
                                            },
                                            {
                                                "bin_start": 7.199999999999999,
                                                "bin_end": 7.8999999999999995,
                                                "count": 0
                                            },
                                            {
                                                "bin_start": 7.8999999999999995,
                                                "bin_end": 8.6,
                                                "count": 2
                                            },
                                            {
                                                "bin_start": 8.6,
                                                "bin_end": 9.3,
                                                "count": 0
                                            },
                                            {
                                                "bin_start": 9.3,
                                                "bin_end": 10,
                                                "count": 1
                                            }
                                        ]
                                    }
                                },
                                {
                                    "name": "Q2",
                                    "dtype": "float64",
                                    "stats": {
                                        "unique_count": 3,
                                        "nan_count": 0,
                                        "min": "7.0",
                                        "max": "9.0",
                                        "histogram": [
                                            {
                                                "bin_start": 7,
                                                "bin_end": 7.2,
                                                "count": 1
                                            },
                                            {
                                                "bin_start": 7.2,
                                                "bin_end": 7.4,
                                                "count": 0
                                            },
                                            {
                                                "bin_start": 7.4,
                                                "bin_end": 7.6,
                                                "count": 0
                                            },
                                            {
                                                "bin_start": 7.6,
                                                "bin_end": 7.8,
                                                "count": 0
                                            },
                                            {
                                                "bin_start": 7.8,
                                                "bin_end": 8,
                                                "count": 0
                                            },
                                            {
                                                "bin_start": 8,
                                                "bin_end": 8.2,
                                                "count": 3
                                            },
                                            {
                                                "bin_start": 8.2,
                                                "bin_end": 8.4,
                                                "count": 0
                                            },
                                            {
                                                "bin_start": 8.4,
                                                "bin_end": 8.6,
                                                "count": 0
                                            },
                                            {
                                                "bin_start": 8.6,
                                                "bin_end": 8.8,
                                                "count": 0
                                            },
                                            {
                                                "bin_start": 8.8,
                                                "bin_end": 9,
                                                "count": 3
                                            }
                                        ]
                                    }
                                },
                                {
                                    "name": "_deepnote_index_column",
                                    "dtype": "int64"
                                }
                            ],
                            "rows_top": [
                                {
                                    "edad": 10,
                                    "cm": 115,
                                    "pais": "co",
                                    "genero": "M",
                                    "Q1": 5,
                                    "Q2": 7,
                                    "_deepnote_index_column": 0
                                },
                                {
                                    "edad": 9,
                                    "cm": 110,
                                    "pais": "mx",
                                    "genero": "F",
                                    "Q1": 10,
                                    "Q2": 9,
                                    "_deepnote_index_column": 1
                                },
                                {
                                    "edad": 13,
                                    "cm": 130,
                                    "pais": "co",
                                    "genero": "F",
                                    "Q1": 8,
                                    "Q2": 9,
                                    "_deepnote_index_column": 2
                                },
                                {
                                    "edad": 14,
                                    "cm": 155,
                                    "pais": "mx",
                                    "genero": "M",
                                    "Q1": "nan",
                                    "Q2": 8,
                                    "_deepnote_index_column": 3
                                },
                                {
                                    "edad": 12,
                                    "cm": 125,
                                    "pais": "mx",
                                    "genero": "M",
                                    "Q1": 7,
                                    "Q2": 8,
                                    "_deepnote_index_column": 4
                                },
                                {
                                    "edad": 11,
                                    "cm": 120,
                                    "pais": "ch",
                                    "genero": "M",
                                    "Q1": 8,
                                    "Q2": 8,
                                    "_deepnote_index_column": 5
                                },
                                {
                                    "edad": 12,
                                    "cm": 125,
                                    "pais": "ch",
                                    "genero": "F",
                                    "Q1": 3,
                                    "Q2": 9,
                                    "_deepnote_index_column": 6
                                }
                            ],
                            "rows_bottom": null
                        }
                    },
                    "metadata": {},
                    "output_type": "display_data"
                }
            ],
            "metadata": {
                "tags": [],
                "cell_id": "00054-1878aed9-346b-40ab-90ab-50473dd0b268",
                "deepnote_to_be_reexecuted": false,
                "source_hash": "2793bc99",
                "execution_start": 1626399935009,
                "execution_millis": 607,
                "deepnote_cell_type": "code",
                "id": "ApEEgpA3AGTu",
                "outputId": "0cd46593-7e95-4915-ac5c-3f80f97149a1"
            }
        }
    ],
    "metadata": {
        "orig_nbformat": 4,
        "language_info": {
            "name": "python"
        }
    },
    "nbformat": 4,
    "nbformat_minor": 2
}