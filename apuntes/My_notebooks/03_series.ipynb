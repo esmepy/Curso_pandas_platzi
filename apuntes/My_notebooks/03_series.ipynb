{
    "cells": [
        {
            "cell_type": "markdown",
            "source": [
                "# 3 Series e indexación y selección de datos"
            ],
            "metadata": {}
        },
        {
            "cell_type": "code",
            "execution_count": 1,
            "source": [
                "import pandas as pd"
            ],
            "outputs": [],
            "metadata": {
                "id": "eiWl6lYsOjvR"
            }
        },
        {
            "cell_type": "code",
            "execution_count": null,
            "source": [
                "pd.Series([10,9,8,7,6])"
            ],
            "outputs": [
                {
                    "output_type": "display_data",
                    "data": {
                        "text/plain": [
                            "0    10\n",
                            "1     9\n",
                            "2     8\n",
                            "3     7\n",
                            "4     6\n",
                            "dtype: int64"
                        ]
                    },
                    "metadata": {}
                }
            ],
            "metadata": {
                "id": "bDCIKIzFP-M6",
                "colab": {
                    "base_uri": "https://localhost:8080/",
                    "height": 119
                },
                "outputId": "be56c791-30bc-4c33-c25e-cdeb375b988d"
            }
        },
        {
            "cell_type": "code",
            "execution_count": 2,
            "source": [
                "sr = pd.Series([10,9,8,7,6])\r\n",
                "sr"
            ],
            "outputs": [
                {
                    "output_type": "execute_result",
                    "data": {
                        "text/plain": [
                            "0    10\n",
                            "1     9\n",
                            "2     8\n",
                            "3     7\n",
                            "4     6\n",
                            "dtype: int64"
                        ]
                    },
                    "metadata": {},
                    "execution_count": 2
                }
            ],
            "metadata": {
                "id": "fdTXhp44QDsf",
                "colab": {
                    "base_uri": "https://localhost:8080/",
                    "height": 119
                },
                "outputId": "9a1e13bf-82bb-4658-98e3-eddf6b1dde5c"
            }
        },
        {
            "cell_type": "code",
            "execution_count": null,
            "source": [
                "sr.values"
            ],
            "outputs": [
                {
                    "output_type": "display_data",
                    "data": {
                        "text/plain": [
                            "array([10,  9,  8,  7,  6])"
                        ]
                    },
                    "metadata": {}
                }
            ],
            "metadata": {
                "id": "AWnchWgjQJZs",
                "colab": {
                    "base_uri": "https://localhost:8080/",
                    "height": 34
                },
                "outputId": "5edfe27a-e1ff-4c91-c955-2744fbab5361"
            }
        },
        {
            "cell_type": "code",
            "execution_count": null,
            "source": [
                "sr.index"
            ],
            "outputs": [
                {
                    "output_type": "display_data",
                    "data": {
                        "text/plain": [
                            "RangeIndex(start=0, stop=5, step=1)"
                        ]
                    },
                    "metadata": {}
                }
            ],
            "metadata": {
                "id": "r1ug8K6aQRf8",
                "colab": {
                    "base_uri": "https://localhost:8080/",
                    "height": 34
                },
                "outputId": "cc109b3c-1dae-4936-a38f-64b0a91170f6"
            }
        },
        {
            "cell_type": "code",
            "execution_count": null,
            "source": [
                "sr.shape"
            ],
            "outputs": [
                {
                    "output_type": "display_data",
                    "data": {
                        "text/plain": [
                            "(5,)"
                        ]
                    },
                    "metadata": {}
                }
            ],
            "metadata": {
                "id": "6RYSVqkKQW4s",
                "colab": {
                    "base_uri": "https://localhost:8080/",
                    "height": 34
                },
                "outputId": "0b0e8c06-6e73-4dba-85ce-d12bfdc8b214"
            }
        },
        {
            "cell_type": "code",
            "execution_count": 3,
            "source": [
                "sr[3]"
            ],
            "outputs": [
                {
                    "output_type": "execute_result",
                    "data": {
                        "text/plain": [
                            "7"
                        ]
                    },
                    "metadata": {},
                    "execution_count": 3
                }
            ],
            "metadata": {
                "id": "ra17jbejQuhB",
                "colab": {
                    "base_uri": "https://localhost:8080/",
                    "height": 34
                },
                "outputId": "6cda0a5c-2a99-4188-e392-83b9529034e9"
            }
        },
        {
            "cell_type": "code",
            "execution_count": 4,
            "source": [
                "sr[[3]]"
            ],
            "outputs": [
                {
                    "output_type": "execute_result",
                    "data": {
                        "text/plain": [
                            "3    7\n",
                            "dtype: int64"
                        ]
                    },
                    "metadata": {},
                    "execution_count": 4
                }
            ],
            "metadata": {}
        },
        {
            "cell_type": "markdown",
            "source": [
                "Hay que usar doble corechete cuadrado para acceder a los elementos"
            ],
            "metadata": {}
        },
        {
            "cell_type": "code",
            "execution_count": null,
            "source": [
                "sr[[0,4,2]]"
            ],
            "outputs": [
                {
                    "output_type": "display_data",
                    "data": {
                        "text/plain": [
                            "0    10\n",
                            "4     6\n",
                            "2     8\n",
                            "dtype: int64"
                        ]
                    },
                    "metadata": {}
                }
            ],
            "metadata": {
                "id": "QETxnX0XQ04n",
                "colab": {
                    "base_uri": "https://localhost:8080/",
                    "height": 85
                },
                "outputId": "fcebd137-8725-461a-885b-41f8b26a31df"
            }
        },
        {
            "cell_type": "code",
            "execution_count": 6,
            "source": [
                "sr = pd.Series([10,9,8,7,6], index = ['a','b','c','d','e'])\r\n",
                "sr"
            ],
            "outputs": [
                {
                    "output_type": "execute_result",
                    "data": {
                        "text/plain": [
                            "a    10\n",
                            "b     9\n",
                            "c     8\n",
                            "d     7\n",
                            "e     6\n",
                            "dtype: int64"
                        ]
                    },
                    "metadata": {},
                    "execution_count": 6
                }
            ],
            "metadata": {
                "id": "Mm0uWrywQ5D8",
                "colab": {
                    "base_uri": "https://localhost:8080/",
                    "height": 119
                },
                "outputId": "cf535a89-a120-437b-f5cc-809a5e0af27b"
            }
        },
        {
            "cell_type": "code",
            "execution_count": 7,
            "source": [
                "sr['c']"
            ],
            "outputs": [
                {
                    "output_type": "execute_result",
                    "data": {
                        "text/plain": [
                            "8"
                        ]
                    },
                    "metadata": {},
                    "execution_count": 7
                }
            ],
            "metadata": {
                "id": "lH7JvLwxRCus",
                "colab": {
                    "base_uri": "https://localhost:8080/",
                    "height": 34
                },
                "outputId": "2527f550-686b-40a0-8f51-0662a40992c2"
            }
        },
        {
            "cell_type": "code",
            "execution_count": 8,
            "source": [
                "sr[['c']]"
            ],
            "outputs": [
                {
                    "output_type": "execute_result",
                    "data": {
                        "text/plain": [
                            "c    8\n",
                            "dtype: int64"
                        ]
                    },
                    "metadata": {},
                    "execution_count": 8
                }
            ],
            "metadata": {}
        },
        {
            "cell_type": "code",
            "execution_count": null,
            "source": [
                "sr[['c','d','e']]"
            ],
            "outputs": [
                {
                    "output_type": "display_data",
                    "data": {
                        "text/plain": [
                            "c    8\n",
                            "d    7\n",
                            "e    6\n",
                            "dtype: int64"
                        ]
                    },
                    "metadata": {}
                }
            ],
            "metadata": {
                "id": "XJF7ZldrRJqN",
                "colab": {
                    "base_uri": "https://localhost:8080/",
                    "height": 85
                },
                "outputId": "44ad2639-0ec4-42ba-c0b9-d4e0f33b36a2"
            }
        },
        {
            "cell_type": "code",
            "execution_count": null,
            "source": [
                "sr['b':'e']"
            ],
            "outputs": [
                {
                    "output_type": "display_data",
                    "data": {
                        "text/plain": [
                            "b    9\n",
                            "c    8\n",
                            "d    7\n",
                            "e    6\n",
                            "dtype: int64"
                        ]
                    },
                    "metadata": {}
                }
            ],
            "metadata": {
                "id": "VABy74KMRMDg",
                "colab": {
                    "base_uri": "https://localhost:8080/",
                    "height": 102
                },
                "outputId": "11ec0351-250c-4711-ab20-81125f64ef48"
            }
        },
        {
            "cell_type": "code",
            "execution_count": null,
            "source": [
                "dict_data = {'CO':100,'MX':200,'AR':300}\r\n",
                "dict_data"
            ],
            "outputs": [
                {
                    "output_type": "display_data",
                    "data": {
                        "text/plain": [
                            "{'AR': 300, 'CO': 100, 'MX': 200}"
                        ]
                    },
                    "metadata": {}
                }
            ],
            "metadata": {
                "id": "8uC0sPu2RSaT",
                "colab": {
                    "base_uri": "https://localhost:8080/",
                    "height": 34
                },
                "outputId": "09b3730b-f4cd-4d11-922f-bfad8b826fa6"
            }
        },
        {
            "cell_type": "code",
            "execution_count": null,
            "source": [
                "dict_data.keys()"
            ],
            "outputs": [
                {
                    "output_type": "display_data",
                    "data": {
                        "text/plain": [
                            "dict_keys(['CO', 'MX', 'AR'])"
                        ]
                    },
                    "metadata": {}
                }
            ],
            "metadata": {
                "id": "QazMIsqRR6gG",
                "colab": {
                    "base_uri": "https://localhost:8080/",
                    "height": 34
                },
                "outputId": "1cafba51-d8b8-4f4c-f415-f6a2240377a9"
            }
        },
        {
            "cell_type": "code",
            "execution_count": null,
            "source": [
                "dict_data['MX']"
            ],
            "outputs": [
                {
                    "output_type": "display_data",
                    "data": {
                        "text/plain": [
                            "200"
                        ]
                    },
                    "metadata": {}
                }
            ],
            "metadata": {
                "id": "YmQBD5s9SCuQ",
                "colab": {
                    "base_uri": "https://localhost:8080/",
                    "height": 34
                },
                "outputId": "bd417a4c-5665-49df-bb01-e43f3d74ffba"
            }
        },
        {
            "cell_type": "code",
            "execution_count": null,
            "source": [
                "pd.Series(dict_data)"
            ],
            "outputs": [
                {
                    "output_type": "display_data",
                    "data": {
                        "text/plain": [
                            "CO    100\n",
                            "MX    200\n",
                            "AR    300\n",
                            "dtype: int64"
                        ]
                    },
                    "metadata": {}
                }
            ],
            "metadata": {
                "id": "vBv43EHRSHQW",
                "colab": {
                    "base_uri": "https://localhost:8080/",
                    "height": 85
                },
                "outputId": "44ea9279-0060-4bf8-dbec-8aee2ad80584"
            }
        },
        {
            "cell_type": "code",
            "execution_count": null,
            "source": [
                "pd.Series(dict_data, index=['CO','MX','PE'])"
            ],
            "outputs": [
                {
                    "output_type": "display_data",
                    "data": {
                        "text/plain": [
                            "CO    100.0\n",
                            "MX    200.0\n",
                            "PE      NaN\n",
                            "dtype: float64"
                        ]
                    },
                    "metadata": {}
                }
            ],
            "metadata": {
                "id": "6zDkNKVlSRdd",
                "colab": {
                    "base_uri": "https://localhost:8080/",
                    "height": 85
                },
                "outputId": "ff6bd111-3f04-4ff8-9c4f-ccb83fabd41b"
            }
        },
        {
            "cell_type": "markdown",
            "source": [],
            "metadata": {}
        },
        {
            "cell_type": "code",
            "execution_count": null,
            "source": [
                "import numpy as np"
            ],
            "outputs": [],
            "metadata": {
                "id": "Os_QZJYeSeDJ"
            }
        },
        {
            "cell_type": "code",
            "execution_count": null,
            "source": [
                "np.nan"
            ],
            "outputs": [
                {
                    "output_type": "display_data",
                    "data": {
                        "text/plain": [
                            "nan"
                        ]
                    },
                    "metadata": {}
                }
            ],
            "metadata": {
                "id": "hAEig_PrSnQC",
                "colab": {
                    "base_uri": "https://localhost:8080/",
                    "height": 34
                },
                "outputId": "bc22e87d-c4f2-4c35-f507-c46ab9fd064e"
            }
        },
        {
            "cell_type": "code",
            "execution_count": null,
            "source": [
                "np.nan + 10"
            ],
            "outputs": [
                {
                    "output_type": "display_data",
                    "data": {
                        "text/plain": [
                            "nan"
                        ]
                    },
                    "metadata": {}
                }
            ],
            "metadata": {
                "id": "Qf1a7AORSoSk",
                "colab": {
                    "base_uri": "https://localhost:8080/",
                    "height": 34
                },
                "outputId": "222de70b-4670-41b4-8775-99b497df6bb2"
            }
        },
        {
            "cell_type": "code",
            "execution_count": null,
            "source": [
                "np.nan * 10"
            ],
            "outputs": [
                {
                    "output_type": "display_data",
                    "data": {
                        "text/plain": [
                            "nan"
                        ]
                    },
                    "metadata": {}
                }
            ],
            "metadata": {
                "id": "1H7Xs3BVS0YU",
                "colab": {
                    "base_uri": "https://localhost:8080/",
                    "height": 34
                },
                "outputId": "2f64a5d8-204b-465b-f2fa-eb8edd604604"
            }
        },
        {
            "cell_type": "code",
            "execution_count": null,
            "source": [
                "sr = pd.Series(dict_data, index=['CO','MX','PE'])\r\n",
                "sr"
            ],
            "outputs": [
                {
                    "output_type": "display_data",
                    "data": {
                        "text/plain": [
                            "CO    100.0\n",
                            "MX    200.0\n",
                            "PE      NaN\n",
                            "dtype: float64"
                        ]
                    },
                    "metadata": {}
                }
            ],
            "metadata": {
                "id": "4fVOasFyTKkX",
                "colab": {
                    "base_uri": "https://localhost:8080/",
                    "height": 85
                },
                "outputId": "acfe37f0-7eff-40a9-d658-fad6580fc249"
            }
        },
        {
            "cell_type": "code",
            "execution_count": null,
            "source": [
                "sr.isnull()"
            ],
            "outputs": [
                {
                    "output_type": "display_data",
                    "data": {
                        "text/plain": [
                            "CO    False\n",
                            "MX    False\n",
                            "PE     True\n",
                            "dtype: bool"
                        ]
                    },
                    "metadata": {}
                }
            ],
            "metadata": {
                "id": "6MQDDuE6TRQ5",
                "colab": {
                    "base_uri": "https://localhost:8080/",
                    "height": 85
                },
                "outputId": "05e59d9e-f959-48b6-f967-8cb08f05bd9f"
            }
        },
        {
            "cell_type": "code",
            "execution_count": null,
            "source": [
                "sr.notnull()"
            ],
            "outputs": [
                {
                    "output_type": "display_data",
                    "data": {
                        "text/plain": [
                            "CO     True\n",
                            "MX     True\n",
                            "PE    False\n",
                            "dtype: bool"
                        ]
                    },
                    "metadata": {}
                }
            ],
            "metadata": {
                "id": "Cq-7rq5JTSxI",
                "colab": {
                    "base_uri": "https://localhost:8080/",
                    "height": 85
                },
                "outputId": "30ec5944-5afb-4d94-e504-c4109426990a"
            }
        }
    ],
    "metadata": {
        "orig_nbformat": 4,
        "language_info": {
            "name": "python",
            "version": "3.7.9",
            "mimetype": "text/x-python",
            "codemirror_mode": {
                "name": "ipython",
                "version": 3
            },
            "pygments_lexer": "ipython3",
            "nbconvert_exporter": "python",
            "file_extension": ".py"
        },
        "kernelspec": {
            "name": "python3",
            "display_name": "Python 3.7.9 64-bit ('venv': venv)"
        },
        "interpreter": {
            "hash": "6ce4fcc13b7b51697d74f9cbc9f7acfdaf569a2d698e070ce181efa866f391de"
        }
    },
    "nbformat": 4,
    "nbformat_minor": 2
}